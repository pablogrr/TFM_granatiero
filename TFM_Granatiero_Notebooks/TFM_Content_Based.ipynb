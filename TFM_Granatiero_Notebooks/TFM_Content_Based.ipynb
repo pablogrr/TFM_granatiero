{
 "cells": [
  {
   "cell_type": "markdown",
   "metadata": {},
   "source": [
    "## <font color='red'>Content Based</font> \n"
   ]
  },
  {
   "cell_type": "code",
   "execution_count": 1,
   "metadata": {},
   "outputs": [],
   "source": [
    "import os\n",
    "import re\n",
    "from scipy.spatial import distance\n",
    "from sklearn.preprocessing import Normalizer\n",
    "from scipy.spatial import distance\n",
    "from sklearn.model_selection import train_test_split"
   ]
  },
  {
   "cell_type": "code",
   "execution_count": 2,
   "metadata": {},
   "outputs": [],
   "source": [
    "from TFM_Granatiero_Utils.TFM_Pre_Process import *"
   ]
  },
  {
   "cell_type": "code",
   "execution_count": 5,
   "metadata": {},
   "outputs": [
    {
     "data": {
      "text/plain": [
       "(458641, 9)"
      ]
     },
     "execution_count": 5,
     "metadata": {},
     "output_type": "execute_result"
    }
   ],
   "source": [
    "data_full = pd.read_csv('../TFM_Granatiero_Data/week_01mar_30abr.csv', index_col=0)\n",
    "restaurants_df = pd.read_csv('../TFM_Granatiero_Data/restaurants_Datos_Init_01_05_2021.csv', index_col=0)\n",
    "data_full.shape"
   ]
  },
  {
   "cell_type": "code",
   "execution_count": 25,
   "metadata": {},
   "outputs": [],
   "source": [
    "def open_app_datas(dir_path):\n",
    "    \n",
    "    def save_Datos(name, dir_path):\n",
    "        file_path = dir_path + '/' + name + '.csv' \n",
    "        return pd.read_csv(file_path)\n",
    "\n",
    "    list_of_df = []\n",
    "    for filename_csv in os.listdir(dir_path):\n",
    "        if filename_csv.endswith(\".csv\"):\n",
    "            filename = os.path.splitext(filename_csv)[0]\n",
    "            globals()[filename] = save_Datos(filename, dir_path)\n",
    "            list_of_df.append(filename)\n",
    "    \n",
    "    return list_of_df "
   ]
  },
  {
   "cell_type": "code",
   "execution_count": 26,
   "metadata": {},
   "outputs": [
    {
     "data": {
      "text/plain": [
       "['homes__first_action_neighborhoods',\n",
       " 'reservations',\n",
       " 'strapi_permission',\n",
       " 'homes__second_action_food_types',\n",
       " 'homes__second_action_neighborhoods',\n",
       " 'homes',\n",
       " 'profiles__vibes',\n",
       " 'push_tokens',\n",
       " 'components_restaurants_promoteds',\n",
       " 'vibe',\n",
       " 'neighborhoods',\n",
       " 'profiles',\n",
       " 'homes__first_action_food_types',\n",
       " 'restaurants_components',\n",
       " 'homecards__vibes',\n",
       " 'foodtypes',\n",
       " 'users-permissions_permission',\n",
       " 'homecards',\n",
       " 'profiles__food_types',\n",
       " 'strapi_webhooks',\n",
       " 'profiles__favorites',\n",
       " 'profiles__push_tokens',\n",
       " 'app_homes__home_cards',\n",
       " 'homes__second_action_vibes',\n",
       " 'homecards__food_types',\n",
       " 'strapi_users_roles',\n",
       " 'strapi_role',\n",
       " 'homecards__neighborhoods',\n",
       " 'core_store',\n",
       " 'cities',\n",
       " 'permissions_role',\n",
       " 'vibes',\n",
       " 'permissions_user',\n",
       " 'homecards__localizations',\n",
       " 'promos',\n",
       " 'components_restaurants_promoteds__vibes',\n",
       " 'locales',\n",
       " 'components_restaurants_promoteds__food_types',\n",
       " 'promos__vibes',\n",
       " 'components_restaurants_information',\n",
       " 'promos__food_types',\n",
       " 'app_homes',\n",
       " 'homes__first_action_vibes',\n",
       " 'restaurants__vibes',\n",
       " 'upload_file_morph',\n",
       " 'upload_file',\n",
       " 'components_restaurants_cover_managers',\n",
       " 'restaurants__food_types',\n",
       " 'components_restaurants_geolocations',\n",
       " 'profiles__blacklist',\n",
       " 'cities__neighborhoods',\n",
       " 'strapi_administrator',\n",
       " 'promos__neighborhoods',\n",
       " 'restaurants']"
      ]
     },
     "execution_count": 26,
     "metadata": {},
     "output_type": "execute_result"
    }
   ],
   "source": [
    "list_data_init = open_app_datas('../TFM_Granatiero_Data/Datos_Init_01_05_2021')\n",
    "list_data_init"
   ]
  },
  {
   "cell_type": "code",
   "execution_count": 14,
   "metadata": {},
   "outputs": [],
   "source": [
    "from TFM_Granatiero_Utils.TFM_Content_Based import *"
   ]
  },
  {
   "cell_type": "markdown",
   "metadata": {},
   "source": [
    "Manually filling a missing neighborhood field"
   ]
  },
  {
   "cell_type": "code",
   "execution_count": 16,
   "metadata": {},
   "outputs": [],
   "source": [
    "restaurants_df.loc[270,'neighborhood']=34.0"
   ]
  },
  {
   "cell_type": "markdown",
   "metadata": {},
   "source": [
    "## Check if Content Based is properly working"
   ]
  },
  {
   "cell_type": "code",
   "execution_count": 17,
   "metadata": {},
   "outputs": [],
   "source": [
    "score_bin = pd.read_csv('../TFM_Granatiero_Data/score_bin.csv', index_col=0)\n",
    "data_full = pd.read_csv('../TFM_Granatiero_Data/week_01mar_30abr.csv', index_col=0)\n"
   ]
  },
  {
   "cell_type": "code",
   "execution_count": 23,
   "metadata": {},
   "outputs": [],
   "source": [
    "UI_bin = get_User_Items_bin(score_bin, min_rated_restaurants=1, min_rated_users=1)"
   ]
  },
  {
   "cell_type": "code",
   "execution_count": 20,
   "metadata": {},
   "outputs": [],
   "source": [
    "UI_bin = fit_User_Items_bin(score_bin, min_rated_restaurants=1, min_rated_users=1, Normalize=False)"
   ]
  },
  {
   "cell_type": "code",
   "execution_count": 29,
   "metadata": {},
   "outputs": [
    {
     "name": "stderr",
     "output_type": "stream",
     "text": [
      "/Users/pablogranatiero/Desktop/TFM_STRUCTURE/TFM_Granatiero_Notebooks/TFM_Granatiero_Utils/TFM_Content_Based.py:69: SettingWithCopyWarning: \n",
      "A value is trying to be set on a copy of a slice from a DataFrame.\n",
      "Try using .loc[row_indexer,col_indexer] = value instead\n",
      "\n",
      "See the caveats in the documentation: https://pandas.pydata.org/pandas-docs/stable/user_guide/indexing.html#returning-a-view-versus-a-copy\n",
      "  Items_df['stars']  = Items_df['stars'].fillna(0)\n"
     ]
    }
   ],
   "source": [
    "rec = Content_Based_Recc(data_full, UI_bin, restaurants, restaurants__food_types, restaurants__vibes,\\\n",
    "                      foodtypes, vibes, neighborhoods)\n",
    "rec.fit_Items_Content_df()\n",
    "rec.fit_User_Content_df()\n",
    "#rec.normalize_content_df()"
   ]
  },
  {
   "cell_type": "markdown",
   "metadata": {},
   "source": [
    "#### Check if price is correct"
   ]
  },
  {
   "cell_type": "code",
   "execution_count": 30,
   "metadata": {},
   "outputs": [
    {
     "data": {
      "text/plain": [
       "Index(['price_num_20-40', 'price_num_40-60', 'price_num_60-80',\n",
       "       'price_num_80-100', 'price_num_< 20', 'price_num_> 100'],\n",
       "      dtype='object')"
      ]
     },
     "execution_count": 30,
     "metadata": {},
     "output_type": "execute_result"
    }
   ],
   "source": [
    "price_cols = rec.Items_Content_df.columns[-6:]\n",
    "price_cols"
   ]
  },
  {
   "cell_type": "code",
   "execution_count": 32,
   "metadata": {},
   "outputs": [
    {
     "name": "stdout",
     "output_type": "stream",
     "text": [
      "price_num_20-40    1.0\n",
      "Name: 452, dtype: float64\n"
     ]
    },
    {
     "data": {
      "text/plain": [
       "'Entre 30€\\xa0y 40€ por persona'"
      ]
     },
     "execution_count": 32,
     "metadata": {},
     "output_type": "execute_result"
    }
   ],
   "source": [
    "u=6;r=452\n",
    "print(rec.Items_Content_df.loc[r,price_cols][rec.Items_Content_df.loc[r,price_cols]!=0])\n",
    "restaurants.set_index('id').loc[r,:].price"
   ]
  },
  {
   "cell_type": "code",
   "execution_count": 33,
   "metadata": {},
   "outputs": [],
   "source": [
    "UI_bin.columns = [rec.dict_id_unoff2off[i] for i in UI_bin.columns]"
   ]
  },
  {
   "cell_type": "code",
   "execution_count": 34,
   "metadata": {},
   "outputs": [
    {
     "data": {
      "text/plain": [
       "array([343, 486, 353, 377, 363, 357])"
      ]
     },
     "execution_count": 34,
     "metadata": {},
     "output_type": "execute_result"
    }
   ],
   "source": [
    "rs = UI_bin.loc[u,:][UI_bin.loc[u,:]==1].index.values\n",
    "rs"
   ]
  },
  {
   "cell_type": "code",
   "execution_count": 35,
   "metadata": {},
   "outputs": [
    {
     "data": {
      "text/plain": [
       "price_num_20-40     0.333333\n",
       "price_num_40-60     0.666667\n",
       "price_num_60-80     0.000000\n",
       "price_num_80-100    0.000000\n",
       "price_num_< 20      0.000000\n",
       "price_num_> 100     0.000000\n",
       "dtype: float64"
      ]
     },
     "execution_count": 35,
     "metadata": {},
     "output_type": "execute_result"
    }
   ],
   "source": [
    "checks_rs=np.zeros(len(price_cols))\n",
    "\n",
    "for r in rs:\n",
    "    to_add = rec.Items_Content_df.loc[r,price_cols]\n",
    "    to_add = to_add.where(to_add==0,1)\n",
    "    checks_rs = checks_rs + to_add\n",
    "    \n",
    "checks_rs = checks_rs/sum(checks_rs)\n",
    "checks_rs"
   ]
  },
  {
   "cell_type": "code",
   "execution_count": 36,
   "metadata": {},
   "outputs": [
    {
     "data": {
      "text/plain": [
       "price_num_20-40     0.333333\n",
       "price_num_40-60     0.666667\n",
       "price_num_60-80            0\n",
       "price_num_80-100           0\n",
       "price_num_< 20             0\n",
       "price_num_> 100            0\n",
       "Name: 6, dtype: object"
      ]
     },
     "execution_count": 36,
     "metadata": {},
     "output_type": "execute_result"
    }
   ],
   "source": [
    "rec.User_Content_df.loc[u,price_cols]"
   ]
  },
  {
   "cell_type": "markdown",
   "metadata": {},
   "source": [
    "### Check if type is correct"
   ]
  },
  {
   "cell_type": "code",
   "execution_count": 15,
   "metadata": {},
   "outputs": [
    {
     "data": {
      "text/plain": [
       "Index(['food-type_id 1', 'food-type_id 2', 'food-type_id 3', 'food-type_id 4',\n",
       "       'food-type_id 5', 'food-type_id 6', 'food-type_id 7', 'food-type_id 8',\n",
       "       'food-type_id 9', 'food-type_id 10', 'food-type_id 11',\n",
       "       'food-type_id 12', 'food-type_id 13', 'food-type_id 14',\n",
       "       'food-type_id 15', 'food-type_id 16', 'food-type_id 17',\n",
       "       'food-type_id 18', 'food-type_id 19', 'food-type_id 20',\n",
       "       'food-type_id 21', 'food-type_id 23', 'food-type_id 24',\n",
       "       'food-type_id 25'],\n",
       "      dtype='object')"
      ]
     },
     "execution_count": 15,
     "metadata": {},
     "output_type": "execute_result"
    }
   ],
   "source": [
    "type_cols = rec.Items_Content_df.columns[:24]\n",
    "type_cols"
   ]
  },
  {
   "cell_type": "code",
   "execution_count": 16,
   "metadata": {},
   "outputs": [
    {
     "data": {
      "text/plain": [
       "24"
      ]
     },
     "execution_count": 16,
     "metadata": {},
     "output_type": "execute_result"
    }
   ],
   "source": [
    "len(type_cols)"
   ]
  },
  {
   "cell_type": "code",
   "execution_count": 21,
   "metadata": {},
   "outputs": [
    {
     "name": "stdout",
     "output_type": "stream",
     "text": [
      "Index(['food-type_id 1', 'food-type_id 3'], dtype='object')\n"
     ]
    },
    {
     "data": {
      "text/plain": [
       "Int64Index([3, 1], dtype='int64', name='id')"
      ]
     },
     "execution_count": 21,
     "metadata": {},
     "output_type": "execute_result"
    }
   ],
   "source": [
    "r=319\n",
    "print(rec.Items_Content_df.loc[r,type_cols][rec.Items_Content_df.loc[r,type_cols]!=0].index)\n",
    "ids = restaurants__food_types.set_index('restaurant_id').loc[r,'food-type_id'].values\n",
    "foodtypes_Datos_Init_01_05_2021.set_index('id').loc[ids,:].index"
   ]
  },
  {
   "cell_type": "code",
   "execution_count": 22,
   "metadata": {},
   "outputs": [
    {
     "data": {
      "text/plain": [
       "(food-type_id 1     0.20\n",
       " food-type_id 3     0.10\n",
       " food-type_id 4     0.05\n",
       " food-type_id 5     0.05\n",
       " food-type_id 6     0.10\n",
       " food-type_id 13    0.05\n",
       " food-type_id 15    0.05\n",
       " food-type_id 16    0.05\n",
       " food-type_id 17    0.10\n",
       " food-type_id 19    0.20\n",
       " food-type_id 20    0.05\n",
       " dtype: float64,\n",
       " food-type_id 1      0.2\n",
       " food-type_id 3      0.1\n",
       " food-type_id 4     0.05\n",
       " food-type_id 5     0.05\n",
       " food-type_id 6      0.1\n",
       " food-type_id 13    0.05\n",
       " food-type_id 15    0.05\n",
       " food-type_id 16    0.05\n",
       " food-type_id 17     0.1\n",
       " food-type_id 19     0.2\n",
       " food-type_id 20    0.05\n",
       " Name: 2, dtype: object)"
      ]
     },
     "execution_count": 22,
     "metadata": {},
     "output_type": "execute_result"
    }
   ],
   "source": [
    "u=2\n",
    "rs = UI_bin.loc[u,:][UI_bin.loc[u,:]==1].index.values\n",
    "checks_ty=np.zeros(len(type_cols))\n",
    "\n",
    "for r in rs:\n",
    "    to_add = rec.Items_Content_df.loc[r,type_cols]\n",
    "    to_add = to_add.where(to_add==0,1)\n",
    "    checks_ty = checks_ty + to_add\n",
    "    \n",
    "checks_ty = checks_ty/sum(checks_ty)\n",
    "checks_ty[checks_ty!=0], rec.User_Content_df.loc[u,type_cols][rec.User_Content_df.loc[u,type_cols]!=0]"
   ]
  },
  {
   "cell_type": "markdown",
   "metadata": {},
   "source": [
    "### Check if vibe is correct"
   ]
  },
  {
   "cell_type": "code",
   "execution_count": 17,
   "metadata": {},
   "outputs": [
    {
     "data": {
      "text/plain": [
       "Index(['vibe_id 5', 'vibe_id 6', 'vibe_id 7', 'vibe_id 8', 'vibe_id 9',\n",
       "       'vibe_id 10', 'vibe_id 11', 'vibe_id 12', 'vibe_id 13', 'vibe_id 14',\n",
       "       'vibe_id 15', 'vibe_id 16', 'vibe_id 17', 'vibe_id 18', 'vibe_id 19',\n",
       "       'vibe_id 20', 'vibe_id 21', 'vibe_id 22', 'vibe_id 23', 'vibe_id 24',\n",
       "       'vibe_id 25', 'vibe_id 26', 'vibe_id 27', 'vibe_id 28', 'vibe_id 29',\n",
       "       'vibe_id 30', 'vibe_id 31', 'vibe_id 32', 'vibe_id 33', 'vibe_id 35'],\n",
       "      dtype='object')"
      ]
     },
     "execution_count": 17,
     "metadata": {},
     "output_type": "execute_result"
    }
   ],
   "source": [
    "vibe_cols = rec.Items_Content_df.columns[24:54]\n",
    "vibe_cols"
   ]
  },
  {
   "cell_type": "code",
   "execution_count": 18,
   "metadata": {},
   "outputs": [
    {
     "data": {
      "text/plain": [
       "30"
      ]
     },
     "execution_count": 18,
     "metadata": {},
     "output_type": "execute_result"
    }
   ],
   "source": [
    "len(vibe_cols)"
   ]
  },
  {
   "cell_type": "code",
   "execution_count": 24,
   "metadata": {},
   "outputs": [
    {
     "name": "stdout",
     "output_type": "stream",
     "text": [
      "Index(['vibe_id 5', 'vibe_id 7', 'vibe_id 12', 'vibe_id 15', 'vibe_id 17',\n",
      "       'vibe_id 25', 'vibe_id 33'],\n",
      "      dtype='object')\n"
     ]
    },
    {
     "data": {
      "text/plain": [
       "Int64Index([12, 15, 17, 5, 33, 7, 25], dtype='int64', name='id')"
      ]
     },
     "execution_count": 24,
     "metadata": {},
     "output_type": "execute_result"
    }
   ],
   "source": [
    "r=319\n",
    "print(rec.Items_Content_df.loc[r,vibe_cols][rec.Items_Content_df.loc[r,vibe_cols]!=0].index)\n",
    "ids = restaurants__vibes.set_index('restaurant_id').loc[r,'vibe_id'].values\n",
    "vibes.set_index('id').loc[ids,:].index"
   ]
  },
  {
   "cell_type": "code",
   "execution_count": 25,
   "metadata": {},
   "outputs": [
    {
     "data": {
      "text/plain": [
       "(vibe_id 5     0.081967\n",
       " vibe_id 6     0.049180\n",
       " vibe_id 7     0.098361\n",
       " vibe_id 8     0.032787\n",
       " vibe_id 10    0.065574\n",
       " vibe_id 12    0.016393\n",
       " vibe_id 13    0.032787\n",
       " vibe_id 14    0.065574\n",
       " vibe_id 15    0.065574\n",
       " vibe_id 16    0.032787\n",
       " vibe_id 17    0.032787\n",
       " vibe_id 18    0.147541\n",
       " vibe_id 21    0.098361\n",
       " vibe_id 22    0.016393\n",
       " vibe_id 23    0.016393\n",
       " vibe_id 24    0.049180\n",
       " vibe_id 25    0.049180\n",
       " vibe_id 33    0.032787\n",
       " vibe_id 35    0.016393\n",
       " dtype: float64,\n",
       " vibe_id 5     0.0819672\n",
       " vibe_id 6     0.0491803\n",
       " vibe_id 7     0.0983607\n",
       " vibe_id 8     0.0327869\n",
       " vibe_id 10    0.0655738\n",
       " vibe_id 12    0.0163934\n",
       " vibe_id 13    0.0327869\n",
       " vibe_id 14    0.0655738\n",
       " vibe_id 15    0.0655738\n",
       " vibe_id 16    0.0327869\n",
       " vibe_id 17    0.0327869\n",
       " vibe_id 18     0.147541\n",
       " vibe_id 21    0.0983607\n",
       " vibe_id 22    0.0163934\n",
       " vibe_id 23    0.0163934\n",
       " vibe_id 24    0.0491803\n",
       " vibe_id 25    0.0491803\n",
       " vibe_id 33    0.0327869\n",
       " vibe_id 35    0.0163934\n",
       " Name: 2, dtype: object)"
      ]
     },
     "execution_count": 25,
     "metadata": {},
     "output_type": "execute_result"
    }
   ],
   "source": [
    "u=2\n",
    "rs = UI_bin.loc[u,:][UI_bin.loc[u,:]==1].index.values\n",
    "checks_vi=np.zeros(len(vibe_cols))\n",
    "\n",
    "for r in rs:\n",
    "    to_add = rec.Items_Content_df.loc[r,vibe_cols]\n",
    "    to_add = to_add.where(to_add==0,1)\n",
    "    checks_vi = checks_vi + to_add\n",
    "    \n",
    "checks_vi = checks_vi/sum(checks_vi)\n",
    "checks_vi[checks_vi!=0], rec.User_Content_df.loc[u,vibe_cols][rec.User_Content_df.loc[u,vibe_cols]!=0]"
   ]
  },
  {
   "cell_type": "markdown",
   "metadata": {},
   "source": [
    "### Check if stars is correct"
   ]
  },
  {
   "cell_type": "code",
   "execution_count": 26,
   "metadata": {},
   "outputs": [
    {
     "data": {
      "text/plain": [
       "Index(['stars_0.0', 'stars_1.0', 'stars_2.0', 'stars_3.0'], dtype='object')"
      ]
     },
     "execution_count": 26,
     "metadata": {},
     "output_type": "execute_result"
    }
   ],
   "source": [
    "stars_cols = rec.Items_Content_df.columns[54:58]\n",
    "stars_cols"
   ]
  },
  {
   "cell_type": "code",
   "execution_count": 27,
   "metadata": {},
   "outputs": [
    {
     "name": "stdout",
     "output_type": "stream",
     "text": [
      "Index(['stars_2.0'], dtype='object')\n"
     ]
    },
    {
     "data": {
      "text/plain": [
       "2.0"
      ]
     },
     "execution_count": 27,
     "metadata": {},
     "output_type": "execute_result"
    }
   ],
   "source": [
    "r=401\n",
    "print(rec.Items_Content_df.loc[r,stars_cols][rec.Items_Content_df.loc[r,stars_cols]!=0].index)\n",
    "restaurants.set_index('id').loc[r,:].stars"
   ]
  },
  {
   "cell_type": "code",
   "execution_count": 28,
   "metadata": {},
   "outputs": [
    {
     "data": {
      "text/plain": [
       "(stars_0.0    0.370370\n",
       " stars_1.0    0.444444\n",
       " stars_2.0    0.148148\n",
       " stars_3.0    0.037037\n",
       " dtype: float64,\n",
       " stars_0.0     0.37037\n",
       " stars_1.0    0.444444\n",
       " stars_2.0    0.148148\n",
       " stars_3.0    0.037037\n",
       " Name: 7, dtype: object)"
      ]
     },
     "execution_count": 28,
     "metadata": {},
     "output_type": "execute_result"
    }
   ],
   "source": [
    "u=7\n",
    "rs = UI_bin.loc[u,:][UI_bin.loc[u,:]==1].index.values\n",
    "checks_vi=np.zeros(len(stars_cols))\n",
    "\n",
    "for r in rs:\n",
    "    to_add = rec.Items_Content_df.loc[r,stars_cols]\n",
    "    to_add = to_add.where(to_add==0,1)\n",
    "    checks_vi = checks_vi + to_add\n",
    "    \n",
    "checks_vi = checks_vi/sum(checks_vi)\n",
    "checks_vi[checks_vi!=0], rec.User_Content_df.loc[u,stars_cols][rec.User_Content_df.loc[u,stars_cols]!=0]"
   ]
  },
  {
   "cell_type": "markdown",
   "metadata": {},
   "source": [
    "### Check if neigh is correct"
   ]
  },
  {
   "cell_type": "code",
   "execution_count": 40,
   "metadata": {},
   "outputs": [
    {
     "data": {
      "text/plain": [
       "Index(['neighborhood_24.0', 'neighborhood_25.0', 'neighborhood_26.0',\n",
       "       'neighborhood_28.0', 'neighborhood_29.0', 'neighborhood_30.0',\n",
       "       'neighborhood_32.0', 'neighborhood_34.0', 'neighborhood_40.0',\n",
       "       'neighborhood_42.0', 'neighborhood_43.0', 'neighborhood_44.0',\n",
       "       'neighborhood_45.0', 'neighborhood_46.0', 'neighborhood_48.0',\n",
       "       'neighborhood_49.0', 'neighborhood_52.0', 'neighborhood_53.0',\n",
       "       'neighborhood_54.0', 'neighborhood_nan'],\n",
       "      dtype='object')"
      ]
     },
     "execution_count": 40,
     "metadata": {},
     "output_type": "execute_result"
    }
   ],
   "source": [
    "n_cols = rec.Items_Content_df.columns[58:-6]\n",
    "n_cols"
   ]
  },
  {
   "cell_type": "code",
   "execution_count": 30,
   "metadata": {},
   "outputs": [
    {
     "name": "stdout",
     "output_type": "stream",
     "text": [
      "Index(['neighborhood_24.0'], dtype='object')\n"
     ]
    },
    {
     "data": {
      "text/plain": [
       "24.0"
      ]
     },
     "execution_count": 30,
     "metadata": {},
     "output_type": "execute_result"
    }
   ],
   "source": [
    "r=319\n",
    "print(rec.Items_Content_df.loc[r,n_cols][rec.Items_Content_df.loc[r,n_cols]!=0].index)\n",
    "restaurants.set_index('id').loc[r,:].neighborhood\n"
   ]
  },
  {
   "cell_type": "code",
   "execution_count": 31,
   "metadata": {},
   "outputs": [
    {
     "data": {
      "text/plain": [
       "(neighborhood_24.0    0.111111\n",
       " neighborhood_25.0    0.037037\n",
       " neighborhood_26.0    0.037037\n",
       " neighborhood_28.0    0.111111\n",
       " neighborhood_29.0    0.111111\n",
       " neighborhood_34.0    0.222222\n",
       " neighborhood_40.0    0.074074\n",
       " neighborhood_42.0    0.037037\n",
       " neighborhood_43.0    0.185185\n",
       " neighborhood_44.0    0.037037\n",
       " neighborhood_45.0    0.037037\n",
       " dtype: float64,\n",
       " neighborhood_24.0     0.111111\n",
       " neighborhood_25.0     0.037037\n",
       " neighborhood_26.0     0.037037\n",
       " neighborhood_28.0     0.111111\n",
       " neighborhood_29.0     0.111111\n",
       " neighborhood_34.0     0.222222\n",
       " neighborhood_40.0    0.0740741\n",
       " neighborhood_42.0     0.037037\n",
       " neighborhood_43.0     0.185185\n",
       " neighborhood_44.0     0.037037\n",
       " neighborhood_45.0     0.037037\n",
       " Name: 7, dtype: object)"
      ]
     },
     "execution_count": 31,
     "metadata": {},
     "output_type": "execute_result"
    }
   ],
   "source": [
    "u=7\n",
    "rs = UI_bin.loc[u,:][UI_bin.loc[u,:]==1].index.values\n",
    "checks_vi=np.zeros(len(n_cols))\n",
    "\n",
    "for r in rs:\n",
    "    to_add = rec.Items_Content_df.loc[r,n_cols]\n",
    "    to_add = to_add.where(to_add==0,1)\n",
    "    checks_vi = checks_vi + to_add\n",
    "    \n",
    "checks_vi = checks_vi/sum(checks_vi)\n",
    "checks_vi[checks_vi!=0], rec.User_Content_df.loc[u,n_cols][rec.User_Content_df.loc[u,n_cols]!=0]"
   ]
  },
  {
   "cell_type": "markdown",
   "metadata": {},
   "source": [
    "### Check if normilized"
   ]
  },
  {
   "cell_type": "code",
   "execution_count": 37,
   "metadata": {},
   "outputs": [
    {
     "data": {
      "text/plain": [
       "True"
      ]
     },
     "execution_count": 37,
     "metadata": {},
     "output_type": "execute_result"
    }
   ],
   "source": [
    "rec.normalize_content_df()\n",
    "r=321; u=13\n",
    "np.linalg.norm(rec.Items_Content_df.loc[r,:])==np.linalg.norm(rec.User_Content_df.loc[u,:])"
   ]
  },
  {
   "cell_type": "markdown",
   "metadata": {},
   "source": [
    "### Check Ranking"
   ]
  },
  {
   "cell_type": "code",
   "execution_count": 41,
   "metadata": {},
   "outputs": [],
   "source": [
    "user_id=13\n",
    "items_to_check = UI_bin.loc[user_id,:][UI_bin.loc[user_id,:]==0].index\n",
    "User_Content_usr  = rec.User_Content_df.drop(columns=n_cols).loc[[user_id],:]\n",
    "Items_Content_check = rec.Items_Content_df.drop(columns=n_cols).loc[items_to_check,:]\n",
    "Items_Content_check.iloc[:,:]  = Normalizer(norm='l2').fit_transform(Items_Content_check)\n",
    "User_Content_usr.iloc[:,:]     = Normalizer(norm='l2').fit_transform(User_Content_usr)\n",
    "user_distances = pd.DataFrame(columns=['Distance'], index=items_to_check)\n",
    "for rest in items_to_check:\n",
    "    user_distances.loc[rest,'Distance'] = distance.cosine(User_Content_usr, Items_Content_check.loc[rest,:])"
   ]
  },
  {
   "cell_type": "code",
   "execution_count": 48,
   "metadata": {},
   "outputs": [
    {
     "data": {
      "text/plain": [
       "array([ True,  True,  True,  True,  True])"
      ]
     },
     "execution_count": 48,
     "metadata": {},
     "output_type": "execute_result"
    }
   ],
   "source": [
    "user_distances.sort_values(by='Distance')[:5].index.values==rec.predict_K_ranked(13, columns_to_drop=n_cols, K = 5, binary=True).index.values"
   ]
  },
  {
   "cell_type": "markdown",
   "metadata": {},
   "source": [
    "## Experiment Content: training the algorithm with test_size = 0.1, over min_like=5\n"
   ]
  },
  {
   "cell_type": "markdown",
   "metadata": {},
   "source": [
    "### Train Full Binary Model considering all features"
   ]
  },
  {
   "cell_type": "code",
   "execution_count": 49,
   "metadata": {},
   "outputs": [
    {
     "data": {
      "text/plain": [
       "count    1372.000000\n",
       "mean       16.012391\n",
       "std        14.445471\n",
       "min         5.000000\n",
       "25%         7.000000\n",
       "50%        11.000000\n",
       "75%        20.000000\n",
       "max       111.000000\n",
       "dtype: float64"
      ]
     },
     "execution_count": 49,
     "metadata": {},
     "output_type": "execute_result"
    }
   ],
   "source": [
    "train, test = train_test_split(score_bin, test_size=0.1)\n",
    "UI_tr = get_User_Items_bin(train, 5, 5)\n",
    "UI_tr.sum(axis=1).describe()"
   ]
  },
  {
   "cell_type": "code",
   "execution_count": 50,
   "metadata": {},
   "outputs": [
    {
     "name": "stderr",
     "output_type": "stream",
     "text": [
      "/Users/pablogranatiero/Desktop/TFM_STRUCTURE/TFM_Granatiero_Notebooks/TFM_Granatiero_Utils/TFM_Content_Based.py:69: SettingWithCopyWarning: \n",
      "A value is trying to be set on a copy of a slice from a DataFrame.\n",
      "Try using .loc[row_indexer,col_indexer] = value instead\n",
      "\n",
      "See the caveats in the documentation: https://pandas.pydata.org/pandas-docs/stable/user_guide/indexing.html#returning-a-view-versus-a-copy\n",
      "  Items_df['stars']  = Items_df['stars'].fillna(0)\n"
     ]
    }
   ],
   "source": [
    "rec = Content_Based_Recc(data_full, UI_tr, restaurants, \\\n",
    "                      restaurants__food_types, restaurants__vibes,\\\n",
    "                      foodtypes, vibes, \\\n",
    "                      neighborhoods)\n",
    "rec.fit_Items_Content_df()\n",
    "rec.fit_User_Content_df()"
   ]
  },
  {
   "cell_type": "code",
   "execution_count": 51,
   "metadata": {},
   "outputs": [],
   "source": [
    "def scores_bin(score_data_bin, repeat, K, col2drop, min_rated_restaurants=1, min_rated_users=1, ts_size=0.1, data=data_full):\n",
    "    \n",
    "    tot_scores=[]\n",
    "    for i in range(repeat): \n",
    "        train, test = train_test_split(score_data_bin, test_size=ts_size)\n",
    "        UI_tr = get_User_Items_bin(train, min_rated_restaurants, min_rated_users)\n",
    "    \n",
    "        rec = Content_Based_Recc(data, UI_tr, restaurants, \\\n",
    "                      restaurants__food_types, restaurants__vibes,\\\n",
    "                      foodtypes, vibes, \\\n",
    "                      neighborhoods)\n",
    "        rec.fit_Items_Content_df()\n",
    "        rec.fit_User_Content_df()\n",
    "        tot_scores.append(mean_prec_recall_at_k_content(UI_tr, test, rec.predict_K_ranked, \\\n",
    "                                                        rec.dict_id_off2unoff, K, col2drop, binary=True))\n",
    "    mean_scores = [sum(y) / len(y) for y in zip(*tot_scores)]\n",
    "    sigma_acc = np.sqrt(sum([(i[0]-mean_scores[0])**2 for i in tot_scores])/5)\n",
    "    \n",
    "    return mean_scores, sigma_acc "
   ]
  },
  {
   "cell_type": "code",
   "execution_count": null,
   "metadata": {},
   "outputs": [],
   "source": [
    "score_full = scores_bin(score_bin, repeat=5, K=5, col2drop=[],\\\n",
    "                          min_rated_restaurants=5, min_rated_users=5, ts_size=0.1)"
   ]
  },
  {
   "cell_type": "markdown",
   "metadata": {},
   "source": [
    "### Train Full Binary Model dropping one feature at time"
   ]
  },
  {
   "cell_type": "code",
   "execution_count": 212,
   "metadata": {},
   "outputs": [],
   "source": [
    "cols = [list(price_cols), list(type_cols), list(vibe_cols), list(stars_cols), list(n_cols)]\n",
    "cols_name = ['price', 'type', 'vibe', 'stars', 'neigh']"
   ]
  },
  {
   "cell_type": "code",
   "execution_count": 213,
   "metadata": {},
   "outputs": [
    {
     "name": "stdout",
     "output_type": "stream",
     "text": [
      "There are 6 different price\n",
      "There are 24 different type\n",
      "There are 30 different vibe\n",
      "There are 4 different sters\n",
      "There are 19 different neigh\n"
     ]
    }
   ],
   "source": [
    "for i in range(len(cols)):\n",
    "    print('There are {} different {}'.format(len(cols[i]), cols_name[i]))\n",
    "    "
   ]
  },
  {
   "cell_type": "code",
   "execution_count": null,
   "metadata": {},
   "outputs": [],
   "source": [
    "scores_no_price = scores_bin(score_bin, repeat=5, K=5, col2drop=list(price_cols),\\\n",
    "                          min_rated_restaurants=5, min_rated_users=5, ts_size=0.1)"
   ]
  },
  {
   "cell_type": "code",
   "execution_count": null,
   "metadata": {},
   "outputs": [],
   "source": [
    "scores_no_type = scores_bin(score_bin, repeat=5, K=5, col2drop=list(type_cols),\\\n",
    "                          min_rated_restaurants=5, min_rated_users=5, ts_size=0.1)"
   ]
  },
  {
   "cell_type": "code",
   "execution_count": null,
   "metadata": {},
   "outputs": [],
   "source": [
    "scores_no_vibe = scores_bin(score_bin, repeat=5, K=5, col2drop=list(vibe_cols),\\\n",
    "                          min_rated_restaurants=5, min_rated_users=5, ts_size=0.1)"
   ]
  },
  {
   "cell_type": "code",
   "execution_count": null,
   "metadata": {},
   "outputs": [],
   "source": [
    "scores_no_stars = scores_bin(score_bin, repeat=5, K=5, col2drop=list(stars_cols),\\\n",
    "                          min_rated_restaurants=5, min_rated_users=5, ts_size=0.1)\n"
   ]
  },
  {
   "cell_type": "code",
   "execution_count": null,
   "metadata": {},
   "outputs": [],
   "source": [
    "scores_no_n = scores_bin(score_bin, repeat=5, K=5, col2drop=list(n_cols),\\\n",
    "                          min_rated_restaurants=5, min_rated_users=5, ts_size=0.1)"
   ]
  },
  {
   "cell_type": "markdown",
   "metadata": {},
   "source": [
    "### Adding score based on Rules dict, dropping type feature."
   ]
  },
  {
   "cell_type": "code",
   "execution_count": 54,
   "metadata": {},
   "outputs": [],
   "source": [
    "Rules = {'CARD_SWIPE'         :{'LEFT':1, 'DOWN':4}, \n",
    "              'RESTAURANT_ACTION'   :{'delivery':5,'book_url':5,'chefInstagram':3,'instagram':3, \n",
    "                                      'menu':3,'website':3,'maps':3,'call':5, 'favourite_press':4, \n",
    "                                      'curated_by':3},\n",
    "              'RESTAURANT_FAVOURITE':4,\n",
    "              'view_item':2}"
   ]
  },
  {
   "cell_type": "markdown",
   "metadata": {},
   "source": [
    "with fit_data_score() we can create a df with the maximum rate for each rest-user couple"
   ]
  },
  {
   "cell_type": "code",
   "execution_count": 57,
   "metadata": {
    "scrolled": true
   },
   "outputs": [
    {
     "name": "stderr",
     "output_type": "stream",
     "text": [
      "/Users/pablogranatiero/Desktop/TFM_STRUCTURE/TFM_Granatiero_Notebooks/TFM_Granatiero_Utils/TFM_Pre_Process.py:46: SettingWithCopyWarning: \n",
      "A value is trying to be set on a copy of a slice from a DataFrame.\n",
      "Try using .loc[row_indexer,col_indexer] = value instead\n",
      "\n",
      "See the caveats in the documentation: https://pandas.pydata.org/pandas-docs/stable/user_guide/indexing.html#returning-a-view-versus-a-copy\n",
      "  data_user['Score'] = User_Scores\n"
     ]
    }
   ],
   "source": [
    "pre = PreProcessing_Data(data_full, restaurants_df, Rules)\n",
    "pre.init_simple_data()\n",
    "pre.clean_anomalies(10, 1000) \n",
    "pre.filter_data_for_collaborative()\n",
    "pre.fit_data_score()\n",
    "pre.fit_User_Items_Matrix(5,5)\n"
   ]
  },
  {
   "cell_type": "code",
   "execution_count": 60,
   "metadata": {},
   "outputs": [
    {
     "data": {
      "text/html": [
       "<div>\n",
       "<style scoped>\n",
       "    .dataframe tbody tr th:only-of-type {\n",
       "        vertical-align: middle;\n",
       "    }\n",
       "\n",
       "    .dataframe tbody tr th {\n",
       "        vertical-align: top;\n",
       "    }\n",
       "\n",
       "    .dataframe thead th {\n",
       "        text-align: right;\n",
       "    }\n",
       "</style>\n",
       "<table border=\"1\" class=\"dataframe\">\n",
       "  <thead>\n",
       "    <tr style=\"text-align: right;\">\n",
       "      <th></th>\n",
       "      <th>score</th>\n",
       "      <th>user_id</th>\n",
       "    </tr>\n",
       "  </thead>\n",
       "  <tbody>\n",
       "    <tr>\n",
       "      <th>6</th>\n",
       "      <td>4.0</td>\n",
       "      <td>37</td>\n",
       "    </tr>\n",
       "    <tr>\n",
       "      <th>18</th>\n",
       "      <td>4.0</td>\n",
       "      <td>37</td>\n",
       "    </tr>\n",
       "    <tr>\n",
       "      <th>21</th>\n",
       "      <td>4.0</td>\n",
       "      <td>37</td>\n",
       "    </tr>\n",
       "    <tr>\n",
       "      <th>33</th>\n",
       "      <td>3.0</td>\n",
       "      <td>37</td>\n",
       "    </tr>\n",
       "    <tr>\n",
       "      <th>34</th>\n",
       "      <td>4.0</td>\n",
       "      <td>37</td>\n",
       "    </tr>\n",
       "  </tbody>\n",
       "</table>\n",
       "</div>"
      ],
      "text/plain": [
       "    score  user_id\n",
       "6     4.0       37\n",
       "18    4.0       37\n",
       "21    4.0       37\n",
       "33    3.0       37\n",
       "34    4.0       37"
      ]
     },
     "execution_count": 60,
     "metadata": {},
     "output_type": "execute_result"
    }
   ],
   "source": [
    "pre.score_data.head() "
   ]
  },
  {
   "cell_type": "markdown",
   "metadata": {},
   "source": [
    "We can count all the rates"
   ]
  },
  {
   "cell_type": "code",
   "execution_count": 62,
   "metadata": {
    "scrolled": true
   },
   "outputs": [
    {
     "name": "stdout",
     "output_type": "stream",
     "text": [
      "The 13.4% of all possible rates is rated \n"
     ]
    },
    {
     "data": {
      "text/plain": [
       "{2.0: 8689, 3.0: 2954, 4.0: 22966, 5.0: 1774}"
      ]
     },
     "execution_count": 62,
     "metadata": {},
     "output_type": "execute_result"
    },
    {
     "data": {
      "image/png": "[encoded data removed]",
      "text/plain": [
       "<Figure size 432x288 with 1 Axes>"
      ]
     },
     "metadata": {
      "needs_background": "light"
     },
     "output_type": "display_data"
    }
   ],
   "source": [
    "pre.get_rate_counts()"
   ]
  },
  {
   "cell_type": "markdown",
   "metadata": {},
   "source": [
    "### Score with rated restaurants: Generate a train test set dropping liked restaurants"
   ]
  },
  {
   "cell_type": "code",
   "execution_count": 204,
   "metadata": {},
   "outputs": [],
   "source": [
    "def score_content_scored(score_bin, filtered_data, col_to_drop, repeat, K=5, ts_size=0.1):\n",
    "    \n",
    "    tot_scores=[]\n",
    "    for i in range(repeat):     \n",
    "    \n",
    "        test = train_test_split(score_bin.set_index(['user_id','restaurant_id']), test_size=ts_size)[1]\n",
    "        test_idx = test.index\n",
    "    \n",
    "        idx_to_drop = filtered_data[filtered_data.is_positive==True].reset_index().set_index(['user_id',\\\n",
    "                                                    'restaurant_id']).loc[test_idx,:].set_index('index').index\n",
    "    \n",
    "        train_filtered = filtered_data.drop(index=idx_to_drop)\n",
    "        pre = PreProcessing_Data(data_full, restaurants_df, Rules)\n",
    "        pre.simple_data = train_filtered\n",
    "    \n",
    "        pre.fit_data_score()\n",
    "        pre.fit_User_Items_Matrix(5,5)\n",
    "    \n",
    "        rec = Content_Based_Recc(data_full,  pre.User_Items.fillna(0), restaurants_Datos_Init_01_05_2021, \\\n",
    "                      restaurants__food_types_Datos_Init_01_05_2021, restaurants__vibes_Datos_Init_01_05_2021,\\\n",
    "                      foodtypes_Datos_Init_01_05_2021, vibes_Datos_Init_01_05_2021, \\\n",
    "                      neighborhoods_Datos_Init_01_05_2021)\n",
    "    \n",
    "        rec.fit_Items_Content_df()\n",
    "        rec.fit_User_Content_df()\n",
    "\n",
    "        tot_scores. append(mean_prec_recall_at_k_content(pre.User_Items.fillna(0), test.reset_index(),\\\n",
    "                           rec.predict_K_ranked, rec.dict_id_off2unoff, K, col_to_drop, binary=False))\n",
    "        \n",
    "            \n",
    "    mean_scores = [sum(y) / len(y) for y in zip(*tot_scores)]\n",
    "    sigma_acc = np.sqrt(sum([(i[0]-mean_scores[0])**2 for i in tot_scores])/5)\n",
    "    \n",
    "    return mean_scores, sigma_acc \n",
    "    \n",
    "    "
   ]
  },
  {
   "cell_type": "code",
   "execution_count": null,
   "metadata": {},
   "outputs": [],
   "source": [
    "scored_score_no_type = score_content_scored(score_bin, filtered_data, col_to_drop=list(type_cols), repeat=5, K=5, ts_size=0.1)\n"
   ]
  },
  {
   "cell_type": "code",
   "execution_count": 207,
   "metadata": {},
   "outputs": [
    {
     "data": {
      "text/plain": [
       "([0.08443020408151977,\n",
       "  0.0679602621277394,\n",
       "  0.13934001337097465,\n",
       "  0.6820340050403688],\n",
       " 0.003215395132785313)"
      ]
     },
     "execution_count": 207,
     "metadata": {},
     "output_type": "execute_result"
    }
   ],
   "source": [
    "scored_score_no_type"
   ]
  },
  {
   "cell_type": "markdown",
   "metadata": {},
   "source": [
    "## Comparing all the content models"
   ]
  },
  {
   "cell_type": "code",
   "execution_count": 72,
   "metadata": {},
   "outputs": [
    {
     "data": {
      "text/html": [
       "<div>\n",
       "<style scoped>\n",
       "    .dataframe tbody tr th:only-of-type {\n",
       "        vertical-align: middle;\n",
       "    }\n",
       "\n",
       "    .dataframe tbody tr th {\n",
       "        vertical-align: top;\n",
       "    }\n",
       "\n",
       "    .dataframe thead th {\n",
       "        text-align: right;\n",
       "    }\n",
       "</style>\n",
       "<table border=\"1\" class=\"dataframe\">\n",
       "  <thead>\n",
       "    <tr style=\"text-align: right;\">\n",
       "      <th></th>\n",
       "      <th>mean_content_accuracy</th>\n",
       "      <th>mean_content_sd</th>\n",
       "    </tr>\n",
       "  </thead>\n",
       "  <tbody>\n",
       "    <tr>\n",
       "      <th>Full_Feat</th>\n",
       "      <td>0.059553</td>\n",
       "      <td>0.005541</td>\n",
       "    </tr>\n",
       "    <tr>\n",
       "      <th>No_Price</th>\n",
       "      <td>0.061452</td>\n",
       "      <td>0.003610</td>\n",
       "    </tr>\n",
       "    <tr>\n",
       "      <th>No_Vibe</th>\n",
       "      <td>0.041507</td>\n",
       "      <td>0.002458</td>\n",
       "    </tr>\n",
       "    <tr>\n",
       "      <th>No_Stars</th>\n",
       "      <td>0.057428</td>\n",
       "      <td>0.002781</td>\n",
       "    </tr>\n",
       "    <tr>\n",
       "      <th>No_Neigh</th>\n",
       "      <td>0.056196</td>\n",
       "      <td>0.002728</td>\n",
       "    </tr>\n",
       "    <tr>\n",
       "      <th>No_Type</th>\n",
       "      <td>0.074553</td>\n",
       "      <td>0.003756</td>\n",
       "    </tr>\n",
       "    <tr>\n",
       "      <th>Rated_No_Type</th>\n",
       "      <td>0.084430</td>\n",
       "      <td>0.003215</td>\n",
       "    </tr>\n",
       "  </tbody>\n",
       "</table>\n",
       "</div>"
      ],
      "text/plain": [
       "               mean_content_accuracy  mean_content_sd\n",
       "Full_Feat                   0.059553         0.005541\n",
       "No_Price                    0.061452         0.003610\n",
       "No_Vibe                     0.041507         0.002458\n",
       "No_Stars                    0.057428         0.002781\n",
       "No_Neigh                    0.056196         0.002728\n",
       "No_Type                     0.074553         0.003756\n",
       "Rated_No_Type               0.084430         0.003215"
      ]
     },
     "execution_count": 72,
     "metadata": {},
     "output_type": "execute_result"
    }
   ],
   "source": [
    "scored_df = pd.read_csv('../TFM_Granatiero_Data/content_df_acc.csv', index_col=0)\n",
    "scored_df"
   ]
  },
  {
   "cell_type": "code",
   "execution_count": 233,
   "metadata": {},
   "outputs": [
    {
     "data": {
      "image/png": "[encoded data removed]",
      "text/plain": [
       "<Figure size 864x648 with 1 Axes>"
      ]
     },
     "metadata": {
      "needs_background": "light"
     },
     "output_type": "display_data"
    }
   ],
   "source": [
    "means_w = [score_full[0][0], scores_no_price[0][0], scores_no_vibe[0][0], scores_no_stars[0][0],\\\n",
    "        scores_no_n[0][0], scores_no_type[0][0], scored_score_no_type[0][0]]\n",
    "weeks = [0 ,5 ,10 ,15 ,20, 25, 30]\n",
    "\n",
    "plt.figure(figsize=(12,9))\n",
    "plt.plot(weeks, means_w, 'o', color='c')\n",
    "plt.text(x=weeks[0]+0.4, y=means_w[0]+.0006, s='Full Feat',\\\n",
    "        fontdict=dict(color='red', alpha=0.5, size=16), bbox=dict(facecolor='yellow',alpha=1))\n",
    "plt.text(x=weeks[1]+0.4, y=means_w[1]+.0006, s='No Price',\\\n",
    "        fontdict=dict(color='red', alpha=0.5, size=16), bbox=dict(facecolor='yellow',alpha=1))\n",
    "plt.text(x=weeks[2]+0.4, y=means_w[2]+.0006, s='No Vibe',\\\n",
    "        fontdict=dict(color='red', alpha=0.5, size=16), bbox=dict(facecolor='yellow',alpha=1))\n",
    "plt.text(x=weeks[3]+0.4, y=means_w[3]+.0006, s='No Stars',\\\n",
    "        fontdict=dict(color='red', alpha=0.5, size=16), bbox=dict(facecolor='yellow',alpha=1))\n",
    "plt.text(x=weeks[4]+0.4, y=means_w[4]+.0006, s='No Neigh',\\\n",
    "        fontdict=dict(color='red', alpha=0.5, size=16), bbox=dict(facecolor='yellow',alpha=1))\n",
    "plt.text(x=weeks[5]+0.4, y=means_w[5]+.0006, s='No Type',\\\n",
    "        fontdict=dict(color='red', alpha=0.5, size=16), bbox=dict(facecolor='yellow',alpha=1))\n",
    "plt.text(x=weeks[6]+0.4, y=means_w[6]+.0006, s='No Type / Scored',\\\n",
    "        fontdict=dict(color='red', alpha=0.5, size=16), bbox=dict(facecolor='yellow',alpha=1))\n",
    "plt.plot([0,0], [means_w[0]-score_full[1], means_w[0]+score_full[1]], 'k-', lw=.5)\n",
    "plt.plot([5,5], [means_w[1]-scores_no_price[1], means_w[1]+scores_no_price[1]], 'k-', lw=.5)\n",
    "plt.plot([10,10], [means_w[2]-scores_no_vibe[1], means_w[2]+scores_no_vibe[1]], 'k-', lw=.5)\n",
    "plt.plot([15,15], [means_w[3]-scores_no_stars[1], means_w[3]+scores_no_stars[1]], 'k-', lw=.5)\n",
    "plt.plot([20,20], [means_w[4]-scores_no_n[1], means_w[4]+scores_no_n[1]], 'k-', lw=.5)\n",
    "plt.plot([25,25], [means_w[5]-scores_no_type[1], means_w[5]+scores_no_type[1]], 'k-', lw=.5)\n",
    "plt.plot([30,30], [means_w[6]-scored_score_no_type[1], means_w[6]+scored_score_no_type[1]], 'k-', lw=.5)\n",
    "\n",
    "\n",
    "plt.axhline(y=means_w[0], color='r', linestyle='--')\n",
    "\n",
    "plt.ylabel('Accuracy')\n",
    "plt.xticks([])\n",
    "\n",
    "#plt.savefig('TFM_figures/Acc_no_feats_content.jpg', dpi=300, bbox_inches=\"tight\")"
   ]
  },
  {
   "cell_type": "code",
   "execution_count": null,
   "metadata": {},
   "outputs": [],
   "source": []
  }
 ],
 "metadata": {
  "kernelspec": {
   "display_name": "Python 3",
   "language": "python",
   "name": "python3"
  },
  "language_info": {
   "codemirror_mode": {
    "name": "ipython",
    "version": 3
   },
   "file_extension": ".py",
   "mimetype": "text/x-python",
   "name": "python",
   "nbconvert_exporter": "python",
   "pygments_lexer": "ipython3",
   "version": "3.7.6"
  }
 },
 "nbformat": 4,
 "nbformat_minor": 4
}
