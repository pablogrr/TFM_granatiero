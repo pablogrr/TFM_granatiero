{
 "cells": [
  {
   "cell_type": "markdown",
   "metadata": {},
   "source": [
    "## <font color='red'>Comparing all models</font> \n"
   ]
  },
  {
   "cell_type": "markdown",
   "metadata": {},
   "source": [
    "### Preprocessing data splitting a test train common to all models: test_size = 0.1,  min_like=5, repeat=5, K=5 over filtered data"
   ]
  },
  {
   "cell_type": "code",
   "execution_count": 1,
   "metadata": {},
   "outputs": [],
   "source": [
    "from TFM_Granatiero_Utils.TFM_Pre_Process import *\n",
    "from TFM_Granatiero_Utils.TFM_Base_Models import *\n"
   ]
  },
  {
   "cell_type": "code",
   "execution_count": 3,
   "metadata": {},
   "outputs": [
    {
     "data": {
      "text/plain": [
       "((458641, 9), (27930, 3))"
      ]
     },
     "execution_count": 3,
     "metadata": {},
     "output_type": "execute_result"
    }
   ],
   "source": [
    "data_full = pd.read_csv('../TFM_Granatiero_Data/week_01mar_30abr.csv', index_col=0)\n",
    "restaurants_df = pd.read_csv('../TFM_Granatiero_Data/restaurants_Datos_Init_01_05_2021.csv', index_col=0)\n",
    "score_data_bin = pd.read_csv('../TFM_Granatiero_Data/score_bin.csv', index_col=0)\n",
    "data_full.shape, score_data_bin.shape"
   ]
  },
  {
   "cell_type": "code",
   "execution_count": 3,
   "metadata": {},
   "outputs": [],
   "source": [
    "Score_Rules=[]\n",
    "pre = PreProcessing_Data(data_full, restaurants_df, Score_Rules)\n",
    "pre.init_simple_data()\n",
    "pre.clean_anomalies(10, 1000)\n",
    "pre.filter_data_for_collaborative()\n",
    "pre.fit_data_score_bin()\n",
    "pre.fit_User_Items_bin(5,5)\n",
    "filtered_data = pre.simple_data\n",
    "UI = pre.User_Items_bin"
   ]
  },
  {
   "cell_type": "code",
   "execution_count": 7,
   "metadata": {},
   "outputs": [],
   "source": [
    "from sklearn.model_selection import train_test_split\n",
    "import random\n",
    "\n",
    "random.seed(3)\n",
    "ts_size=0.1\n",
    "train_bin, test_bin = train_test_split(pre.score_data_bin, test_size=ts_size)"
   ]
  },
  {
   "cell_type": "markdown",
   "metadata": {},
   "source": [
    "### RANDOM MODEL"
   ]
  },
  {
   "cell_type": "code",
   "execution_count": 8,
   "metadata": {},
   "outputs": [],
   "source": [
    "random_score = random_scores_bin(train_bin, repeat=5, K=5, min_rated_restaurants=5, min_rated_users=5, ts_size=0.1)\n",
    "mean_acc_random, mean_f1_random, mean_precision_random, mean_recall_random, User_Tested_Ratio_random = random_score[0]\n",
    "sigma_random = random_score[1]"
   ]
  },
  {
   "cell_type": "code",
   "execution_count": 9,
   "metadata": {},
   "outputs": [
    {
     "data": {
      "text/plain": [
       "([0.01487219349706998,\n",
       "  0.018175843479813082,\n",
       "  0.015471916495642396,\n",
       "  0.03112456845262455,\n",
       "  0.6758409283824143],\n",
       " 0.001610323210674671)"
      ]
     },
     "execution_count": 9,
     "metadata": {},
     "output_type": "execute_result"
    }
   ],
   "source": [
    "random_score"
   ]
  },
  {
   "cell_type": "markdown",
   "metadata": {},
   "source": [
    "### MOST POPULAR MODEL"
   ]
  },
  {
   "cell_type": "code",
   "execution_count": 10,
   "metadata": {},
   "outputs": [],
   "source": [
    "pop_score = pop_scores_bin(train_bin, repeat=5, K=5, min_rated_restaurants=5, min_rated_users=5, ts_size=0.1)\n",
    "mean_acc_pop, mean_f1_pop, mean_precision_pop, mean_recall_pop, User_Tested_Ratio_pop = pop_score[0]\n",
    "sigma_pop = pop_score[1]\n"
   ]
  },
  {
   "cell_type": "code",
   "execution_count": 11,
   "metadata": {},
   "outputs": [
    {
     "data": {
      "text/plain": [
       "([0.08205860996738645,\n",
       "  0.0860570873947504,\n",
       "  0.07041142514383844,\n",
       "  0.14716430541349007,\n",
       "  0.6805157963081874],\n",
       " 0.009208508646902489)"
      ]
     },
     "execution_count": 11,
     "metadata": {},
     "output_type": "execute_result"
    }
   ],
   "source": [
    "pop_score"
   ]
  },
  {
   "cell_type": "code",
   "execution_count": 12,
   "metadata": {},
   "outputs": [],
   "source": [
    "total_pop_rest = pop_counter(UI, K=5)\n"
   ]
  },
  {
   "cell_type": "code",
   "execution_count": 13,
   "metadata": {},
   "outputs": [
    {
     "data": {
      "text/plain": [
       "'Most pop is recommending 20 restaurants'"
      ]
     },
     "execution_count": 13,
     "metadata": {},
     "output_type": "execute_result"
    }
   ],
   "source": [
    "total_recommended = len(set([i[0] for i in total_pop_rest]))\n",
    "'Most pop is recommending {} restaurants'.format(total_recommended)"
   ]
  },
  {
   "cell_type": "markdown",
   "metadata": {},
   "source": [
    "### CONTENT BASED MODEL: with rates and dropping \"food-types\" feature"
   ]
  },
  {
   "cell_type": "code",
   "execution_count": 4,
   "metadata": {},
   "outputs": [],
   "source": [
    "from TFM_Granatiero_Utils.TFM_Content_Based import *"
   ]
  },
  {
   "cell_type": "code",
   "execution_count": 5,
   "metadata": {},
   "outputs": [],
   "source": [
    "def open_app_datas(dir_path):\n",
    "    \n",
    "    def save_Datos(name, dir_path):\n",
    "        file_path = dir_path + '/' + name + '.csv' \n",
    "        return pd.read_csv(file_path)\n",
    "\n",
    "    list_of_df = []\n",
    "    for filename_csv in os.listdir(dir_path):\n",
    "        if filename_csv.endswith(\".csv\"):\n",
    "            filename = os.path.splitext(filename_csv)[0]\n",
    "            globals()[filename] = save_Datos(filename, dir_path)\n",
    "            list_of_df.append(filename)\n",
    "    \n",
    "    return list_of_df \n",
    "\n",
    "            "
   ]
  },
  {
   "cell_type": "code",
   "execution_count": 6,
   "metadata": {},
   "outputs": [
    {
     "data": {
      "text/plain": [
       "['homes__first_action_neighborhoods',\n",
       " 'reservations',\n",
       " 'strapi_permission',\n",
       " 'homes__second_action_food_types',\n",
       " 'homes__second_action_neighborhoods',\n",
       " 'homes',\n",
       " 'profiles__vibes',\n",
       " 'push_tokens',\n",
       " 'components_restaurants_promoteds',\n",
       " 'vibe',\n",
       " 'neighborhoods',\n",
       " 'profiles',\n",
       " 'homes__first_action_food_types',\n",
       " 'restaurants_components',\n",
       " 'homecards__vibes',\n",
       " 'foodtypes',\n",
       " 'users-permissions_permission',\n",
       " 'homecards',\n",
       " 'profiles__food_types',\n",
       " 'strapi_webhooks',\n",
       " 'profiles__favorites',\n",
       " 'profiles__push_tokens',\n",
       " 'app_homes__home_cards',\n",
       " 'homes__second_action_vibes',\n",
       " 'homecards__food_types',\n",
       " 'strapi_users_roles',\n",
       " 'strapi_role',\n",
       " 'homecards__neighborhoods',\n",
       " 'core_store',\n",
       " 'cities',\n",
       " 'permissions_role',\n",
       " 'vibes',\n",
       " 'permissions_user',\n",
       " 'homecards__localizations',\n",
       " 'promos',\n",
       " 'components_restaurants_promoteds__vibes',\n",
       " 'locales',\n",
       " 'components_restaurants_promoteds__food_types',\n",
       " 'promos__vibes',\n",
       " 'components_restaurants_information',\n",
       " 'promos__food_types',\n",
       " 'app_homes',\n",
       " 'homes__first_action_vibes',\n",
       " 'restaurants__vibes',\n",
       " 'upload_file_morph',\n",
       " 'upload_file',\n",
       " 'components_restaurants_cover_managers',\n",
       " 'restaurants__food_types',\n",
       " 'components_restaurants_geolocations',\n",
       " 'profiles__blacklist',\n",
       " 'cities__neighborhoods',\n",
       " 'strapi_administrator',\n",
       " 'promos__neighborhoods',\n",
       " 'restaurants']"
      ]
     },
     "execution_count": 6,
     "metadata": {},
     "output_type": "execute_result"
    }
   ],
   "source": [
    "list_data_init = open_app_datas('../TFM_Granatiero_Data/Datos_Init_01_05_2021')\n",
    "list_data_init"
   ]
  },
  {
   "cell_type": "code",
   "execution_count": 7,
   "metadata": {},
   "outputs": [],
   "source": [
    "def score_content_scored(score_bin,  restaurants_Datos_Init, \\\n",
    "                         restaurants__food_types_Datos_Init, restaurants__vibes_Datos_Init,\\\n",
    "                         foodtypes_Datos_Init, vibes_Datos_Init, \\\n",
    "                         neighborhoods_Datos_Init, filtered_data, col_to_drop, repeat, K=5, ts_size=0.1):\n",
    "    \n",
    "    tot_scores=[]\n",
    "    for i in range(repeat):     \n",
    "    \n",
    "        test = train_test_split(score_bin.set_index(['user_id','restaurant_id']), test_size=ts_size)[1]\n",
    "        test_idx = test.index\n",
    "    \n",
    "        idx_to_drop = filtered_data[filtered_data.is_positive==True].reset_index().set_index(['user_id',\\\n",
    "                                                    'restaurant_id']).loc[test_idx,:].set_index('index').index\n",
    "    \n",
    "        train_filtered = filtered_data.drop(index=idx_to_drop)\n",
    "        pre = PreProcessing_Data(data_full, restaurants_df, Rules)\n",
    "        pre.simple_data = train_filtered\n",
    "    \n",
    "        pre.fit_data_score()\n",
    "        pre.fit_User_Items_Matrix(5,5)\n",
    "    \n",
    "        rec = Content_Based_Recc(data_full,  pre.User_Items.fillna(0), restaurants_Datos_Init, \\\n",
    "                      restaurants__food_types_Datos_Init, restaurants__vibes_Datos_Init,\\\n",
    "                      foodtypes_Datos_Init, vibes_Datos_Init, neighborhoods_Datos_Init)\n",
    "    \n",
    "        rec.fit_Items_Content_df()\n",
    "        rec.fit_User_Content_df()\n",
    "\n",
    "        tot_scores. append(mean_prec_recall_at_k_content(pre.User_Items.fillna(0), test.reset_index(),\\\n",
    "                           rec.predict_K_ranked, rec.dict_id_off2unoff, K, col_to_drop, binary=False))\n",
    "        \n",
    "            \n",
    "    mean_scores = [sum(y) / len(y) for y in zip(*tot_scores)]\n",
    "    sigma_acc = np.sqrt(sum([(i[0]-mean_scores[0])**2 for i in tot_scores])/5)\n",
    "    \n",
    "    return mean_scores, sigma_acc\n",
    "\n",
    "\n"
   ]
  },
  {
   "cell_type": "code",
   "execution_count": 8,
   "metadata": {},
   "outputs": [],
   "source": [
    "type_cols = ['food-type_id 1', 'food-type_id 2', 'food-type_id 3', 'food-type_id 4',\n",
    "            'food-type_id 5', 'food-type_id 6', 'food-type_id 7', 'food-type_id 8',\n",
    "            'food-type_id 9', 'food-type_id 10', 'food-type_id 11',\n",
    "            'food-type_id 12', 'food-type_id 13', 'food-type_id 14',\n",
    "            'food-type_id 15', 'food-type_id 16', 'food-type_id 17',\n",
    "            'food-type_id 18', 'food-type_id 19', 'food-type_id 20',\n",
    "            'food-type_id 21', 'food-type_id 23', 'food-type_id 24',\n",
    "            'food-type_id 25']"
   ]
  },
  {
   "cell_type": "code",
   "execution_count": null,
   "metadata": {},
   "outputs": [],
   "source": [
    "scored_score_no_type =   score_content_scored(train_bin, restaurants, \\\n",
    "                         restaurants__food_types, restaurants__vibes,\\\n",
    "                         foodtypes, vibes, neighborhoods, filtered_data, col_to_drop=type_cols,\\\n",
    "                         repeat=5, K=5, ts_size=0.1)\n"
   ]
  },
  {
   "cell_type": "code",
   "execution_count": 49,
   "metadata": {},
   "outputs": [
    {
     "data": {
      "text/plain": [
       "([0.08000502296745943,\n",
       "  0.07905393084443321,\n",
       "  0.06531524850925799,\n",
       "  0.13864164581908137,\n",
       "  0.6909908095228686],\n",
       " 0.004604507407988403)"
      ]
     },
     "execution_count": 49,
     "metadata": {},
     "output_type": "execute_result"
    }
   ],
   "source": [
    "scored_score_no_type "
   ]
  },
  {
   "cell_type": "markdown",
   "metadata": {},
   "source": [
    "## Collaborative Model: test_size = 0.1, min_like=5, N_neigh=10"
   ]
  },
  {
   "cell_type": "code",
   "execution_count": 12,
   "metadata": {},
   "outputs": [],
   "source": [
    "from TFM_Granatiero_Utils.TFM_Collaborative import *"
   ]
  },
  {
   "cell_type": "code",
   "execution_count": 11,
   "metadata": {},
   "outputs": [],
   "source": [
    "simple_data = pd.read_csv('../TFM_Granatiero_Data/simple_data_filtered_cleaned.csv', index_col=0)"
   ]
  },
  {
   "cell_type": "code",
   "execution_count": 14,
   "metadata": {},
   "outputs": [],
   "source": [
    "scores_bin_coll = scores_bin(score_data_bin,repeat=5,N_neigh=10,K=5,min_rated_restaurants=5,min_rated_users=5)"
   ]
  },
  {
   "cell_type": "code",
   "execution_count": 15,
   "metadata": {},
   "outputs": [
    {
     "data": {
      "text/plain": [
       "([0.12660733447317982,\n",
       "  0.13673704480817123,\n",
       "  0.11655671318337042,\n",
       "  0.22553631498247734,\n",
       "  0.6837195660462092],\n",
       " 0.0071656613890225505)"
      ]
     },
     "execution_count": 15,
     "metadata": {},
     "output_type": "execute_result"
    }
   ],
   "source": [
    "scores_bin_coll"
   ]
  },
  {
   "cell_type": "code",
   "execution_count": null,
   "metadata": {},
   "outputs": [],
   "source": [
    "rec_bin = CollaborativeFiltering(pre.User_Items_bin, cosine_similarity)\n",
    "rec_bin.fit_items_bin()"
   ]
  },
  {
   "cell_type": "code",
   "execution_count": 17,
   "metadata": {},
   "outputs": [],
   "source": [
    "def coll_counter(UI, K, N_neigh, predict):\n",
    "    '''It counts all the different restaurants suggested for all the users for collab'''\n",
    "    total_rest = []\n",
    "    for u in UI.index:\n",
    "        total_rest.append(predict(u, K, N_neigh).index)\n",
    "    \n",
    "    return total_rest"
   ]
  },
  {
   "cell_type": "code",
   "execution_count": 27,
   "metadata": {},
   "outputs": [],
   "source": [
    "coll_rest = coll_counter(pre.User_Items_bin, 5, 10, rec_bin.predict_K_item_bin)"
   ]
  },
  {
   "cell_type": "code",
   "execution_count": 28,
   "metadata": {},
   "outputs": [
    {
     "data": {
      "text/plain": [
       "'Most pop is recommending 166 restaurants'"
      ]
     },
     "execution_count": 28,
     "metadata": {},
     "output_type": "execute_result"
    }
   ],
   "source": [
    "total_recommended_coll = len(set([i[0] for i in coll_rest]))\n",
    "'Most pop is recommending {} restaurants'.format(total_recommended_coll)"
   ]
  },
  {
   "cell_type": "markdown",
   "metadata": {},
   "source": [
    "### Plotting results"
   ]
  },
  {
   "cell_type": "code",
   "execution_count": 66,
   "metadata": {},
   "outputs": [],
   "source": [
    "Results_df = pd.DataFrame(columns=['model', 'accuracy', 'f1' , 'p@5', 'r@5', 'sigma_acc'])\n",
    "Results_df['model']=['Random', 'Most Pop', 'Content Based', 'Collaborative Bin']\n",
    "Results_df['accuracy']=[random_score[0][0], pop_score[0][0], scored_score_no_type[0][0], scores_bin_coll[0][0]]\n",
    "Results_df['f1']=[random_score[0][1], pop_score[0][1], scored_score_no_type[0][1], scores_bin_coll[0][1]]\n",
    "Results_df['p@5']=[random_score[0][2], pop_score[0][2], scored_score_no_type[0][2], scores_bin_coll[0][2]]\n",
    "Results_df['r@5']=[random_score[0][3], pop_score[0][3], scored_score_no_type[0][3], scores_bin_coll[0][3]]\n",
    "Results_df['sigma_acc']=[random_score[1], pop_score[1], scored_score_no_type[1], scores_bin_coll[1]]\n",
    "\n"
   ]
  },
  {
   "cell_type": "code",
   "execution_count": 23,
   "metadata": {},
   "outputs": [
    {
     "data": {
      "text/html": [
       "<div>\n",
       "<style scoped>\n",
       "    .dataframe tbody tr th:only-of-type {\n",
       "        vertical-align: middle;\n",
       "    }\n",
       "\n",
       "    .dataframe tbody tr th {\n",
       "        vertical-align: top;\n",
       "    }\n",
       "\n",
       "    .dataframe thead th {\n",
       "        text-align: right;\n",
       "    }\n",
       "</style>\n",
       "<table border=\"1\" class=\"dataframe\">\n",
       "  <thead>\n",
       "    <tr style=\"text-align: right;\">\n",
       "      <th></th>\n",
       "      <th>model</th>\n",
       "      <th>accuracy</th>\n",
       "      <th>f1</th>\n",
       "      <th>p@5</th>\n",
       "      <th>r@5</th>\n",
       "      <th>sigma_acc</th>\n",
       "    </tr>\n",
       "  </thead>\n",
       "  <tbody>\n",
       "    <tr>\n",
       "      <th>0</th>\n",
       "      <td>Random</td>\n",
       "      <td>0.014976</td>\n",
       "      <td>0.018997</td>\n",
       "      <td>0.016159</td>\n",
       "      <td>0.031632</td>\n",
       "      <td>0.002089</td>\n",
       "    </tr>\n",
       "    <tr>\n",
       "      <th>1</th>\n",
       "      <td>Most Pop</td>\n",
       "      <td>0.098884</td>\n",
       "      <td>0.097291</td>\n",
       "      <td>0.082661</td>\n",
       "      <td>0.161096</td>\n",
       "      <td>0.007132</td>\n",
       "    </tr>\n",
       "    <tr>\n",
       "      <th>2</th>\n",
       "      <td>Content Based</td>\n",
       "      <td>0.080005</td>\n",
       "      <td>0.079054</td>\n",
       "      <td>0.065315</td>\n",
       "      <td>0.138642</td>\n",
       "      <td>0.004605</td>\n",
       "    </tr>\n",
       "    <tr>\n",
       "      <th>3</th>\n",
       "      <td>Collaborative</td>\n",
       "      <td>0.127453</td>\n",
       "      <td>0.138785</td>\n",
       "      <td>0.117733</td>\n",
       "      <td>0.227204</td>\n",
       "      <td>0.004642</td>\n",
       "    </tr>\n",
       "  </tbody>\n",
       "</table>\n",
       "</div>"
      ],
      "text/plain": [
       "           model  accuracy        f1       p@5       r@5  sigma_acc\n",
       "0         Random  0.014976  0.018997  0.016159  0.031632   0.002089\n",
       "1       Most Pop  0.098884  0.097291  0.082661  0.161096   0.007132\n",
       "2  Content Based  0.080005  0.079054  0.065315  0.138642   0.004605\n",
       "3  Collaborative  0.127453  0.138785  0.117733  0.227204   0.004642"
      ]
     },
     "execution_count": 23,
     "metadata": {},
     "output_type": "execute_result"
    }
   ],
   "source": [
    "Results_df = pd.read_csv('All_Models_metrics.csv', index_col=0)\n",
    "Results_df"
   ]
  },
  {
   "cell_type": "code",
   "execution_count": 27,
   "metadata": {},
   "outputs": [
    {
     "data": {
      "image/png": "[encoded data removed]",
      "text/plain": [
       "<Figure size 864x648 with 1 Axes>"
      ]
     },
     "metadata": {
      "needs_background": "light"
     },
     "output_type": "display_data"
    }
   ],
   "source": [
    "means_w = [Results_df.loc[0,'accuracy'], Results_df.loc[1,'accuracy'],\\\n",
    "           Results_df.loc[2,'accuracy'], Results_df.loc[3,'accuracy']]\n",
    "weeks = [0 ,5 ,10 ,15]\n",
    "\n",
    "plt.figure(figsize=(12,9))\n",
    "plt.plot(weeks, means_w, 'o', color='c')\n",
    "\n",
    "plt.text(x=weeks[0]+0.4, y=means_w[0]+.0006, s='Random',\\\n",
    "        fontdict=dict(color='red', alpha=0.5, size=16), bbox=dict(facecolor='yellow',alpha=1))\n",
    "plt.text(x=weeks[1]+0.4, y=means_w[1]+.0006, s='Pop',\\\n",
    "        fontdict=dict(color='red', alpha=0.5, size=16), bbox=dict(facecolor='yellow',alpha=1))\n",
    "plt.text(x=weeks[2]+0.4, y=means_w[2]+.0006, s='Content',\\\n",
    "        fontdict=dict(color='red', alpha=0.5, size=16), bbox=dict(facecolor='yellow',alpha=1))\n",
    "plt.text(x=weeks[3]+0.4, y=means_w[3]+.0006, s='Collaborative',\\\n",
    "        fontdict=dict(color='red', alpha=0.5, size=16), bbox=dict(facecolor='yellow',alpha=1))\n",
    "\n",
    "plt.plot([0,0], [means_w[0]-Results_df.loc[0,'sigma_acc'], means_w[0]+Results_df.loc[0,'sigma_acc']], 'k-', lw=.5)\n",
    "plt.plot([5,5], [means_w[1]-Results_df.loc[1,'sigma_acc'], means_w[1]+Results_df.loc[1,'sigma_acc']], 'k-', lw=.5)\n",
    "plt.plot([10,10], [means_w[2]-Results_df.loc[2,'sigma_acc'], means_w[2]+Results_df.loc[2,'sigma_acc']], 'k-', lw=.5)\n",
    "plt.plot([15,15], [means_w[3]-Results_df.loc[3,'sigma_acc'], means_w[3]+Results_df.loc[3,'sigma_acc']], 'k-', lw=.5)\n",
    "\n",
    "plt.ylabel('Accuracy')\n",
    "plt.xticks([])\n",
    "\n",
    "#plt.savefig('TFM_figures/All_models_accuracy.jpg', dpi=300, bbox_inches=\"tight\")"
   ]
  },
  {
   "cell_type": "code",
   "execution_count": null,
   "metadata": {},
   "outputs": [],
   "source": []
  }
 ],
 "metadata": {
  "kernelspec": {
   "display_name": "Python 3",
   "language": "python",
   "name": "python3"
  },
  "language_info": {
   "codemirror_mode": {
    "name": "ipython",
    "version": 3
   },
   "file_extension": ".py",
   "mimetype": "text/x-python",
   "name": "python",
   "nbconvert_exporter": "python",
   "pygments_lexer": "ipython3",
   "version": "3.7.6"
  }
 },
 "nbformat": 4,
 "nbformat_minor": 4
}
