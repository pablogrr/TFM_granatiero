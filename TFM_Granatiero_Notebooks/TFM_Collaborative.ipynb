{
 "cells": [
  {
   "cell_type": "markdown",
   "metadata": {},
   "source": [
    "## <font color='red'>Collaborative</font> \n"
   ]
  },
  {
   "cell_type": "code",
   "execution_count": 1,
   "metadata": {},
   "outputs": [],
   "source": [
    "from TFM_Granatiero_Utils.TFM_Pre_Process import *\n",
    "from TFM_Granatiero_Utils.TFM_Collaborative import *\n"
   ]
  },
  {
   "cell_type": "code",
   "execution_count": 2,
   "metadata": {},
   "outputs": [
    {
     "data": {
      "text/plain": [
       "(458641, 9)"
      ]
     },
     "execution_count": 2,
     "metadata": {},
     "output_type": "execute_result"
    }
   ],
   "source": [
    "data_full = pd.read_csv('../TFM_Granatiero_Data/week_01mar_30abr.csv', index_col=0)\n",
    "restaurants_df = pd.read_csv('../TFM_Granatiero_Data/restaurants_Datos_Init_01_05_2021.csv', index_col=0)\n",
    "data_full.shape"
   ]
  },
  {
   "cell_type": "code",
   "execution_count": 3,
   "metadata": {},
   "outputs": [],
   "source": [
    "score_bin = pd.read_csv('../TFM_Granatiero_Data/score_bin.csv', index_col=0)\n",
    "simple_data_filtered_cleaned = pd.read_csv('../TFM_Granatiero_Data/simple_data_filtered_cleaned.csv', index_col=0)"
   ]
  },
  {
   "cell_type": "markdown",
   "metadata": {},
   "source": [
    "### Using preprocess class to buil df"
   ]
  },
  {
   "cell_type": "code",
   "execution_count": 4,
   "metadata": {},
   "outputs": [],
   "source": [
    "Score_Rules=[]\n",
    "pre = PreProcessing_Data(data_full, restaurants_df, Score_Rules)\n",
    "pre.init_simple_data()\n",
    "simple_data_uncleaned = pre.simple_data.copy()\n",
    "pre.clean_anomalies(10, 1000)\n",
    "simple_data_cleaned = pre.simple_data.copy()\n",
    "pre.filter_data_for_collaborative()\n",
    "simple_data_cleaned_filtered = pre.simple_data.copy()"
   ]
  },
  {
   "cell_type": "code",
   "execution_count": 9,
   "metadata": {},
   "outputs": [],
   "source": [
    "pre.fit_data_score_bin()\n",
    "pre.fit_User_Items_bin()"
   ]
  },
  {
   "cell_type": "markdown",
   "metadata": {},
   "source": [
    "Check if the users in score_bin are all the filtered ones"
   ]
  },
  {
   "cell_type": "code",
   "execution_count": 6,
   "metadata": {},
   "outputs": [
    {
     "data": {
      "text/plain": [
       "True"
      ]
     },
     "execution_count": 6,
     "metadata": {},
     "output_type": "execute_result"
    }
   ],
   "source": [
    "#filter_data_for_collaborative add is_positive column and drops the removed favourites\n",
    "#Clean anomalies drop the max/min outliers\n",
    "indx = simple_data_cleaned_filtered.is_positive.dropna().index\n",
    "binary = simple_data_cleaned_filtered.loc[indx,:][['user_id','restaurant_id','is_positive']].drop_duplicates()\n",
    "len(binary)==len(score_bin)"
   ]
  },
  {
   "cell_type": "code",
   "execution_count": 7,
   "metadata": {},
   "outputs": [
    {
     "data": {
      "text/html": [
       "<div>\n",
       "<style scoped>\n",
       "    .dataframe tbody tr th:only-of-type {\n",
       "        vertical-align: middle;\n",
       "    }\n",
       "\n",
       "    .dataframe tbody tr th {\n",
       "        vertical-align: top;\n",
       "    }\n",
       "\n",
       "    .dataframe thead th {\n",
       "        text-align: right;\n",
       "    }\n",
       "</style>\n",
       "<table border=\"1\" class=\"dataframe\">\n",
       "  <thead>\n",
       "    <tr style=\"text-align: right;\">\n",
       "      <th></th>\n",
       "      <th>restaurant_id</th>\n",
       "      <th>user_id</th>\n",
       "      <th>is_positive</th>\n",
       "    </tr>\n",
       "  </thead>\n",
       "  <tbody>\n",
       "    <tr>\n",
       "      <th>1</th>\n",
       "      <td>0</td>\n",
       "      <td>4</td>\n",
       "      <td>True</td>\n",
       "    </tr>\n",
       "    <tr>\n",
       "      <th>3</th>\n",
       "      <td>0</td>\n",
       "      <td>6</td>\n",
       "      <td>True</td>\n",
       "    </tr>\n",
       "    <tr>\n",
       "      <th>5</th>\n",
       "      <td>0</td>\n",
       "      <td>14</td>\n",
       "      <td>True</td>\n",
       "    </tr>\n",
       "    <tr>\n",
       "      <th>7</th>\n",
       "      <td>0</td>\n",
       "      <td>18</td>\n",
       "      <td>True</td>\n",
       "    </tr>\n",
       "    <tr>\n",
       "      <th>8</th>\n",
       "      <td>0</td>\n",
       "      <td>43</td>\n",
       "      <td>True</td>\n",
       "    </tr>\n",
       "  </tbody>\n",
       "</table>\n",
       "</div>"
      ],
      "text/plain": [
       "   restaurant_id  user_id  is_positive\n",
       "1              0        4         True\n",
       "3              0        6         True\n",
       "5              0       14         True\n",
       "7              0       18         True\n",
       "8              0       43         True"
      ]
     },
     "execution_count": 7,
     "metadata": {},
     "output_type": "execute_result"
    }
   ],
   "source": [
    "#In score_bin there are all the couple user/restaurant with \"like\"\n",
    "score_bin.head()"
   ]
  },
  {
   "cell_type": "code",
   "execution_count": 8,
   "metadata": {},
   "outputs": [],
   "source": [
    "#Check if a all the users in score bin are the cleaned ones:\n",
    "def ur_to_check(data_full):\n",
    "    data_to_check = data_full.loc[data_full.name_string_value.dropna().index,:]\n",
    "    data_to_check = data_to_check[(data_to_check.action_string_value=='delivery') | \\\n",
    "                                  (data_to_check.action_string_value=='call')|\\\n",
    "     (data_to_check.action_string_value=='book_url')  | (data_to_check.action_string_value=='favourite_press')|\\\n",
    "     (data_to_check.event_name=='RESTAURANT_FAVOURITE')  | (data_to_check.dir_string_value=='DOWN')]\n",
    "    return set(data_to_check.user_id)\n",
    "        \n",
    "\n",
    "    "
   ]
  },
  {
   "cell_type": "code",
   "execution_count": 9,
   "metadata": {},
   "outputs": [],
   "source": [
    "#All the users that are positive but are not in score_bin\n",
    "all_usr = ur_to_check(simple_data_uncleaned)\n",
    "bin_usr = set(score_bin.user_id)\n",
    "small_usr=all_usr-bin_usr"
   ]
  },
  {
   "cell_type": "code",
   "execution_count": 10,
   "metadata": {},
   "outputs": [],
   "source": [
    "#Checking the cleaned ones that are not in the score_bin\n",
    "usr_actions  = simple_data_uncleaned.pivot_table(values=\"event_timestamp\", index=\"user_id\", aggfunc=pd.Series.nunique).fillna(0)\n",
    "small_usr_test = set(usr_actions[(usr_actions.event_timestamp<=10) | (usr_actions.event_timestamp>=1000)].index)\n",
    "usr_to_check = list(set(small_usr)-set(small_usr_test))\n",
    "df_to_check = simple_data_uncleaned.set_index('user_id').loc[usr_to_check,:]\n",
    "df_to_check = df_to_check[df_to_check.dir_string_value!='LEFT']\n"
   ]
  },
  {
   "cell_type": "code",
   "execution_count": 18,
   "metadata": {},
   "outputs": [
    {
     "data": {
      "text/plain": [
       "[2119,\n",
       " 4520,\n",
       " 2823,\n",
       " 6951,\n",
       " 6156,\n",
       " 5710,\n",
       " 6512,\n",
       " 3251,\n",
       " 2357,\n",
       " 2997,\n",
       " 4311,\n",
       " 3640,\n",
       " 2937,\n",
       " 2810,\n",
       " 5468]"
      ]
     },
     "execution_count": 18,
     "metadata": {},
     "output_type": "execute_result"
    }
   ],
   "source": [
    "#This users are all with removed positive\n",
    "usr_to_check"
   ]
  },
  {
   "cell_type": "code",
   "execution_count": 13,
   "metadata": {},
   "outputs": [
    {
     "data": {
      "text/plain": [
       "True"
      ]
     },
     "execution_count": 13,
     "metadata": {},
     "output_type": "execute_result"
    }
   ],
   "source": [
    "set(df_to_check.loc[2119,:].event_name).union(set(['MY_FAVS_REMOVE_RESTAURANT','RESTAURANT_FAVOURITE']))!=set()"
   ]
  },
  {
   "cell_type": "markdown",
   "metadata": {},
   "source": [
    "Check if the user_id are correct"
   ]
  },
  {
   "cell_type": "code",
   "execution_count": 21,
   "metadata": {},
   "outputs": [
    {
     "name": "stderr",
     "output_type": "stream",
     "text": [
      "/Users/pablogranatiero/opt/anaconda3/lib/python3.7/site-packages/pandas/core/indexing.py:1761: PerformanceWarning: indexing past lexsort depth may impact performance.\n",
      "  return self._getitem_tuple(key)\n"
     ]
    },
    {
     "data": {
      "text/plain": [
       "array([[ True,  True]])"
      ]
     },
     "execution_count": 21,
     "metadata": {},
     "output_type": "execute_result"
    }
   ],
   "source": [
    "u_id=7494; r_id=19\n",
    "loaded = simple_data_filtered_cleaned.set_index(['user_id','restaurant_id']).loc[(u_id,r_id), ['user_pseudo_id','name_string_value']].drop_duplicates()\n",
    "runned = simple_data_uncleaned.set_index(['user_id','restaurant_id']).loc[(u_id,r_id), ['user_pseudo_id','name_string_value']].drop_duplicates()\n",
    "loaded.values==runned.values\n",
    "    \n",
    "    "
   ]
  },
  {
   "cell_type": "markdown",
   "metadata": {},
   "source": [
    "## Experiment0: training the algorithm with test_size = 0.1, over min_like=1"
   ]
  },
  {
   "cell_type": "code",
   "execution_count": 12,
   "metadata": {},
   "outputs": [],
   "source": [
    "np.random.seed(3)\n",
    "#I kept the train and test data from score_bin data frame\n",
    "train, test = train_test_split(score_bin, test_size=0.1)\n",
    "#I took just the users and restaurants with at least 5 \"like\"\n",
    "UI_tr = get_User_Items_bin(train, 1, 1)\n",
    "UI_ts = get_User_Items_bin(test)\n",
    "    \n",
    "rec_bin = CollaborativeFiltering(UI_tr, cosine_similarity)\n",
    "rec_bin.fit_items_bin()"
   ]
  },
  {
   "cell_type": "markdown",
   "metadata": {},
   "source": [
    "Inspecting the train and test set"
   ]
  },
  {
   "cell_type": "code",
   "execution_count": 15,
   "metadata": {},
   "outputs": [
    {
     "name": "stderr",
     "output_type": "stream",
     "text": [
      "/Users/pablogranatiero/opt/anaconda3/lib/python3.7/site-packages/ipykernel_launcher.py:1: SettingWithCopyWarning: \n",
      "A value is trying to be set on a copy of a slice from a DataFrame.\n",
      "Try using .loc[row_indexer,col_indexer] = value instead\n",
      "\n",
      "See the caveats in the documentation: https://pandas.pydata.org/pandas-docs/stable/user_guide/indexing.html#returning-a-view-versus-a-copy\n",
      "  \"\"\"Entry point for launching an IPython kernel.\n"
     ]
    }
   ],
   "source": [
    "train['is_positive']=train['is_positive']*1"
   ]
  },
  {
   "cell_type": "code",
   "execution_count": 16,
   "metadata": {},
   "outputs": [],
   "source": [
    "train_to_test = pd.pivot_table(train, values='is_positive', index='user_id',\n",
    "                    columns='restaurant_id', aggfunc=np.sum).fillna(0)"
   ]
  },
  {
   "cell_type": "code",
   "execution_count": 17,
   "metadata": {},
   "outputs": [
    {
     "data": {
      "text/plain": [
       "count    1374.000000\n",
       "mean       16.002183\n",
       "std        14.422432\n",
       "min         5.000000\n",
       "25%         7.000000\n",
       "50%        11.000000\n",
       "75%        20.000000\n",
       "max       109.000000\n",
       "dtype: float64"
      ]
     },
     "execution_count": 17,
     "metadata": {},
     "output_type": "execute_result"
    }
   ],
   "source": [
    "rest_to_take = train_to_test.sum(axis=0)[train_to_test.sum(axis=0)>=5].index\n",
    "user_to_take = train_to_test.sum(axis=1)[train_to_test.sum(axis=1)>=5].index\n",
    "train_to_test = train_to_test.loc[user_to_take,rest_to_take]\n",
    "train_to_test.sum(axis=1).describe()"
   ]
  },
  {
   "cell_type": "code",
   "execution_count": 18,
   "metadata": {},
   "outputs": [
    {
     "name": "stdout",
     "output_type": "stream",
     "text": [
      "There are 2955 users.\n",
      "..\n",
      "25137 likes.\n",
      "..\n",
      "count    2955.000000\n",
      "mean        8.506599\n",
      "std        12.088461\n",
      "min         1.000000\n",
      "25%         2.000000\n",
      "50%         4.000000\n",
      "75%        10.000000\n",
      "max       109.000000\n",
      "dtype: float64\n"
     ]
    }
   ],
   "source": [
    "#My train set statistics\n",
    "string = 'There are {} users.\\n..\\n{} likes.\\n..\\n{}'.format(len(UI_tr.index), UI_tr.sum(axis=1).sum(), UI_tr.sum(axis=1).describe())\n",
    "print(string)\n"
   ]
  },
  {
   "cell_type": "code",
   "execution_count": 19,
   "metadata": {
    "scrolled": true
   },
   "outputs": [
    {
     "name": "stdout",
     "output_type": "stream",
     "text": [
      "There are 1295 users.\n",
      "..\n",
      "2793 likes.\n",
      "..\n",
      "count    1295.000000\n",
      "mean        2.156757\n",
      "std         1.840045\n",
      "min         1.000000\n",
      "25%         1.000000\n",
      "50%         1.000000\n",
      "75%         3.000000\n",
      "max        15.000000\n",
      "dtype: float64\n"
     ]
    }
   ],
   "source": [
    "#In the test set there are:\n",
    "string = 'There are {} users.\\n..\\n{} likes.\\n..\\n{}'.format(len(UI_ts.index), UI_ts.sum(axis=1).sum(), UI_ts.sum(axis=1).describe())\n",
    "print(string)"
   ]
  },
  {
   "cell_type": "markdown",
   "metadata": {},
   "source": [
    "#### The scores of the model for experiment 0"
   ]
  },
  {
   "cell_type": "code",
   "execution_count": 9,
   "metadata": {},
   "outputs": [
    {
     "name": "stdout",
     "output_type": "stream",
     "text": [
      "The accuracy is 0.09319968467337134\n",
      "The f1 score is 0.10638989494253484\n",
      "The p@5 is 0.08768256478640735\n",
      "The k@5 is 0.18810516954781337\n",
      "The sigma over 5 splits is 0.0032196429437567806\n"
     ]
    }
   ],
   "source": [
    "score0 = scores_bin(score_bin, repeat=5, N_neigh=np.inf, K=5, min_rated_restaurants=1, min_rated_users=1, ts_size=0.1)\n",
    "print('The accuracy is {}\\nThe f1 score is {}\\nThe p@5 is {}\\nThe k@5 is {}\\nThe sigma over 5 splits is {}'.format(score0[0][0],score0[0][1],score0[0][2], score0[0][3], score0[1]))\n"
   ]
  },
  {
   "cell_type": "markdown",
   "metadata": {},
   "source": [
    "## Experiment1: training the algorithm with test_size = 0.1, over min_like=5\n"
   ]
  },
  {
   "cell_type": "markdown",
   "metadata": {},
   "source": [
    "#### The scores of the model for experiment 1"
   ]
  },
  {
   "cell_type": "code",
   "execution_count": 10,
   "metadata": {},
   "outputs": [
    {
     "name": "stdout",
     "output_type": "stream",
     "text": [
      "The accuracy is 0.11420115075441946\n",
      "The f1 score is 0.12663850837734233\n",
      "The p@5 is 0.10666024950563187\n",
      "The k@5 is 0.20986311060371987\n",
      "The sigma over 5 splits is 0.007156043805192013\n"
     ]
    }
   ],
   "source": [
    "score1 = scores_bin(score_bin, repeat=5, N_neigh=np.inf, K=5, min_rated_restaurants=5, min_rated_users=5, ts_size=0.1)\n",
    "print('The accuracy is {}\\nThe f1 score is {}\\nThe p@5 is {}\\nThe k@5 is {}\\nThe sigma over 5 splits is {}'.format(score1[0][0],score1[0][1],score1[0][2], score1[0][3], score1[1]))\n"
   ]
  },
  {
   "cell_type": "markdown",
   "metadata": {},
   "source": [
    "## Experiment2: training the algorithm with test_size = 0.1, over min_like=5. N_neigh from 10 to full data in a grid"
   ]
  },
  {
   "cell_type": "code",
   "execution_count": 11,
   "metadata": {},
   "outputs": [
    {
     "name": "stdout",
     "output_type": "stream",
     "text": [
      "10\n",
      "20\n",
      "30\n",
      "40\n",
      "50\n",
      "60\n",
      "70\n",
      "80\n",
      "90\n",
      "100\n",
      "110\n",
      "120\n",
      "130\n",
      "140\n",
      "150\n",
      "160\n"
     ]
    }
   ],
   "source": [
    "scores=[]\n",
    "for i in range(10,170,10):\n",
    "    print(i)\n",
    "    scores.append((i,scores_bin(score_bin, repeat=5, N_neigh=i,\\\n",
    "                                K=5,min_rated_restaurants=5,min_rated_users=5)))"
   ]
  },
  {
   "cell_type": "code",
   "execution_count": 22,
   "metadata": {},
   "outputs": [],
   "source": [
    "scores_df = pd.DataFrame(columns=['accuracy','f1','p@K','r@K','train_ratio','sigma'], index=range(10,170, 10))\n",
    "\n",
    "for i in range(len(scores)):\n",
    "    scores_df.loc[scores[i][0], ['accuracy','f1','p@K','r@K','train_ratio']]=scores[i][1][0]\n",
    "    scores_df.loc[scores[i][0], 'sigma']=scores[i][1][1]"
   ]
  },
  {
   "cell_type": "code",
   "execution_count": 23,
   "metadata": {},
   "outputs": [
    {
     "data": {
      "text/html": [
       "<div>\n",
       "<style scoped>\n",
       "    .dataframe tbody tr th:only-of-type {\n",
       "        vertical-align: middle;\n",
       "    }\n",
       "\n",
       "    .dataframe tbody tr th {\n",
       "        vertical-align: top;\n",
       "    }\n",
       "\n",
       "    .dataframe thead th {\n",
       "        text-align: right;\n",
       "    }\n",
       "</style>\n",
       "<table border=\"1\" class=\"dataframe\">\n",
       "  <thead>\n",
       "    <tr style=\"text-align: right;\">\n",
       "      <th></th>\n",
       "      <th>accuracy</th>\n",
       "      <th>f1</th>\n",
       "      <th>p@K</th>\n",
       "      <th>r@K</th>\n",
       "      <th>train_ratio</th>\n",
       "      <th>sigma</th>\n",
       "    </tr>\n",
       "  </thead>\n",
       "  <tbody>\n",
       "    <tr>\n",
       "      <th>10</th>\n",
       "      <td>0.124552</td>\n",
       "      <td>0.134896</td>\n",
       "      <td>0.114688</td>\n",
       "      <td>0.220107</td>\n",
       "      <td>0.684602</td>\n",
       "      <td>0.00333067</td>\n",
       "    </tr>\n",
       "    <tr>\n",
       "      <th>20</th>\n",
       "      <td>0.117037</td>\n",
       "      <td>0.128376</td>\n",
       "      <td>0.109661</td>\n",
       "      <td>0.207074</td>\n",
       "      <td>0.68772</td>\n",
       "      <td>0.00471795</td>\n",
       "    </tr>\n",
       "    <tr>\n",
       "      <th>30</th>\n",
       "      <td>0.118303</td>\n",
       "      <td>0.129885</td>\n",
       "      <td>0.110299</td>\n",
       "      <td>0.212953</td>\n",
       "      <td>0.687533</td>\n",
       "      <td>0.00502483</td>\n",
       "    </tr>\n",
       "    <tr>\n",
       "      <th>40</th>\n",
       "      <td>0.127472</td>\n",
       "      <td>0.132382</td>\n",
       "      <td>0.112563</td>\n",
       "      <td>0.217271</td>\n",
       "      <td>0.683</td>\n",
       "      <td>0.00571379</td>\n",
       "    </tr>\n",
       "    <tr>\n",
       "      <th>50</th>\n",
       "      <td>0.117767</td>\n",
       "      <td>0.128927</td>\n",
       "      <td>0.109487</td>\n",
       "      <td>0.210292</td>\n",
       "      <td>0.686289</td>\n",
       "      <td>0.00728737</td>\n",
       "    </tr>\n",
       "    <tr>\n",
       "      <th>60</th>\n",
       "      <td>0.110805</td>\n",
       "      <td>0.123667</td>\n",
       "      <td>0.105658</td>\n",
       "      <td>0.200339</td>\n",
       "      <td>0.682221</td>\n",
       "      <td>0.00457333</td>\n",
       "    </tr>\n",
       "    <tr>\n",
       "      <th>70</th>\n",
       "      <td>0.11705</td>\n",
       "      <td>0.129</td>\n",
       "      <td>0.109883</td>\n",
       "      <td>0.210444</td>\n",
       "      <td>0.679127</td>\n",
       "      <td>0.00386969</td>\n",
       "    </tr>\n",
       "    <tr>\n",
       "      <th>80</th>\n",
       "      <td>0.115322</td>\n",
       "      <td>0.12643</td>\n",
       "      <td>0.108112</td>\n",
       "      <td>0.205973</td>\n",
       "      <td>0.682996</td>\n",
       "      <td>0.00551055</td>\n",
       "    </tr>\n",
       "    <tr>\n",
       "      <th>90</th>\n",
       "      <td>0.116807</td>\n",
       "      <td>0.124636</td>\n",
       "      <td>0.106024</td>\n",
       "      <td>0.201384</td>\n",
       "      <td>0.682503</td>\n",
       "      <td>0.0042309</td>\n",
       "    </tr>\n",
       "    <tr>\n",
       "      <th>100</th>\n",
       "      <td>0.114613</td>\n",
       "      <td>0.125493</td>\n",
       "      <td>0.106166</td>\n",
       "      <td>0.208303</td>\n",
       "      <td>0.682984</td>\n",
       "      <td>0.00965453</td>\n",
       "    </tr>\n",
       "    <tr>\n",
       "      <th>110</th>\n",
       "      <td>0.119189</td>\n",
       "      <td>0.125338</td>\n",
       "      <td>0.105074</td>\n",
       "      <td>0.205724</td>\n",
       "      <td>0.691702</td>\n",
       "      <td>0.00603784</td>\n",
       "    </tr>\n",
       "    <tr>\n",
       "      <th>120</th>\n",
       "      <td>0.115444</td>\n",
       "      <td>0.127311</td>\n",
       "      <td>0.107485</td>\n",
       "      <td>0.213158</td>\n",
       "      <td>0.682438</td>\n",
       "      <td>0.00676316</td>\n",
       "    </tr>\n",
       "    <tr>\n",
       "      <th>130</th>\n",
       "      <td>0.117463</td>\n",
       "      <td>0.129371</td>\n",
       "      <td>0.109278</td>\n",
       "      <td>0.213404</td>\n",
       "      <td>0.690298</td>\n",
       "      <td>0.00638416</td>\n",
       "    </tr>\n",
       "    <tr>\n",
       "      <th>140</th>\n",
       "      <td>0.115471</td>\n",
       "      <td>0.126146</td>\n",
       "      <td>0.106457</td>\n",
       "      <td>0.209949</td>\n",
       "      <td>0.688145</td>\n",
       "      <td>0.0029281</td>\n",
       "    </tr>\n",
       "    <tr>\n",
       "      <th>150</th>\n",
       "      <td>0.116857</td>\n",
       "      <td>0.12481</td>\n",
       "      <td>0.106226</td>\n",
       "      <td>0.204564</td>\n",
       "      <td>0.682528</td>\n",
       "      <td>0.00662274</td>\n",
       "    </tr>\n",
       "    <tr>\n",
       "      <th>160</th>\n",
       "      <td>0.119091</td>\n",
       "      <td>0.128284</td>\n",
       "      <td>0.107154</td>\n",
       "      <td>0.215692</td>\n",
       "      <td>0.69209</td>\n",
       "      <td>0.00410809</td>\n",
       "    </tr>\n",
       "  </tbody>\n",
       "</table>\n",
       "</div>"
      ],
      "text/plain": [
       "     accuracy        f1       p@K       r@K train_ratio       sigma\n",
       "10   0.124552  0.134896  0.114688  0.220107    0.684602  0.00333067\n",
       "20   0.117037  0.128376  0.109661  0.207074     0.68772  0.00471795\n",
       "30   0.118303  0.129885  0.110299  0.212953    0.687533  0.00502483\n",
       "40   0.127472  0.132382  0.112563  0.217271       0.683  0.00571379\n",
       "50   0.117767  0.128927  0.109487  0.210292    0.686289  0.00728737\n",
       "60   0.110805  0.123667  0.105658  0.200339    0.682221  0.00457333\n",
       "70    0.11705     0.129  0.109883  0.210444    0.679127  0.00386969\n",
       "80   0.115322   0.12643  0.108112  0.205973    0.682996  0.00551055\n",
       "90   0.116807  0.124636  0.106024  0.201384    0.682503   0.0042309\n",
       "100  0.114613  0.125493  0.106166  0.208303    0.682984  0.00965453\n",
       "110  0.119189  0.125338  0.105074  0.205724    0.691702  0.00603784\n",
       "120  0.115444  0.127311  0.107485  0.213158    0.682438  0.00676316\n",
       "130  0.117463  0.129371  0.109278  0.213404    0.690298  0.00638416\n",
       "140  0.115471  0.126146  0.106457  0.209949    0.688145   0.0029281\n",
       "150  0.116857   0.12481  0.106226  0.204564    0.682528  0.00662274\n",
       "160  0.119091  0.128284  0.107154  0.215692     0.69209  0.00410809"
      ]
     },
     "execution_count": 23,
     "metadata": {},
     "output_type": "execute_result"
    }
   ],
   "source": [
    "scores_df"
   ]
  },
  {
   "cell_type": "markdown",
   "metadata": {},
   "source": [
    "Getting the plots of accuracy vs number of likes"
   ]
  },
  {
   "cell_type": "code",
   "execution_count": 153,
   "metadata": {},
   "outputs": [],
   "source": [
    "def get_user_count_plot_train(UI_train, UI_test, predict_metod, N_neigh, K):\n",
    "    \n",
    "    users_to_check = set(UI_train.index).intersection(set(UI_test.index))\n",
    "    error_rates = [(UI_tr.sum(axis=1).loc[i],\\\n",
    "               prec_recall_k_bin(i, UI_train, UI_test, predict_metod, N_neigh, K)[0]) for i in users_to_check]\n",
    "    \n",
    "    plt.scatter(*zip(*error_rates))\n",
    "    plt.xlabel(\"Number of interactions\")\n",
    "    plt.ylabel(\"Accuracy\")\n",
    "    plt.show()\n",
    "\n",
    "def get_user_count_plot_test(UI_train, UI_test, predict_metod, N_neigh, K):\n",
    "    \n",
    "    users_to_check = set(UI_train.index).intersection(set(UI_test.index))\n",
    "    error_rates = [(UI_ts.sum(axis=1).loc[i],\\\n",
    "               prec_recall_k_bin(i, UI_train, UI_test, predict_metod, N_neigh, K)[0]) for i in users_to_check]\n",
    "    \n",
    "    plt.scatter(*zip(*error_rates))\n",
    "    plt.xlabel(\"Number of interactions\")\n",
    "    plt.ylabel(\"Accuracy\")\n",
    "    plt.show()    "
   ]
  },
  {
   "cell_type": "markdown",
   "metadata": {},
   "source": [
    "Plot of accuracy vs #likes: it does not appear a clear relation"
   ]
  },
  {
   "cell_type": "code",
   "execution_count": 152,
   "metadata": {
    "scrolled": true
   },
   "outputs": [
    {
     "data": {
      "image/png": "[encoded data removed]",
      "text/plain": [
       "<Figure size 432x288 with 1 Axes>"
      ]
     },
     "metadata": {
      "needs_background": "light"
     },
     "output_type": "display_data"
    }
   ],
   "source": [
    "get_user_count_plot_train(UI_tr, UI_ts, rec_bin.predict_K_item_bin, 10, 5)"
   ]
  },
  {
   "cell_type": "markdown",
   "metadata": {},
   "source": [
    "Plot of accuracy Vs test #likes. Nor here appear a clear relation"
   ]
  },
  {
   "cell_type": "code",
   "execution_count": 154,
   "metadata": {},
   "outputs": [
    {
     "data": {
      "image/png": "[encoded data removed]",
      "text/plain": [
       "<Figure size 432x288 with 1 Axes>"
      ]
     },
     "metadata": {
      "needs_background": "light"
     },
     "output_type": "display_data"
    }
   ],
   "source": [
    "get_user_count_plot_test(UI_tr, UI_ts, rec_bin.predict_K_item_bin, 10, 5)"
   ]
  },
  {
   "cell_type": "code",
   "execution_count": null,
   "metadata": {},
   "outputs": [],
   "source": [
    "scores_bin(score_data_bin, repeat, N_neigh, K, min_rated_restaurants, min_rated_users, ts_size=0.1)"
   ]
  },
  {
   "cell_type": "markdown",
   "metadata": {},
   "source": [
    "## Experiment4: training the algorithm with test_size = 0.1, over min_like=5. N_neigh from 10 to full data in a grid. Trying to add features"
   ]
  },
  {
   "cell_type": "markdown",
   "metadata": {},
   "source": [
    "Exploring the users that push several time a button on the same restaurant"
   ]
  },
  {
   "cell_type": "code",
   "execution_count": 222,
   "metadata": {},
   "outputs": [],
   "source": [
    "n_feat = 3\n",
    "menu_feat = features_interaction(simple_data_cleaned_filtered, 'menu', n_feat)\n",
    "full_score_feat_couples  = set(menu_feat.set_index(['restaurant_id','user_id']).index)\n"
   ]
  },
  {
   "cell_type": "markdown",
   "metadata": {},
   "source": [
    "These are the users that in Madrid and without outliers are pushing menu n_feat times\n"
   ]
  },
  {
   "cell_type": "code",
   "execution_count": 225,
   "metadata": {},
   "outputs": [
    {
     "data": {
      "text/plain": [
       "79"
      ]
     },
     "execution_count": 225,
     "metadata": {},
     "output_type": "execute_result"
    }
   ],
   "source": [
    "len(menu_feat)"
   ]
  },
  {
   "cell_type": "code",
   "execution_count": 246,
   "metadata": {},
   "outputs": [
    {
     "data": {
      "image/png": "[encoded data removed]",
      "text/plain": [
       "<Figure size 432x288 with 1 Axes>"
      ]
     },
     "metadata": {
      "needs_background": "light"
     },
     "output_type": "display_data"
    }
   ],
   "source": [
    "data = [[len(features_interaction(simple_data_cleaned_filtered, 'view_item', 1)), \\\n",
    "         len(features_interaction(simple_data_cleaned_filtered, 'menu', 1)), \\\n",
    "         len(features_interaction(simple_data_cleaned_filtered, 'website', 1)), \\\n",
    "         len(features_interaction(simple_data_cleaned_filtered, 'instagram', 1))],\n",
    "        [len(features_interaction(simple_data_cleaned_filtered, 'view_item', 2)), \\\n",
    "         len(features_interaction(simple_data_cleaned_filtered, 'menu', 2)), \\\n",
    "         len(features_interaction(simple_data_cleaned_filtered, 'website', 2)), \\\n",
    "         len(features_interaction(simple_data_cleaned_filtered, 'instagram', 2))],\n",
    "        [len(features_interaction(simple_data_cleaned_filtered, 'view_item', 3)), \\\n",
    "         len(features_interaction(simple_data_cleaned_filtered, 'menu', 3)), \\\n",
    "         len(features_interaction(simple_data_cleaned_filtered, 'website', 3)), \\\n",
    "         len(features_interaction(simple_data_cleaned_filtered, 'instagram', 3))],]\n",
    "X = np.arange(4)\n",
    "fig = plt.figure()\n",
    "ax = fig.add_axes([0,0,1,1])\n",
    "plt.yscale('log')            # Defines log scale\n",
    "\n",
    "ax.bar(X + 0.00, data[0], color = 'c', width = 0.25)\n",
    "ax.bar(X + 0.25, data[1], color = 'tab:blue', width = 0.25)\n",
    "ax.bar(X + 0.50, data[2], color = 'grey', width = 0.25)\n",
    "ax.legend(labels=['Reap_min=1', 'Reap_min=2', 'Reap_min=3'])\n",
    "plt.xticks(X, ['view_item', 'menu', 'website', 'instagram'])\n",
    "\n",
    "plt.savefig('TFM_figures/Repeated_Actions.jpg', dpi=300, bbox_inches=\"tight\")\n"
   ]
  },
  {
   "cell_type": "markdown",
   "metadata": {},
   "source": [
    "Checking if the users in score_feat are the ones in score_bin + the ones in menu_feat dropping the duplicates and the not in users and not in restaurants:"
   ]
  },
  {
   "cell_type": "code",
   "execution_count": 210,
   "metadata": {
    "scrolled": true
   },
   "outputs": [
    {
     "data": {
      "text/plain": [
       "True"
      ]
     },
     "execution_count": 210,
     "metadata": {},
     "output_type": "execute_result"
    }
   ],
   "source": [
    "score_feat = add_features_bin(score_bin, simple_data_cleaned_filtered, ['menu'], 2)\n",
    "\n",
    "score_bin_couples = set(score_bin.set_index(['restaurant_id','user_id']).index)\n",
    "score_feat_couples = set(score_feat.set_index(['restaurant_id','user_id']).index)\n",
    "\n",
    "full_feat_bin = set(full_score_feat_couples.union(score_bin_couples))\n",
    "\n",
    "not_in_user_rest = full_feat_bin - score_feat_couples\n",
    "\n",
    "#check if score_feat_couples-full_feat_bin is empty \n",
    "score_feat_couples-full_feat_bin == set()"
   ]
  },
  {
   "cell_type": "code",
   "execution_count": 211,
   "metadata": {
    "scrolled": false
   },
   "outputs": [
    {
     "data": {
      "text/plain": [
       "True"
      ]
     },
     "execution_count": 211,
     "metadata": {},
     "output_type": "execute_result"
    }
   ],
   "source": [
    "zipped = list(not_in_user_rest)\n",
    "unzipped_object = zip(*zipped)\n",
    "unzipped_list = list(unzipped_object)\n",
    "not_in_user_set = set(unzipped_list[1])\n",
    "score_bin_users = set(score_bin.user_id)\n",
    "not_in_user_set.intersection(score_bin_users) == set()"
   ]
  },
  {
   "cell_type": "markdown",
   "metadata": {},
   "source": [
    "Exploring a train_feat set statistics\n"
   ]
  },
  {
   "cell_type": "code",
   "execution_count": 123,
   "metadata": {},
   "outputs": [],
   "source": [
    "np.random.seed(3)\n",
    "n_feat = 1\n",
    "\n",
    "#We split the score_bin dataset\n",
    "train, test = train_test_split(score_bin, test_size=0.1)\n",
    "\n",
    "#We take the user and restaurants with more then 5\n",
    "count_train_usr  = train.groupby('user_id')['is_positive'].sum()\n",
    "count_train_rest = train.groupby('restaurant_id')['is_positive'].sum()\n",
    "usr_to_take = count_train_usr[count_train_usr>=5].index\n",
    "rst_to_take = count_train_rest[count_train_rest>=5].index\n",
    "\n",
    "#We add the features to the train set\n",
    "train_feat = add_features_bin(train, simple_data_cleaned_filtered, ['menu', 'website', 'instagram'], min_count_feat=n_feat)\n",
    "\n",
    "#We train the model filtering the users with features that have more then five likes\n",
    "UI_tr_feat = get_User_Items_bin(train_feat, min_rated_restaurants=1, min_rated_users=1)\n",
    "UI_tr_feat = UI_tr_feat.loc[usr_to_take,rst_to_take]\n"
   ]
  },
  {
   "cell_type": "code",
   "execution_count": 124,
   "metadata": {
    "scrolled": true
   },
   "outputs": [
    {
     "name": "stdout",
     "output_type": "stream",
     "text": [
      "There are 1374 users.\n",
      "..\n",
      "24637 interactions.\n",
      "..\n",
      "count    1374.000000\n",
      "mean       17.930859\n",
      "std        14.689018\n",
      "min         5.000000\n",
      "25%         8.000000\n",
      "50%        13.000000\n",
      "75%        23.000000\n",
      "max       110.000000\n",
      "dtype: float64\n"
     ]
    }
   ],
   "source": [
    "#My train_feat set statistics\n",
    "string = 'There are {} users.\\n..\\n{} interactions.\\n..\\n{}'.format(len(UI_tr_feat.index), UI_tr_feat.sum(axis=1).sum(), UI_tr_feat.sum(axis=1).describe())\n",
    "print(string)\n"
   ]
  },
  {
   "cell_type": "markdown",
   "metadata": {},
   "source": [
    "#### The scores of the model for experiment 4, over a grid of all the buttons' combinations and Reap_min=1:3"
   ]
  },
  {
   "cell_type": "code",
   "execution_count": 213,
   "metadata": {},
   "outputs": [],
   "source": [
    "def scores_bin_feat(score_data_bin, repeat, feat_to_add, N_neigh, n_feat, K, min_rated_restaurants, min_rated_users, ts_size=0.1):\n",
    "    \n",
    "    tot_scores=[]\n",
    "    for i in range(repeat): \n",
    "        train, test = train_test_split(score_bin, test_size=0.1)\n",
    "\n",
    "        #We take the user and restaurants with more then 5\n",
    "        count_train_usr  = train.groupby('user_id')['is_positive'].sum()\n",
    "        count_train_rest = train.groupby('restaurant_id')['is_positive'].sum()\n",
    "        usr_to_take = count_train_usr[count_train_usr>=min_rated_restaurants].index\n",
    "        rst_to_take = count_train_rest[count_train_rest>=min_rated_users].index\n",
    "\n",
    "        #We add the features to the train set\n",
    "        train_feat = add_features_bin(train, simple_data_cleaned_filtered, feat_to_add, min_count_feat=n_feat)\n",
    "\n",
    "       #We train the model filtering the users with features that have more then five likes\n",
    "        UI_tr_feat = get_User_Items_bin(train_feat, min_rated_restaurants=1, min_rated_users=1)\n",
    "        UI_tr_feat = UI_tr_feat.loc[usr_to_take,rst_to_take]\n",
    "        UI_ts = get_User_Items_bin(test)\n",
    "    \n",
    "        rec_bin = CollaborativeFiltering(UI_tr_feat, cosine_similarity)\n",
    "        rec_bin.fit_items_bin()\n",
    "        tot_scores.append(mean_prec_recall_at_k_bin(UI_tr_feat, UI_ts, rec_bin.predict_K_item_bin, N_neigh, K))\n",
    "    \n",
    "    mean_scores  = [sum(y) / len(y) for y in zip(*tot_scores)]\n",
    "    sigma_acc = np.sqrt(sum([(i[0]-mean_scores[0])**2 for i in tot_scores])/5)\n",
    "\n",
    "    return mean_scores, sigma_acc  \n"
   ]
  },
  {
   "cell_type": "code",
   "execution_count": 214,
   "metadata": {},
   "outputs": [
    {
     "name": "stdout",
     "output_type": "stream",
     "text": [
      "['view_item'] 1\n",
      "['menu'] 1\n",
      "['website'] 1\n",
      "['instagram'] 1\n",
      "['view_item', 'menu'] 1\n",
      "['view_item', 'website'] 1\n",
      "['view_item', 'instagram'] 1\n",
      "['menu', 'website'] 1\n",
      "['menu', 'instagram'] 1\n",
      "['website', 'instagram'] 1\n",
      "['view_item', 'menu', 'website'] 1\n",
      "['view_item', 'menu', 'instagram'] 1\n",
      "['view_item', 'website', 'instagram'] 1\n",
      "['menu', 'website', 'instagram'] 1\n",
      "['view_item', 'menu', 'website', 'instagram'] 1\n",
      "['view_item'] 2\n",
      "['menu'] 2\n",
      "['website'] 2\n",
      "['instagram'] 2\n",
      "['view_item', 'menu'] 2\n",
      "['view_item', 'website'] 2\n",
      "['view_item', 'instagram'] 2\n",
      "['menu', 'website'] 2\n",
      "['menu', 'instagram'] 2\n",
      "['website', 'instagram'] 2\n",
      "['view_item', 'menu', 'website'] 2\n",
      "['view_item', 'menu', 'instagram'] 2\n",
      "['view_item', 'website', 'instagram'] 2\n",
      "['menu', 'website', 'instagram'] 2\n",
      "['view_item', 'menu', 'website', 'instagram'] 2\n",
      "['view_item'] 3\n",
      "['menu'] 3\n",
      "['website'] 3\n",
      "['instagram'] 3\n",
      "['view_item', 'menu'] 3\n",
      "['view_item', 'website'] 3\n",
      "['view_item', 'instagram'] 3\n",
      "['menu', 'website'] 3\n",
      "['menu', 'instagram'] 3\n",
      "['website', 'instagram'] 3\n",
      "['view_item', 'menu', 'website'] 3\n",
      "['view_item', 'menu', 'instagram'] 3\n",
      "['view_item', 'website', 'instagram'] 3\n",
      "['menu', 'website', 'instagram'] 3\n",
      "['view_item', 'menu', 'website', 'instagram'] 3\n"
     ]
    }
   ],
   "source": [
    "all_string=['view_item', 'menu', 'website', 'instagram']\n",
    "\n",
    "all_combo = [list(i) for i in list(combinations(all_string,1))]\n",
    "for j in range(2,5):\n",
    "    for i in combinations(all_string,j): \n",
    "        all_combo.append(list(i))  \n",
    "\n",
    "grid_scores = pd.DataFrame(columns=['accuracy','sigma_acc','p@k','r@k','Tested_Ratio', 'feats', 'min_rated'])\n",
    "\n",
    "idx = 0\n",
    "for min_count in range(1, 4):\n",
    "    for combo in all_combo:\n",
    "        print(combo, min_count)\n",
    "        scores,sigma_acc=scores_bin_feat(score_data_bin=score_bin, repeat=5, feat_to_add=combo, N_neigh=10, \\\n",
    "                                              n_feat=min_count, K=5, min_rated_restaurants=5, min_rated_users=5, \\\n",
    "                                              ts_size=0.1)\n",
    "\n",
    "        \n",
    "        grid_scores.loc[idx,'p@k']=scores[1];grid_scores.loc[idx,'r@k']=scores[2]\n",
    "        grid_scores.loc[idx,'Tested_Ratio']=scores[3];grid_scores.loc[idx,'accuracy']=scores[0]\n",
    "        grid_scores.loc[idx,'feats']=combo;grid_scores.loc[idx,'min_rated']=min_count\n",
    "        grid_scores.loc[idx,'sigma_acc']=sigma_acc\n",
    "        idx += 1        "
   ]
  },
  {
   "cell_type": "code",
   "execution_count": 215,
   "metadata": {},
   "outputs": [],
   "source": [
    "best_acc = grid_scores['accuracy'].sort_values(ascending=False).index[0]\n"
   ]
  },
  {
   "cell_type": "markdown",
   "metadata": {},
   "source": [
    "The best accuracy is for menu & website button for reap_min=3"
   ]
  },
  {
   "cell_type": "code",
   "execution_count": 216,
   "metadata": {},
   "outputs": [
    {
     "data": {
      "text/plain": [
       "accuracy               0.130592\n",
       "sigma_acc             0.0038522\n",
       "p@k                    0.117149\n",
       "r@k                    0.229846\n",
       "Tested_Ratio           0.686481\n",
       "feats           [menu, website]\n",
       "min_rated                     3\n",
       "Name: 37, dtype: object"
      ]
     },
     "execution_count": 216,
     "metadata": {},
     "output_type": "execute_result"
    }
   ],
   "source": [
    "grid_scores.loc[best_acc,:]"
   ]
  },
  {
   "cell_type": "code",
   "execution_count": 271,
   "metadata": {},
   "outputs": [
    {
     "data": {
      "image/png": "[encoded data removed]",
      "text/plain": [
       "<Figure size 432x288 with 1 Axes>"
      ]
     },
     "metadata": {
      "needs_background": "light"
     },
     "output_type": "display_data"
    }
   ],
   "source": [
    "data = [[grid_scores.accuracy[0], \\\n",
    "         grid_scores.accuracy[1], \\\n",
    "         grid_scores.accuracy[2], \\\n",
    "         grid_scores.accuracy[3]],\n",
    "        [grid_scores.accuracy[15], \\\n",
    "         grid_scores.accuracy[16], \\\n",
    "         grid_scores.accuracy[17], \\\n",
    "         grid_scores.accuracy[18]],\n",
    "        [grid_scores.accuracy[30], \\\n",
    "         grid_scores.accuracy[31], \\\n",
    "         grid_scores.accuracy[32], \\\n",
    "         grid_scores.accuracy[33]],]\n",
    "X = np.arange(4)\n",
    "fig = plt.figure()\n",
    "ax = fig.add_axes([0,0,1,1])\n",
    "\n",
    "ax.bar(X + 0.00, data[0], color = 'c', width = 0.25, yerr=grid_scores.sigma_acc[:4].values)\n",
    "ax.bar(X + 0.25, data[1], color = 'tab:blue', width = 0.25, yerr=grid_scores.sigma_acc[15:19].values)\n",
    "ax.bar(X + 0.50, data[2], color = 'grey', width = 0.25, yerr=grid_scores.sigma_acc[30:34].values)\n",
    "ax.legend(labels=['Reap_min=1', 'Reap_min=2', 'Reap_min=3'], bbox_to_anchor=(1.05, 1), loc='upper left')\n",
    "plt.xticks(X, ['view_item', 'menu', 'website', 'instagram'])\n",
    "\n",
    "plt.savefig('TFM_figures/Accuracy_Feats.jpg', dpi=300, bbox_inches=\"tight\")"
   ]
  },
  {
   "cell_type": "code",
   "execution_count": 252,
   "metadata": {},
   "outputs": [],
   "source": [
    "grid_scores['view_item'] = [True if 'view_item' in val else False for val in grid_scores.feats]\n",
    "grid_scores['menu'] = [True if 'menu' in val else False for val in grid_scores.feats]\n",
    "grid_scores['website'] = [True if 'website' in val else False for val in grid_scores.feats]\n",
    "grid_scores['instagram'] = [True if 'instagram' in val else False for val in grid_scores.feats]\n"
   ]
  },
  {
   "cell_type": "code",
   "execution_count": 283,
   "metadata": {},
   "outputs": [
    {
     "data": {
      "text/plain": [
       "0.11565703947438244"
      ]
     },
     "execution_count": 283,
     "metadata": {},
     "output_type": "execute_result"
    }
   ],
   "source": [
    "grid_scores[grid_scores.view_item==True].accuracy.mean()\n",
    "grid_scores[grid_scores.menu==True].accuracy.mean()\n",
    "grid_scores[grid_scores.website==True].accuracy.mean()\n",
    "grid_scores[grid_scores.instagram==True].accuracy.mean()"
   ]
  },
  {
   "cell_type": "markdown",
   "metadata": {},
   "source": [
    "### Inspecting a train sample we can see that the best result does not carrie much more informations then binary model"
   ]
  },
  {
   "cell_type": "code",
   "execution_count": 169,
   "metadata": {},
   "outputs": [
    {
     "name": "stdout",
     "output_type": "stream",
     "text": [
      "There are 1374 users.\n",
      "..\n",
      "22000 interactions.\n",
      "..\n",
      "count    1374.000000\n",
      "mean       16.011645\n",
      "std        14.424776\n",
      "min         5.000000\n",
      "25%         7.000000\n",
      "50%        11.000000\n",
      "75%        20.000000\n",
      "max       109.000000\n",
      "dtype: float64\n"
     ]
    }
   ],
   "source": [
    "np.random.seed(3)\n",
    "n_feat = 3\n",
    "\n",
    "#We split the score_bin dataset\n",
    "train, test = train_test_split(score_bin, test_size=0.1)\n",
    "\n",
    "#We take the user and restaurants with more then 5\n",
    "count_train_usr  = train.groupby('user_id')['is_positive'].sum()\n",
    "count_train_rest = train.groupby('restaurant_id')['is_positive'].sum()\n",
    "usr_to_take = count_train_usr[count_train_usr>=5].index\n",
    "rst_to_take = count_train_rest[count_train_rest>=5].index\n",
    "\n",
    "#We add the features to the train set\n",
    "train_feat = add_features_bin(train, simple_data_cleaned_filtered, ['website', 'instagram'], min_count_feat=n_feat)\n",
    "\n",
    "#We train the model filtering the users with features that have more then five likes\n",
    "UI_tr_feat = get_User_Items_bin(train_feat, min_rated_restaurants=1, min_rated_users=1)\n",
    "UI_tr_feat = UI_tr_feat.loc[usr_to_take,rst_to_take]\n",
    "\n",
    "#My train_feat set statistics\n",
    "string = 'There are {} users.\\n..\\n{} interactions.\\n..\\n{}'.format(len(UI_tr_feat.index), UI_tr_feat.sum(axis=1).sum(), UI_tr_feat.sum(axis=1).describe())\n",
    "print(string)"
   ]
  },
  {
   "cell_type": "markdown",
   "metadata": {},
   "source": [
    "## Experiment4: training the algorithm with test_size = 0.1, over min_like=5. N_neigh=10. Inspecting time evolution"
   ]
  },
  {
   "cell_type": "code",
   "execution_count": 24,
   "metadata": {},
   "outputs": [
    {
     "data": {
      "text/plain": [
       "(datetime.date(2021, 3, 1), datetime.date(2021, 4, 30))"
      ]
     },
     "execution_count": 24,
     "metadata": {},
     "output_type": "execute_result"
    }
   ],
   "source": [
    "from datetime import date\n",
    "\n",
    "data_full['date'] = pd.to_datetime(data_full['event_timestamp'], unit='us').dt.date\n",
    "end   = list(data_full['date'].sort_values(ascending=False))[0]\n",
    "start = list(data_full['date'].sort_values(ascending=False))[-1]\n",
    "start, end"
   ]
  },
  {
   "cell_type": "markdown",
   "metadata": {},
   "source": [
    "### Two weeks data"
   ]
  },
  {
   "cell_type": "code",
   "execution_count": 25,
   "metadata": {},
   "outputs": [
    {
     "data": {
      "text/plain": [
       "(56751, 10)"
      ]
     },
     "execution_count": 25,
     "metadata": {},
     "output_type": "execute_result"
    }
   ],
   "source": [
    "two_weeks = date(2021,3,14)\n",
    "two_weeks_data = data_full[data_full['date']<=two_weeks]\n",
    "two_weeks_data.shape"
   ]
  },
  {
   "cell_type": "code",
   "execution_count": 34,
   "metadata": {},
   "outputs": [],
   "source": [
    "Score_Rules=[]\n",
    "pre_2w = PreProcessing_Data(two_weeks_data, restaurants_df, Score_Rules)\n",
    "pre_2w.init_simple_data()\n",
    "pre_2w.simple_data.copy()\n",
    "pre_2w.clean_anomalies(10, 1000)\n",
    "pre_2w.simple_data.copy()\n",
    "pre_2w.filter_data_for_collaborative()\n",
    "pre_2w.simple_data.copy()\n",
    "pre_2w.fit_data_score_bin()"
   ]
  },
  {
   "cell_type": "code",
   "execution_count": 51,
   "metadata": {},
   "outputs": [
    {
     "name": "stdout",
     "output_type": "stream",
     "text": [
      "The number of madrid users after 2 weeks with almost five like are 205\n"
     ]
    },
    {
     "data": {
      "text/plain": [
       "'The number of likes after two weeks, with almost five likes users is 3243'"
      ]
     },
     "execution_count": 51,
     "metadata": {},
     "output_type": "execute_result"
    }
   ],
   "source": [
    "pre_2w.fit_User_Items_bin(5,5)\n",
    "print('The number of madrid users after 2 weeks with almost five like are {}'.format(len(set(pre_2w.User_Items_bin.index))))\n",
    "'The number of likes after two weeks, with almost five likes users is {}'.format(pre_2w.User_Items_bin.sum().sum())\n"
   ]
  },
  {
   "cell_type": "code",
   "execution_count": 28,
   "metadata": {},
   "outputs": [],
   "source": [
    "def scores_bin(score_data_bin, repeat, N_neigh, K, min_rated_restaurants, min_rated_users, ts_size=0.1):\n",
    "    \n",
    "    tot_scores=[]\n",
    "    for i in range(repeat): \n",
    "        train, test = train_test_split(score_data_bin, test_size=ts_size)\n",
    "        UI_tr = get_User_Items_bin(train, min_rated_restaurants, min_rated_users)\n",
    "        UI_ts = get_User_Items_bin(test)\n",
    "    \n",
    "        rec_bin = CollaborativeFiltering(UI_tr, cosine_similarity)\n",
    "        rec_bin.fit_items_bin()\n",
    "        tot_scores.append(mean_prec_recall_at_k_bin(UI_tr, UI_ts, rec_bin.predict_K_item_bin, N_neigh, K))\n",
    "    #mean_scores = [sum(y) / len(y) for y in zip(*tot_scores)]\n",
    "    \n",
    "    return tot_scores "
   ]
  },
  {
   "cell_type": "code",
   "execution_count": 29,
   "metadata": {},
   "outputs": [],
   "source": [
    "np.random.seed(3)\n",
    "#I kept the train and test data from score_bin data frame\n",
    "train, test = train_test_split(pre_2w.score_data_bin, test_size=0.1)\n",
    "#I took just the users and restaurants with at least 5 \"like\"\n",
    "UI_tr = get_User_Items_bin(train, 5, 5)\n",
    "UI_ts = get_User_Items_bin(test)\n",
    "    \n",
    "rec_bin = CollaborativeFiltering(UI_tr, cosine_similarity)\n",
    "rec_bin.fit_items_bin()"
   ]
  },
  {
   "cell_type": "markdown",
   "metadata": {},
   "source": [
    "A sample train set statistics\n"
   ]
  },
  {
   "cell_type": "code",
   "execution_count": 31,
   "metadata": {},
   "outputs": [
    {
     "name": "stdout",
     "output_type": "stream",
     "text": [
      "There are 196 users.\n",
      "..\n",
      "2887 likes.\n",
      "..\n",
      "count    196.000000\n",
      "mean      14.729592\n",
      "std       12.859531\n",
      "min        4.000000\n",
      "25%        7.000000\n",
      "50%       10.000000\n",
      "75%       18.000000\n",
      "max       89.000000\n",
      "dtype: float64\n"
     ]
    }
   ],
   "source": [
    "string = 'There are {} users.\\n..\\n{} likes.\\n..\\n{}'.format(len(UI_tr.index), UI_tr.sum(axis=1).sum(), UI_tr.sum(axis=1).describe())\n",
    "print(string)"
   ]
  },
  {
   "cell_type": "markdown",
   "metadata": {},
   "source": [
    "A sample test set statistics\n"
   ]
  },
  {
   "cell_type": "code",
   "execution_count": 32,
   "metadata": {},
   "outputs": [
    {
     "name": "stdout",
     "output_type": "stream",
     "text": [
      "There are 181 users.\n",
      "..\n",
      "376 likes.\n",
      "..\n",
      "count    181.000000\n",
      "mean       2.077348\n",
      "std        1.600203\n",
      "min        1.000000\n",
      "25%        1.000000\n",
      "50%        1.000000\n",
      "75%        3.000000\n",
      "max       10.000000\n",
      "dtype: float64\n"
     ]
    }
   ],
   "source": [
    "#My train set statistics\n",
    "string = 'There are {} users.\\n..\\n{} likes.\\n..\\n{}'.format(len(UI_ts.index), UI_ts.sum(axis=1).sum(), UI_ts.sum(axis=1).describe())\n",
    "print(string)"
   ]
  },
  {
   "cell_type": "markdown",
   "metadata": {},
   "source": [
    "#### The performances after two weeks"
   ]
  },
  {
   "cell_type": "code",
   "execution_count": 181,
   "metadata": {},
   "outputs": [],
   "source": [
    "scores_2w = scores_bin(pre_2w.score_data_bin, 5, 10, 5, 5, 5, ts_size=0.1)"
   ]
  },
  {
   "cell_type": "code",
   "execution_count": 182,
   "metadata": {},
   "outputs": [
    {
     "data": {
      "text/plain": [
       "([0.09604502801487072,\n",
       "  0.10000746562086764,\n",
       "  0.1868691786304934,\n",
       "  0.659838201999006],\n",
       " 0.013425136962571891)"
      ]
     },
     "execution_count": 182,
     "metadata": {},
     "output_type": "execute_result"
    }
   ],
   "source": [
    "mean_scores_2w = [sum(y) / len(y) for y in zip(*scores_2w)]\n",
    "sigma_scores_2w = sum([(i[0]-mean_scores_2w[0])**2 for i in scores_2w])/5\n",
    "mean_scores_2w, np.sqrt(sigma_scores_2w)"
   ]
  },
  {
   "cell_type": "markdown",
   "metadata": {},
   "source": [
    "### Four weeks data"
   ]
  },
  {
   "cell_type": "code",
   "execution_count": 47,
   "metadata": {},
   "outputs": [
    {
     "data": {
      "text/plain": [
       "(146743, 10)"
      ]
     },
     "execution_count": 47,
     "metadata": {},
     "output_type": "execute_result"
    }
   ],
   "source": [
    "four_weeks = date(2021,3,28)\n",
    "four_weeks = data_full[data_full['date']<=four_weeks]\n",
    "four_weeks.shape"
   ]
  },
  {
   "cell_type": "code",
   "execution_count": 48,
   "metadata": {},
   "outputs": [],
   "source": [
    "Score_Rules=[]\n",
    "pre_4w = PreProcessing_Data(four_weeks, restaurants_df, Score_Rules)\n",
    "pre_4w.init_simple_data()\n",
    "pre_4w.simple_data.copy()\n",
    "pre_4w.clean_anomalies(10, 1000)\n",
    "pre_4w.simple_data.copy()\n",
    "pre_4w.filter_data_for_collaborative()\n",
    "pre_4w.simple_data.copy()\n",
    "pre_4w.fit_data_score_bin()"
   ]
  },
  {
   "cell_type": "code",
   "execution_count": 50,
   "metadata": {},
   "outputs": [],
   "source": [
    "pre_4w.fit_User_Items_bin(5,5)"
   ]
  },
  {
   "cell_type": "code",
   "execution_count": 53,
   "metadata": {},
   "outputs": [
    {
     "name": "stdout",
     "output_type": "stream",
     "text": [
      "The number of madrid users after 4 weeks with almost five like are 532\n"
     ]
    },
    {
     "data": {
      "text/plain": [
       "'The number of likes after 4 weeks, with almost five likes users is 8496'"
      ]
     },
     "execution_count": 53,
     "metadata": {},
     "output_type": "execute_result"
    }
   ],
   "source": [
    "pre_4w.fit_User_Items_bin(5,5)\n",
    "print('The number of madrid users after 4 weeks with almost five like are {}'.format(len(set(pre_4w.User_Items_bin.index))))\n",
    "'The number of likes after 4 weeks, with almost five likes users is {}'.format(pre_4w.User_Items_bin.sum().sum())\n"
   ]
  },
  {
   "cell_type": "markdown",
   "metadata": {},
   "source": [
    "#### The performances after four weeks"
   ]
  },
  {
   "cell_type": "code",
   "execution_count": 123,
   "metadata": {
    "scrolled": true
   },
   "outputs": [],
   "source": [
    "scores_4w = scores_bin(pre_4w.score_data_bin, 5, 10, 5, 5, 5, ts_size=0.1)"
   ]
  },
  {
   "cell_type": "code",
   "execution_count": 161,
   "metadata": {},
   "outputs": [
    {
     "data": {
      "text/plain": [
       "([0.11173587078963207,\n",
       "  0.11206169661610557,\n",
       "  0.21891807864904464,\n",
       "  0.6714778838927656],\n",
       " 0.007001928190837699)"
      ]
     },
     "execution_count": 161,
     "metadata": {},
     "output_type": "execute_result"
    }
   ],
   "source": [
    "mean_scores_4w = [sum(y) / len(y) for y in zip(*scores_4w)]\n",
    "sigma_scores_4w = sum([(i[0]-mean_scores_4w[0])**2 for i in scores_4w])/5\n",
    "\n",
    "mean_scores_4w, np.sqrt(sigma_scores_4w)"
   ]
  },
  {
   "cell_type": "markdown",
   "metadata": {},
   "source": [
    "### Six weeks data"
   ]
  },
  {
   "cell_type": "code",
   "execution_count": 54,
   "metadata": {},
   "outputs": [],
   "source": [
    "six_weeks = date(2021,4,11)\n",
    "six_weeks = data_full[data_full['date']<=six_weeks]\n",
    "six_weeks.shape\n",
    "\n",
    "Score_Rules=[]\n",
    "pre_6w = PreProcessing_Data(six_weeks, restaurants_df, Score_Rules)\n",
    "pre_6w.init_simple_data()\n",
    "pre_6w.simple_data.copy()\n",
    "pre_6w.clean_anomalies(10, 1000)\n",
    "pre_6w.simple_data.copy()\n",
    "pre_6w.filter_data_for_collaborative()\n",
    "pre_6w.simple_data.copy()\n",
    "pre_6w.fit_data_score_bin()\n"
   ]
  },
  {
   "cell_type": "code",
   "execution_count": 55,
   "metadata": {},
   "outputs": [
    {
     "name": "stdout",
     "output_type": "stream",
     "text": [
      "The number of madrid users after 6 weeks with almost five like are 858\n"
     ]
    },
    {
     "data": {
      "text/plain": [
       "'The number of likes after 6 weeks, with almost five likes users is 13808'"
      ]
     },
     "execution_count": 55,
     "metadata": {},
     "output_type": "execute_result"
    }
   ],
   "source": [
    "pre_6w.fit_User_Items_bin(5,5)\n",
    "print('The number of madrid users after 6 weeks with almost five like are {}'.format(len(set(pre_6w.User_Items_bin.index))))\n",
    "'The number of likes after 6 weeks, with almost five likes users is {}'.format(pre_6w.User_Items_bin.sum().sum())\n"
   ]
  },
  {
   "cell_type": "markdown",
   "metadata": {},
   "source": [
    "#### The performances after six weeks"
   ]
  },
  {
   "cell_type": "code",
   "execution_count": 195,
   "metadata": {},
   "outputs": [
    {
     "data": {
      "text/plain": [
       "([0.12040873229944185,\n",
       "  0.11199416234912007,\n",
       "  0.2270561128533753,\n",
       "  0.6759229724410043],\n",
       " 0.007232359599764038)"
      ]
     },
     "execution_count": 195,
     "metadata": {},
     "output_type": "execute_result"
    }
   ],
   "source": [
    "scores_6w = scores_bin(pre_6w.score_data_bin, 5, 10, 5, 5, 5, ts_size=0.1)\n",
    "mean_scores_6w = [sum(y) / len(y) for y in zip(*scores_6w)]\n",
    "sigma_scores_6w = sum([(i[0]-mean_scores_6w[0])**2 for i in scores_6w])/5\n",
    "mean_scores_6w, np.sqrt(sigma_scores_6w)"
   ]
  },
  {
   "cell_type": "markdown",
   "metadata": {},
   "source": [
    "### Eight weeks data\n"
   ]
  },
  {
   "cell_type": "code",
   "execution_count": 57,
   "metadata": {},
   "outputs": [
    {
     "name": "stdout",
     "output_type": "stream",
     "text": [
      "The number of madrid users after 8 weeks with almost five like are 1347\n"
     ]
    },
    {
     "data": {
      "text/plain": [
       "'The number of likes after 8 weeks, with almost five likes users is 22855'"
      ]
     },
     "execution_count": 57,
     "metadata": {},
     "output_type": "execute_result"
    }
   ],
   "source": [
    "eight_weeks = date(2021,4,25)\n",
    "eight_weeks = data_full[data_full['date']<=eight_weeks]\n",
    "\n",
    "Score_Rules=[]\n",
    "pre_8w = PreProcessing_Data(eight_weeks, restaurants_df, Score_Rules)\n",
    "pre_8w.init_simple_data()\n",
    "pre_8w.simple_data.copy()\n",
    "pre_8w.clean_anomalies(10, 1000)\n",
    "pre_8w.simple_data.copy()\n",
    "pre_8w.filter_data_for_collaborative()\n",
    "pre_8w.simple_data.copy()\n",
    "pre_8w.fit_data_score_bin()\n",
    "\n",
    "pre_8w.fit_User_Items_bin(5,5)\n",
    "print('The number of madrid users after 8 weeks with almost five like are {}'.format(len(set(pre_8w.User_Items_bin.index))))\n",
    "'The number of likes after 8 weeks, with almost five likes users is {}'.format(pre_8w.User_Items_bin.sum().sum())\n"
   ]
  },
  {
   "cell_type": "code",
   "execution_count": null,
   "metadata": {},
   "outputs": [],
   "source": [
    "eight_weeks = date(2021,4,25)\n",
    "eight_weeks = data_full[data_full['date']<=eight_weeks]\n",
    "\n",
    "Score_Rules=[]\n",
    "pre_8w = PreProcessing_Data(eight_weeks, restaurants_df, Score_Rules)\n",
    "pre_8w.init_simple_data()\n",
    "pre_8w.simple_data.copy()\n",
    "pre_8w.clean_anomalies(10, 1000)\n",
    "pre_8w.simple_data.copy()\n",
    "pre_8w.filter_data_for_collaborative()\n",
    "pre_8w.simple_data.copy()\n",
    "pre_8w.fit_data_score_bin()\n",
    "\n",
    "scores_bin(pre_8w.score_data_bin, 5, 10, 5, 5, 5, ts_size=0.1)"
   ]
  },
  {
   "cell_type": "markdown",
   "metadata": {},
   "source": [
    "#### The performances after eight weeks"
   ]
  },
  {
   "cell_type": "code",
   "execution_count": 164,
   "metadata": {},
   "outputs": [
    {
     "data": {
      "text/plain": [
       "([0.11556510760707508,\n",
       "  0.11102185569832819,\n",
       "  0.21885097827921948,\n",
       "  0.6765047525144776],\n",
       " 0.009116105466535513)"
      ]
     },
     "execution_count": 164,
     "metadata": {},
     "output_type": "execute_result"
    }
   ],
   "source": [
    "#scores_8w = scores_bin(pre_8w.score_data_bin, 5, 10, 5, 5, 5, ts_size=0.1)\n",
    "mean_scores_8w = [sum(y) / len(y) for y in zip(*scores_8w)]\n",
    "sigma_scores_8w = sum([(i[0]-mean_scores_8w[0])**2 for i in scores_8w])/5\n",
    "\n",
    "mean_scores_8w, np.sqrt(sigma_scores_8w)"
   ]
  },
  {
   "cell_type": "markdown",
   "metadata": {},
   "source": [
    "#### The performances after ten weeks"
   ]
  },
  {
   "cell_type": "code",
   "execution_count": 165,
   "metadata": {},
   "outputs": [
    {
     "data": {
      "text/plain": [
       "([0.12709452830096307,\n",
       "  0.11538165382018625,\n",
       "  0.2222953442916255,\n",
       "  0.6814829695682955],\n",
       " 0.006049170573596904)"
      ]
     },
     "execution_count": 165,
     "metadata": {},
     "output_type": "execute_result"
    }
   ],
   "source": [
    "scores_10w = scores_bin(score_bin, 5, 10, 5, 5, 5, ts_size=0.1)\n",
    "mean_scores_10w = [sum(y) / len(y) for y in zip(*scores_10w)]\n",
    "sigma_scores_10w = sum([(i[0]-mean_scores_10w[0])**2 for i in scores_10w])/5\n",
    "mean_scores_10w, np.sqrt(sigma_scores_10w)"
   ]
  },
  {
   "cell_type": "code",
   "execution_count": 196,
   "metadata": {},
   "outputs": [
    {
     "data": {
      "image/png": "[encoded data removed]",
      "text/plain": [
       "<Figure size 432x288 with 1 Axes>"
      ]
     },
     "metadata": {
      "needs_background": "light"
     },
     "output_type": "display_data"
    }
   ],
   "source": [
    "means_w = [mean_scores_2w[0], mean_scores_4w[0], mean_scores_6w[0], mean_scores_8w[0], mean_scores_10w[0]]\n",
    "weeks = [2 ,4 ,6 ,8 ,10]\n",
    "\n",
    "plt.plot(weeks, means_w, 'o', color='c')\n",
    "plt.plot([2,2], [mean_scores_2w[0]-np.sqrt(sigma_scores_2w), mean_scores_2w[0]+np.sqrt(sigma_scores_2w)], 'k-', lw=.5)\n",
    "plt.plot([4,4], [mean_scores_4w[0]-np.sqrt(sigma_scores_4w), mean_scores_4w[0]+np.sqrt(sigma_scores_4w)], 'k-', lw=.5)\n",
    "plt.plot([6,6], [mean_scores_6w[0]-np.sqrt(sigma_scores_6w), mean_scores_6w[0]+np.sqrt(sigma_scores_6w)], 'k-', lw=.5)\n",
    "plt.plot([8,8], [mean_scores_8w[0]-np.sqrt(sigma_scores_8w), mean_scores_8w[0]+np.sqrt(sigma_scores_8w)], 'k-', lw=.5)\n",
    "plt.plot([10,10], [mean_scores_10w[0]-np.sqrt(sigma_scores_10w), mean_scores_10w[0]+np.sqrt(sigma_scores_10w)], 'k-', lw=.5)\n",
    "\n",
    "plt.ylabel('Accuracy')\n",
    "plt.xlabel('Number of weeks')\n",
    "\n",
    "plt.savefig('TFM_figures/Acc_Vs_Number_of_weeks.jpg', dpi=300, bbox_inches=\"tight\")\n",
    "\n"
   ]
  },
  {
   "cell_type": "markdown",
   "metadata": {},
   "source": [
    "### Active users"
   ]
  },
  {
   "cell_type": "code",
   "execution_count": 64,
   "metadata": {},
   "outputs": [],
   "source": [
    "def get_usr_activity_df(data_full):\n",
    "    \n",
    "    pseudo_id_set = set(data_full.user_pseudo_id)\n",
    "    activity_df = pd.DataFrame(index=list(pseudo_id_set), columns=['delta', 'differents_days_activity'])\n",
    "\n",
    "    for pseudo_id in pseudo_id_set:\n",
    "        \n",
    "        usr_dates = data_full[data_full.user_pseudo_id==pseudo_id].date.sort_values(ascending=False)\n",
    "        delta = usr_dates.iloc[0]-usr_dates.iloc[len(usr_dates)-1]\n",
    "        activity_df.loc[pseudo_id,'delta']=delta\n",
    "        activity_df.loc[pseudo_id,'differents_days_activity']=len(usr_dates.unique())\n",
    "    return activity_df\n"
   ]
  },
  {
   "cell_type": "code",
   "execution_count": 65,
   "metadata": {},
   "outputs": [
    {
     "data": {
      "text/html": [
       "<div>\n",
       "<style scoped>\n",
       "    .dataframe tbody tr th:only-of-type {\n",
       "        vertical-align: middle;\n",
       "    }\n",
       "\n",
       "    .dataframe tbody tr th {\n",
       "        vertical-align: top;\n",
       "    }\n",
       "\n",
       "    .dataframe thead th {\n",
       "        text-align: right;\n",
       "    }\n",
       "</style>\n",
       "<table border=\"1\" class=\"dataframe\">\n",
       "  <thead>\n",
       "    <tr style=\"text-align: right;\">\n",
       "      <th></th>\n",
       "      <th>pseudo_id</th>\n",
       "      <th>delta</th>\n",
       "      <th>differents_days_activity</th>\n",
       "    </tr>\n",
       "  </thead>\n",
       "  <tbody>\n",
       "    <tr>\n",
       "      <th>A5AC5F8520D04B629F911D4ACF2036DB</th>\n",
       "      <td>NaN</td>\n",
       "      <td>0:00:00</td>\n",
       "      <td>1</td>\n",
       "    </tr>\n",
       "    <tr>\n",
       "      <th>F5D29668FF55410DBA37D134202BF0F8</th>\n",
       "      <td>NaN</td>\n",
       "      <td>11 days, 0:00:00</td>\n",
       "      <td>3</td>\n",
       "    </tr>\n",
       "    <tr>\n",
       "      <th>a87fe5e0b30f6af3c02462008c668c44</th>\n",
       "      <td>NaN</td>\n",
       "      <td>0:00:00</td>\n",
       "      <td>1</td>\n",
       "    </tr>\n",
       "    <tr>\n",
       "      <th>59b20ba83434d1ed0276c1ca7c65a6e6</th>\n",
       "      <td>NaN</td>\n",
       "      <td>0:00:00</td>\n",
       "      <td>1</td>\n",
       "    </tr>\n",
       "    <tr>\n",
       "      <th>d48fe374c1b10d5a9f1356f6c7863202</th>\n",
       "      <td>NaN</td>\n",
       "      <td>5 days, 0:00:00</td>\n",
       "      <td>5</td>\n",
       "    </tr>\n",
       "    <tr>\n",
       "      <th>...</th>\n",
       "      <td>...</td>\n",
       "      <td>...</td>\n",
       "      <td>...</td>\n",
       "    </tr>\n",
       "    <tr>\n",
       "      <th>1eb3123d45a3fa401c37b35e1e131d25</th>\n",
       "      <td>NaN</td>\n",
       "      <td>0:00:00</td>\n",
       "      <td>1</td>\n",
       "    </tr>\n",
       "    <tr>\n",
       "      <th>d1cbdf3a80d886ab0c3705f827b149c5</th>\n",
       "      <td>NaN</td>\n",
       "      <td>0:00:00</td>\n",
       "      <td>1</td>\n",
       "    </tr>\n",
       "    <tr>\n",
       "      <th>61ACFB6C76AA450280E7195A595101C5</th>\n",
       "      <td>NaN</td>\n",
       "      <td>0:00:00</td>\n",
       "      <td>1</td>\n",
       "    </tr>\n",
       "    <tr>\n",
       "      <th>203EBE8734024EC8AF9031E3F7554A4C</th>\n",
       "      <td>NaN</td>\n",
       "      <td>0:00:00</td>\n",
       "      <td>1</td>\n",
       "    </tr>\n",
       "    <tr>\n",
       "      <th>163357863AE24A54AE6A2FA4D1219306</th>\n",
       "      <td>NaN</td>\n",
       "      <td>0:00:00</td>\n",
       "      <td>1</td>\n",
       "    </tr>\n",
       "  </tbody>\n",
       "</table>\n",
       "<p>7503 rows × 3 columns</p>\n",
       "</div>"
      ],
      "text/plain": [
       "                                 pseudo_id             delta  \\\n",
       "A5AC5F8520D04B629F911D4ACF2036DB       NaN           0:00:00   \n",
       "F5D29668FF55410DBA37D134202BF0F8       NaN  11 days, 0:00:00   \n",
       "a87fe5e0b30f6af3c02462008c668c44       NaN           0:00:00   \n",
       "59b20ba83434d1ed0276c1ca7c65a6e6       NaN           0:00:00   \n",
       "d48fe374c1b10d5a9f1356f6c7863202       NaN   5 days, 0:00:00   \n",
       "...                                    ...               ...   \n",
       "1eb3123d45a3fa401c37b35e1e131d25       NaN           0:00:00   \n",
       "d1cbdf3a80d886ab0c3705f827b149c5       NaN           0:00:00   \n",
       "61ACFB6C76AA450280E7195A595101C5       NaN           0:00:00   \n",
       "203EBE8734024EC8AF9031E3F7554A4C       NaN           0:00:00   \n",
       "163357863AE24A54AE6A2FA4D1219306       NaN           0:00:00   \n",
       "\n",
       "                                 differents_days_activity  \n",
       "A5AC5F8520D04B629F911D4ACF2036DB                        1  \n",
       "F5D29668FF55410DBA37D134202BF0F8                        3  \n",
       "a87fe5e0b30f6af3c02462008c668c44                        1  \n",
       "59b20ba83434d1ed0276c1ca7c65a6e6                        1  \n",
       "d48fe374c1b10d5a9f1356f6c7863202                        5  \n",
       "...                                                   ...  \n",
       "1eb3123d45a3fa401c37b35e1e131d25                        1  \n",
       "d1cbdf3a80d886ab0c3705f827b149c5                        1  \n",
       "61ACFB6C76AA450280E7195A595101C5                        1  \n",
       "203EBE8734024EC8AF9031E3F7554A4C                        1  \n",
       "163357863AE24A54AE6A2FA4D1219306                        1  \n",
       "\n",
       "[7503 rows x 3 columns]"
      ]
     },
     "execution_count": 65,
     "metadata": {},
     "output_type": "execute_result"
    }
   ],
   "source": [
    "activity_df = get_usr_activity_df(data_full)\n",
    "activity_df"
   ]
  },
  {
   "cell_type": "code",
   "execution_count": 89,
   "metadata": {},
   "outputs": [
    {
     "data": {
      "image/png": "[encoded data removed]",
      "text/plain": [
       "<Figure size 432x288 with 1 Axes>"
      ]
     },
     "metadata": {
      "needs_background": "light"
     },
     "output_type": "display_data"
    }
   ],
   "source": [
    "frequency = activity_df.delta.value_counts()\n",
    "\n",
    "import matplotlib.pyplot as plt\n",
    "\n",
    "fig = plt.figure()\n",
    "ax = fig.add_axes([0,0,1,1])\n",
    "days = [i.days for i in frequency.index]\n",
    "freq = frequency.values\n",
    "ax.bar(days,freq)\n",
    "plt.show()"
   ]
  },
  {
   "cell_type": "code",
   "execution_count": 90,
   "metadata": {
    "scrolled": true
   },
   "outputs": [
    {
     "data": {
      "image/png": "[encoded data removed]",
      "text/plain": [
       "<Figure size 432x288 with 1 Axes>"
      ]
     },
     "metadata": {
      "needs_background": "light"
     },
     "output_type": "display_data"
    }
   ],
   "source": [
    "frequency = activity_df.differents_days_activity.value_counts()\n",
    "\n",
    "import matplotlib.pyplot as plt\n",
    "\n",
    "fig = plt.figure()\n",
    "ax = fig.add_axes([0,0,1,1])\n",
    "days = frequency.index\n",
    "freq = frequency.values\n",
    "ax.bar(days,freq)\n",
    "plt.show()"
   ]
  },
  {
   "cell_type": "code",
   "execution_count": null,
   "metadata": {},
   "outputs": [],
   "source": []
  }
 ],
 "metadata": {
  "kernelspec": {
   "display_name": "Python 3",
   "language": "python",
   "name": "python3"
  },
  "language_info": {
   "codemirror_mode": {
    "name": "ipython",
    "version": 3
   },
   "file_extension": ".py",
   "mimetype": "text/x-python",
   "name": "python",
   "nbconvert_exporter": "python",
   "pygments_lexer": "ipython3",
   "version": "3.7.6"
  }
 },
 "nbformat": 4,
 "nbformat_minor": 4
}
