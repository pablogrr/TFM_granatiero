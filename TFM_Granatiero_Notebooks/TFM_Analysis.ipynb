{
 "cells": [
  {
   "cell_type": "markdown",
   "metadata": {},
   "source": [
    "## <font color='red'>Data Analysis</font> \n"
   ]
  },
  {
   "cell_type": "code",
   "execution_count": 1,
   "metadata": {},
   "outputs": [],
   "source": [
    "import pandas as pd\n",
    "import numpy as np\n",
    "import matplotlib.pyplot as plt\n",
    "from matplotlib.pyplot import figure"
   ]
  },
  {
   "cell_type": "markdown",
   "metadata": {},
   "source": [
    "## Getting some information from Google Analytics data"
   ]
  },
  {
   "cell_type": "code",
   "execution_count": 2,
   "metadata": {},
   "outputs": [
    {
     "data": {
      "text/plain": [
       "(458641, 9)"
      ]
     },
     "execution_count": 2,
     "metadata": {},
     "output_type": "execute_result"
    }
   ],
   "source": [
    "data_full = pd.read_csv('../TFM_Granatiero_Data/week_01mar_30abr.csv', index_col=0)\n",
    "restaurants_df = pd.read_csv('../TFM_Granatiero_Data/restaurants_Datos_Init_01_05_2021.csv', index_col=0)\n",
    "data_full.shape"
   ]
  },
  {
   "cell_type": "code",
   "execution_count": 3,
   "metadata": {
    "scrolled": true
   },
   "outputs": [
    {
     "data": {
      "text/plain": [
       "Index(['event_name', 'event_timestamp', 'user_pseudo_id',\n",
       "       'firebase_screen_string_value', 'name_string_value',\n",
       "       'type_string_value', 'action_string_value', 'vibes_string_value',\n",
       "       'dir_string_value'],\n",
       "      dtype='object')"
      ]
     },
     "execution_count": 3,
     "metadata": {},
     "output_type": "execute_result"
    }
   ],
   "source": [
    "data_full.columns"
   ]
  },
  {
   "cell_type": "markdown",
   "metadata": {},
   "source": [
    "#### Importing all the preprocess functions, to get these data frame:\n",
    "\n",
    "* data_full: the dataframe after initialization as it is without any preprocess.\n",
    "* simple_data_uncleaned: after pre.init_simple_data the df without \"not Madrid\" restaurants and with unofficials user_id and restaurant_id. It drops all the filters actions\n",
    "- simple_data_cleaned: pre.clean_anomalies(N_min, N_max) filters a min and a max number of actions.\n",
    "+ simple_data_cleaned_filtered: pre.filter_data_for_collaborative() add \"is_positive\" column and drops the removed favourites \n",
    "* score_bin: pre.fit_data_score_bin() generates the df with all the binary scores between users and items. Just 1 are taking into account\n",
    "* UI_bin: pre.fit_User_Items_bin() generates the binary user items matrix"
   ]
  },
  {
   "cell_type": "code",
   "execution_count": 5,
   "metadata": {},
   "outputs": [],
   "source": [
    "from TFM_Granatiero_Utils.TFM_Pre_Process import *\n",
    "Score_Rules=[]\n",
    "pre = PreProcessing_Data(data_full, restaurants_df, Score_Rules)\n",
    "pre.init_simple_data()\n",
    "simple_data_uncleaned = pre.simple_data.copy()\n",
    "pre.clean_anomalies(10, 1000)\n",
    "simple_data_cleaned = pre.simple_data.copy()\n",
    "pre.filter_data_for_collaborative()\n",
    "simple_data_cleaned_filtered = pre.simple_data.copy()\n",
    "pre.fit_data_score_bin()\n",
    "score_bin = pre.score_data_bin.copy() \n",
    "pre.fit_User_Items_bin()\n",
    "UI_bin = pre.User_Items_bin.copy() \n"
   ]
  },
  {
   "cell_type": "code",
   "execution_count": 6,
   "metadata": {},
   "outputs": [
    {
     "data": {
      "text/html": [
       "<div>\n",
       "<style scoped>\n",
       "    .dataframe tbody tr th:only-of-type {\n",
       "        vertical-align: middle;\n",
       "    }\n",
       "\n",
       "    .dataframe tbody tr th {\n",
       "        vertical-align: top;\n",
       "    }\n",
       "\n",
       "    .dataframe thead th {\n",
       "        text-align: right;\n",
       "    }\n",
       "</style>\n",
       "<table border=\"1\" class=\"dataframe\">\n",
       "  <thead>\n",
       "    <tr style=\"text-align: right;\">\n",
       "      <th></th>\n",
       "      <th>event_name</th>\n",
       "      <th>event_timestamp</th>\n",
       "      <th>user_pseudo_id</th>\n",
       "      <th>firebase_screen_string_value</th>\n",
       "      <th>name_string_value</th>\n",
       "      <th>type_string_value</th>\n",
       "      <th>action_string_value</th>\n",
       "      <th>vibes_string_value</th>\n",
       "      <th>dir_string_value</th>\n",
       "    </tr>\n",
       "  </thead>\n",
       "  <tbody>\n",
       "    <tr>\n",
       "      <th>0</th>\n",
       "      <td>view_item</td>\n",
       "      <td>1615122075978494</td>\n",
       "      <td>cf787fe9a8f5cd3d0a7119e296920e96</td>\n",
       "      <td>RestaurantDetails</td>\n",
       "      <td>Coquetto Bar</td>\n",
       "      <td>NaN</td>\n",
       "      <td>NaN</td>\n",
       "      <td>NaN</td>\n",
       "      <td>NaN</td>\n",
       "    </tr>\n",
       "    <tr>\n",
       "      <th>1</th>\n",
       "      <td>view_item</td>\n",
       "      <td>1615122002536876</td>\n",
       "      <td>cf787fe9a8f5cd3d0a7119e296920e96</td>\n",
       "      <td>RestaurantDetails</td>\n",
       "      <td>Coquetto Bar</td>\n",
       "      <td>NaN</td>\n",
       "      <td>NaN</td>\n",
       "      <td>NaN</td>\n",
       "      <td>NaN</td>\n",
       "    </tr>\n",
       "    <tr>\n",
       "      <th>2</th>\n",
       "      <td>view_item</td>\n",
       "      <td>1615148229440659</td>\n",
       "      <td>C42314CB72C146BFB3A8A447A1F13F1A</td>\n",
       "      <td>RestaurantDetails</td>\n",
       "      <td>El Señor Martín</td>\n",
       "      <td>NaN</td>\n",
       "      <td>NaN</td>\n",
       "      <td>NaN</td>\n",
       "      <td>NaN</td>\n",
       "    </tr>\n",
       "    <tr>\n",
       "      <th>3</th>\n",
       "      <td>view_item</td>\n",
       "      <td>1615152930412024</td>\n",
       "      <td>C42314CB72C146BFB3A8A447A1F13F1A</td>\n",
       "      <td>RestaurantDetails</td>\n",
       "      <td>La Catapa</td>\n",
       "      <td>NaN</td>\n",
       "      <td>NaN</td>\n",
       "      <td>NaN</td>\n",
       "      <td>NaN</td>\n",
       "    </tr>\n",
       "    <tr>\n",
       "      <th>4</th>\n",
       "      <td>view_item</td>\n",
       "      <td>1615152981578048</td>\n",
       "      <td>C42314CB72C146BFB3A8A447A1F13F1A</td>\n",
       "      <td>RestaurantDetails</td>\n",
       "      <td>La Monte</td>\n",
       "      <td>NaN</td>\n",
       "      <td>NaN</td>\n",
       "      <td>NaN</td>\n",
       "      <td>NaN</td>\n",
       "    </tr>\n",
       "  </tbody>\n",
       "</table>\n",
       "</div>"
      ],
      "text/plain": [
       "  event_name   event_timestamp                    user_pseudo_id  \\\n",
       "0  view_item  1615122075978494  cf787fe9a8f5cd3d0a7119e296920e96   \n",
       "1  view_item  1615122002536876  cf787fe9a8f5cd3d0a7119e296920e96   \n",
       "2  view_item  1615148229440659  C42314CB72C146BFB3A8A447A1F13F1A   \n",
       "3  view_item  1615152930412024  C42314CB72C146BFB3A8A447A1F13F1A   \n",
       "4  view_item  1615152981578048  C42314CB72C146BFB3A8A447A1F13F1A   \n",
       "\n",
       "  firebase_screen_string_value name_string_value type_string_value  \\\n",
       "0            RestaurantDetails      Coquetto Bar               NaN   \n",
       "1            RestaurantDetails      Coquetto Bar               NaN   \n",
       "2            RestaurantDetails   El Señor Martín               NaN   \n",
       "3            RestaurantDetails         La Catapa               NaN   \n",
       "4            RestaurantDetails          La Monte               NaN   \n",
       "\n",
       "  action_string_value vibes_string_value dir_string_value  \n",
       "0                 NaN                NaN              NaN  \n",
       "1                 NaN                NaN              NaN  \n",
       "2                 NaN                NaN              NaN  \n",
       "3                 NaN                NaN              NaN  \n",
       "4                 NaN                NaN              NaN  "
      ]
     },
     "execution_count": 6,
     "metadata": {},
     "output_type": "execute_result"
    }
   ],
   "source": [
    "data_full.head()"
   ]
  },
  {
   "cell_type": "code",
   "execution_count": 7,
   "metadata": {},
   "outputs": [
    {
     "data": {
      "text/html": [
       "<div>\n",
       "<style scoped>\n",
       "    .dataframe tbody tr th:only-of-type {\n",
       "        vertical-align: middle;\n",
       "    }\n",
       "\n",
       "    .dataframe tbody tr th {\n",
       "        vertical-align: top;\n",
       "    }\n",
       "\n",
       "    .dataframe thead th {\n",
       "        text-align: right;\n",
       "    }\n",
       "</style>\n",
       "<table border=\"1\" class=\"dataframe\">\n",
       "  <thead>\n",
       "    <tr style=\"text-align: right;\">\n",
       "      <th></th>\n",
       "      <th>name_string_value</th>\n",
       "      <th>event_name</th>\n",
       "      <th>event_timestamp</th>\n",
       "      <th>action_string_value</th>\n",
       "      <th>dir_string_value</th>\n",
       "      <th>user_pseudo_id</th>\n",
       "      <th>restaurant_id</th>\n",
       "      <th>user_id</th>\n",
       "    </tr>\n",
       "  </thead>\n",
       "  <tbody>\n",
       "    <tr>\n",
       "      <th>0</th>\n",
       "      <td>La Espumosa</td>\n",
       "      <td>view_item</td>\n",
       "      <td>1615107614879421</td>\n",
       "      <td>NaN</td>\n",
       "      <td>NaN</td>\n",
       "      <td>A891C11FDF9A405F9CC0CC8D9D75550B</td>\n",
       "      <td>99</td>\n",
       "      <td>9</td>\n",
       "    </tr>\n",
       "    <tr>\n",
       "      <th>1</th>\n",
       "      <td>La Espumosa</td>\n",
       "      <td>view_item</td>\n",
       "      <td>1615115523233930</td>\n",
       "      <td>NaN</td>\n",
       "      <td>NaN</td>\n",
       "      <td>307FBCC7802041A2BE2980710343184E</td>\n",
       "      <td>99</td>\n",
       "      <td>12</td>\n",
       "    </tr>\n",
       "    <tr>\n",
       "      <th>2</th>\n",
       "      <td>La Espumosa</td>\n",
       "      <td>MY_FAVS_REMOVE_RESTAURANT</td>\n",
       "      <td>1615132277329030</td>\n",
       "      <td>NaN</td>\n",
       "      <td>NaN</td>\n",
       "      <td>D68A65D2455747D798E246A707A0AB61</td>\n",
       "      <td>99</td>\n",
       "      <td>13</td>\n",
       "    </tr>\n",
       "    <tr>\n",
       "      <th>3</th>\n",
       "      <td>La Espumosa</td>\n",
       "      <td>CARD_SWIPE</td>\n",
       "      <td>1615157709455358</td>\n",
       "      <td>NaN</td>\n",
       "      <td>LEFT</td>\n",
       "      <td>C42314CB72C146BFB3A8A447A1F13F1A</td>\n",
       "      <td>99</td>\n",
       "      <td>1</td>\n",
       "    </tr>\n",
       "    <tr>\n",
       "      <th>4</th>\n",
       "      <td>La Espumosa</td>\n",
       "      <td>CARD_SWIPE</td>\n",
       "      <td>1615157814637605</td>\n",
       "      <td>NaN</td>\n",
       "      <td>LEFT</td>\n",
       "      <td>C42314CB72C146BFB3A8A447A1F13F1A</td>\n",
       "      <td>99</td>\n",
       "      <td>1</td>\n",
       "    </tr>\n",
       "  </tbody>\n",
       "</table>\n",
       "</div>"
      ],
      "text/plain": [
       "  name_string_value                 event_name   event_timestamp  \\\n",
       "0       La Espumosa                  view_item  1615107614879421   \n",
       "1       La Espumosa                  view_item  1615115523233930   \n",
       "2       La Espumosa  MY_FAVS_REMOVE_RESTAURANT  1615132277329030   \n",
       "3       La Espumosa                 CARD_SWIPE  1615157709455358   \n",
       "4       La Espumosa                 CARD_SWIPE  1615157814637605   \n",
       "\n",
       "  action_string_value dir_string_value                    user_pseudo_id  \\\n",
       "0                 NaN              NaN  A891C11FDF9A405F9CC0CC8D9D75550B   \n",
       "1                 NaN              NaN  307FBCC7802041A2BE2980710343184E   \n",
       "2                 NaN              NaN  D68A65D2455747D798E246A707A0AB61   \n",
       "3                 NaN             LEFT  C42314CB72C146BFB3A8A447A1F13F1A   \n",
       "4                 NaN             LEFT  C42314CB72C146BFB3A8A447A1F13F1A   \n",
       "\n",
       "   restaurant_id  user_id  \n",
       "0             99        9  \n",
       "1             99       12  \n",
       "2             99       13  \n",
       "3             99        1  \n",
       "4             99        1  "
      ]
     },
     "execution_count": 7,
     "metadata": {},
     "output_type": "execute_result"
    }
   ],
   "source": [
    "simple_data_uncleaned.head()"
   ]
  },
  {
   "cell_type": "markdown",
   "metadata": {},
   "source": [
    "### Getting some number about users and restaurants"
   ]
  },
  {
   "cell_type": "code",
   "execution_count": 8,
   "metadata": {},
   "outputs": [
    {
     "name": "stdout",
     "output_type": "stream",
     "text": [
      "Till may there are 7503 users\n",
      "In Madrid there are 6854 users\n",
      "The number of madrid users with almost one like are 3027\n",
      "The number of madrid restaurants with almost one like are 189\n",
      "The number of madrid users with almost five like are 1450\n",
      "The number of madrid restaurants with almost five like are 187\n",
      "The number of interactions is 24740\n"
     ]
    }
   ],
   "source": [
    "Full_users_set = set(data_full.user_pseudo_id)\n",
    "print('Till may there are {} users'.format(len(Full_users_set)))\n",
    "Madrid_users_set = set(simple_data_uncleaned.user_pseudo_id)\n",
    "print('In Madrid there are {} users'.format(len(Madrid_users_set)))\n",
    "print('The number of madrid users with almost one like are {}'.format(len(set(UI_bin.index))))\n",
    "print('The number of madrid restaurants with almost one like are {}'.format(len(set(UI_bin.columns))))\n",
    "\n",
    "pre.simple_data = simple_data_cleaned_filtered\n",
    "pre.fit_data_score_bin()\n",
    "pre.fit_User_Items_bin(5,5)\n",
    "UI_bin_min5 = pre.User_Items_bin.copy() \n",
    "\n",
    "print('The number of madrid users with almost five like are {}'.format(len(set(pre.User_Items_bin.index))))\n",
    "print('The number of madrid restaurants with almost five like are {}'.format(len(set(pre.User_Items_bin.columns))))\n",
    "print('The number of interactions is {}'.format(pre.User_Items_bin.sum().sum()))"
   ]
  },
  {
   "cell_type": "code",
   "execution_count": 9,
   "metadata": {},
   "outputs": [
    {
     "data": {
      "text/plain": [
       "<matplotlib.legend.Legend at 0x1a21893d10>"
      ]
     },
     "execution_count": 9,
     "metadata": {},
     "output_type": "execute_result"
    },
    {
     "data": {
      "image/png": "[encoded data removed]",
      "text/plain": [
       "<Figure size 720x360 with 1 Axes>"
      ]
     },
     "metadata": {
      "needs_background": "light"
     },
     "output_type": "display_data"
    }
   ],
   "source": [
    "mad_pc = (len(Madrid_users_set)/len(Full_users_set))*100\n",
    "othr_pc = (len(Full_users_set)-len(Madrid_users_set))/(len(Full_users_set))*100\n",
    "\n",
    "y1 = [len(Madrid_users_set)]\n",
    "y2 = [len(Full_users_set)-len(Madrid_users_set)]\n",
    "\n",
    "df = pd.DataFrame({'Madrid' : y1,'Other' : y2})\n",
    "\n",
    "ax = df.plot.barh(stacked=True,color=[ \"c\", \"tab:blue\"]);\n",
    "\n",
    "ax.figure.set_size_inches(10,5)\n",
    "ax.text(y1[0]/2, 0, str(round(mad_pc,2))+'%', ha='center', va='bottom')\n",
    "ax.text(y1[0] + y2[0]/2, 0, str(round(othr_pc,2))+'%', ha='center', va='bottom')\n",
    "\n",
    "ax.set_title(\"7503 total users\")\n",
    "ax.legend(loc='upper left')\n",
    "\n",
    "#ax.figure.savefig('TFM_figures/Total_Users.jpg', dpi=300, bbox_inches=\"tight\")"
   ]
  },
  {
   "cell_type": "markdown",
   "metadata": {},
   "source": [
    "### Counting the actions outside the restaurants' pages:"
   ]
  },
  {
   "cell_type": "code",
   "execution_count": 10,
   "metadata": {},
   "outputs": [
    {
     "data": {
      "text/plain": [
       "CARD_SWIPE                   305073\n",
       "view_item                     57233\n",
       "RESTAURANT_FAVOURITE          31623\n",
       "RESTAURANT_ACTION             27925\n",
       "HOME_FILTERS                  27665\n",
       "FILTER_ADDED                   8228\n",
       "MY_FAVS_REMOVE_RESTAURANT       580\n",
       "MY_FAVS_FILTER_ADDED            306\n",
       "RESTAURANT_BLACKLISTED            8\n",
       "Name: event_name, dtype: int64"
      ]
     },
     "execution_count": 10,
     "metadata": {},
     "output_type": "execute_result"
    }
   ],
   "source": [
    "data_full.event_name.value_counts()"
   ]
  },
  {
   "cell_type": "code",
   "execution_count": 11,
   "metadata": {},
   "outputs": [
    {
     "data": {
      "text/plain": [
       "menu               6786\n",
       "favourite_press    5636\n",
       "instagram          4236\n",
       "website            3749\n",
       "book_url           3055\n",
       "maps               2349\n",
       "curated_by          772\n",
       "chefInstagram       507\n",
       "delivery            462\n",
       "call                373\n",
       "Name: action_string_value, dtype: int64"
      ]
     },
     "execution_count": 11,
     "metadata": {},
     "output_type": "execute_result"
    }
   ],
   "source": [
    "data_full.action_string_value.value_counts()"
   ]
  },
  {
   "cell_type": "code",
   "execution_count": 12,
   "metadata": {},
   "outputs": [
    {
     "data": {
      "image/png": "[encoded data removed]",
      "text/plain": [
       "<Figure size 1080x432 with 2 Axes>"
      ]
     },
     "metadata": {
      "needs_background": "light"
     },
     "output_type": "display_data"
    }
   ],
   "source": [
    "ser = data_full.event_name.value_counts()\n",
    "\n",
    "# Defines the chart font style\n",
    "font = {'family' : 'Helvetica',\n",
    "        'weight' : 'bold',\n",
    "        'size'   : 12}\n",
    "\n",
    "# includes the chart font style\n",
    "plt.rc('font', **font)\n",
    "\n",
    "# To define figure size\n",
    "figure(num=None, figsize=(15, 6))\n",
    "\n",
    "# Defines X-axis labels and Y-axis values\n",
    "x_axis_labels = list(ser.index)\n",
    "y_axis_values = list(ser.values)\n",
    "y_pos=np.arange(len(x_axis_labels))\n",
    "\n",
    "# Draw first subplot using plt.subplot\n",
    "plt.subplot(1, 2, 1)\n",
    "plt.bar(x_axis_labels,y_axis_values, color='tab:blue')\n",
    "plt.xticks(y_pos, x_axis_labels, rotation='vertical', fontsize=12)\n",
    "#plt.xlabel('First X-Axis')\n",
    "#plt.ylabel('Number in log10 scale')\n",
    "\n",
    "# Draw second subplot using plt.subplot\n",
    "plt.subplot(1, 2, 2)\n",
    "plt.bar(x_axis_labels,y_axis_values, color = 'c')\n",
    "plt.yscale('log')            # Defines log scale\n",
    "plt.xticks(y_pos, x_axis_labels, rotation='vertical', fontsize=12)\n",
    "\n",
    "#plt.xlabel('First Y-Axis')\n",
    "#plt.ylabel('Number of posts in log10 scale')\n",
    "plt.suptitle(\"event_name counts\", fontsize=12)\n",
    "\n",
    "#plt.savefig('TFM_figures/event_name_counts.jpg', dpi=300, bbox_inches=\"tight\")\n",
    "\n",
    "plt.show()\n",
    "\n"
   ]
  },
  {
   "cell_type": "markdown",
   "metadata": {},
   "source": [
    "### Counting the actions inside the restaurants' pages:"
   ]
  },
  {
   "cell_type": "code",
   "execution_count": 14,
   "metadata": {},
   "outputs": [
    {
     "data": {
      "image/png": "[encoded data removed]",
      "text/plain": [
       "<Figure size 1080x432 with 1 Axes>"
      ]
     },
     "metadata": {
      "needs_background": "light"
     },
     "output_type": "display_data"
    }
   ],
   "source": [
    "ser = data_full.action_string_value.value_counts()\n",
    "\n",
    "# Defines the chart font style\n",
    "font = {'family' : 'Helvetica',\n",
    "        'weight' : 'bold',\n",
    "        'size'   : 12}\n",
    "\n",
    "# includes the chart font style\n",
    "plt.rc('font', **font)\n",
    "\n",
    "# To define figure size\n",
    "figure(num=None, figsize=(15, 6))\n",
    "\n",
    "# Defines X-axis labels and Y-axis values\n",
    "x_axis_labels = list(ser.index)\n",
    "y_axis_values = list(ser.values)\n",
    "y_pos=np.arange(len(x_axis_labels))\n",
    "\n",
    "plt.bar(x_axis_labels,y_axis_values, color = 'c')\n",
    "plt.xticks(y_pos, x_axis_labels, rotation='vertical', fontsize=12)\n",
    "\n",
    "#plt.xlabel('First Y-Axis')\n",
    "#plt.ylabel('Number of posts in log10 scale')\n",
    "plt.suptitle(\"action_string_value counts\", fontsize=12)\n",
    "\n",
    "#plt.savefig('TFM_figures/action_string_value_counts.jpg', dpi=300, bbox_inches=\"tight\")\n",
    "\n",
    "\n",
    "plt.show()\n",
    "\n"
   ]
  },
  {
   "cell_type": "markdown",
   "metadata": {},
   "source": [
    "### Counting Card Swipe proportions"
   ]
  },
  {
   "cell_type": "code",
   "execution_count": 15,
   "metadata": {},
   "outputs": [
    {
     "data": {
      "image/png": "[encoded data removed]",
      "text/plain": [
       "<Figure size 1080x432 with 1 Axes>"
      ]
     },
     "metadata": {},
     "output_type": "display_data"
    }
   ],
   "source": [
    "ser = data_full.dir_string_value.value_counts()\n",
    "ser = data_full.dir_string_value.value_counts()\n",
    "left_pc = (ser.values[0]/ser.values.sum())*100\n",
    "down_pc = (ser.values[1]/ser.values.sum())*100\n",
    "\n",
    "# Defines the chart font style\n",
    "font = {'family' : 'Helvetica',\n",
    "        'weight' : 'bold',\n",
    "        'size'   : 12}\n",
    "\n",
    "# To define figure size\n",
    "figure(num=None, figsize=(15, 6))\n",
    "\n",
    "# Pie chart, where the slices will be ordered and plotted counter-clockwise:\n",
    "labels = 'LEFT', 'DOWN'\n",
    "sizes = [left_pc, down_pc]\n",
    "explode = (0, 0.2)  # only \"explode\" the 2nd slice (i.e. 'Hogs')\n",
    "\n",
    "plt.pie(sizes, explode=explode, labels=labels, autopct='%1.1f%%',\n",
    "        shadow=False, startangle=90, colors=['tab:blue', 'c'])\n",
    "\n",
    "plt.axis('equal')\n",
    "\n",
    "plt.suptitle(\"CARD_SWIPE counts\", fontsize=12)\n",
    "\n",
    "#plt.savefig('TFM_figures/CARD_SWIPE_counts.jpg', dpi=300, bbox_inches=\"tight\")\n",
    "\n",
    "plt.show()\n",
    "\n"
   ]
  },
  {
   "cell_type": "markdown",
   "metadata": {},
   "source": [
    "### Box plot of all users interactions with and without swipe"
   ]
  },
  {
   "cell_type": "code",
   "execution_count": 16,
   "metadata": {},
   "outputs": [
    {
     "name": "stdout",
     "output_type": "stream",
     "text": [
      "The first day is 2021-03-07 13:01:15.978494\n",
      "The last day is 2021-04-30 21:59:58.534850\n"
     ]
    }
   ],
   "source": [
    "days = data_full.event_timestamp.sort_values()\n",
    "print('The first day is {}'.format(pd.to_datetime(days[0], unit='us')))\n",
    "print('The last day is {}'.format(pd.to_datetime(days[days.index[-1]], unit='us')))\n"
   ]
  },
  {
   "cell_type": "code",
   "execution_count": 17,
   "metadata": {},
   "outputs": [
    {
     "name": "stdout",
     "output_type": "stream",
     "text": [
      "       event_timestamp\n",
      "count      7503.000000\n",
      "mean         61.127682\n",
      "std         112.277135\n",
      "min           1.000000\n",
      "25%           8.000000\n",
      "50%          25.000000\n",
      "75%          71.000000\n",
      "max        4423.000000\n",
      "       event_timestamp\n",
      "count      7503.000000\n",
      "mean         24.182194\n",
      "std          44.725300\n",
      "min           1.000000\n",
      "25%           4.000000\n",
      "50%           9.000000\n",
      "75%          26.000000\n",
      "max        1263.000000\n"
     ]
    },
    {
     "data": {
      "image/png": "[encoded data removed]",
      "text/plain": [
       "<Figure size 1080x864 with 4 Axes>"
      ]
     },
     "metadata": {
      "needs_background": "light"
     },
     "output_type": "display_data"
    }
   ],
   "source": [
    "data_no_left = data_full[data_full.dir_string_value!='LEFT']\n",
    "\n",
    "ser = data_full.pivot_table(values=\"event_timestamp\", index=\"user_pseudo_id\", aggfunc=pd.Series.nunique).fillna(0)\n",
    "ser_no_left = data_no_left.pivot_table(values=\"event_timestamp\", index=\"user_pseudo_id\", aggfunc=pd.Series.nunique).fillna(0)\n",
    "print(ser.describe())\n",
    "print(ser_no_left.describe())\n",
    "\n",
    "# Defines the chart font style\n",
    "font = {'family' : 'Helvetica',\n",
    "        'weight' : 'bold',\n",
    "        'size'   : 12}\n",
    "\n",
    "# includes the chart font style\n",
    "plt.rc('font', **font)\n",
    "\n",
    "# To define figure size\n",
    "figure(num=None, figsize=(15, 12))\n",
    "\n",
    "# Draw first subplot using plt.subplot\n",
    "plt.subplot(2, 2, 1)\n",
    "plt.boxplot(ser.values.reshape(len(ser)))\n",
    "plt.ylabel('Number of actions with Swipe_left')\n",
    "\n",
    "\n",
    "# Draw second subplot using plt.subplot\n",
    "plt.subplot(2, 2, 2)\n",
    "plt.boxplot(ser.values.reshape(len(ser)))\n",
    "plt.yscale('log')            # Defines log scale\n",
    "\n",
    "# Draw first subplot using plt.subplot\n",
    "plt.subplot(2, 2, 3)\n",
    "plt.boxplot(ser_no_left.values.reshape(len(ser)))\n",
    "plt.ylabel('Number of actions without Swipe_left')\n",
    "\n",
    "\n",
    "# Draw second subplot using plt.subplot\n",
    "plt.subplot(2, 2, 4)\n",
    "plt.boxplot(ser_no_left.values.reshape(len(ser)))\n",
    "plt.yscale('log')            # Defines log scale\n",
    "\n",
    "\n",
    "#plt.xlabel('First Y-Axis')\n",
    "#plt.ylabel('Number of posts in log10 scale')\n",
    "plt.suptitle(\"Number of user actions\", fontsize=12)\n",
    "\n",
    "#plt.savefig('TFM_figures/action_counts_boxplots.jpg', dpi=300, bbox_inches=\"tight\")\n",
    "\n",
    "plt.show()"
   ]
  },
  {
   "cell_type": "markdown",
   "metadata": {},
   "source": [
    "### Time behaviour of users' interactions"
   ]
  },
  {
   "cell_type": "code",
   "execution_count": 18,
   "metadata": {},
   "outputs": [],
   "source": [
    "def get_usr_activity_df(data_full):\n",
    "    \n",
    "    data_full['date'] = pd.to_datetime(data_full['event_timestamp'], unit='us').dt.date\n",
    "    pseudo_id_set = set(data_full.user_pseudo_id)\n",
    "    activity_df = pd.DataFrame(index=list(pseudo_id_set), columns=['delta', 'differents_days_activity'])\n",
    "\n",
    "    for pseudo_id in pseudo_id_set:\n",
    "        \n",
    "        usr_dates = data_full[data_full.user_pseudo_id==pseudo_id].date.sort_values(ascending=False)\n",
    "        delta = usr_dates.iloc[0]-usr_dates.iloc[len(usr_dates)-1]\n",
    "        activity_df.loc[pseudo_id,'delta']=delta\n",
    "        activity_df.loc[pseudo_id,'differents_days_activity']=len(usr_dates.unique())\n",
    "    return activity_df\n"
   ]
  },
  {
   "cell_type": "code",
   "execution_count": 19,
   "metadata": {
    "scrolled": true
   },
   "outputs": [
    {
     "data": {
      "text/html": [
       "<div>\n",
       "<style scoped>\n",
       "    .dataframe tbody tr th:only-of-type {\n",
       "        vertical-align: middle;\n",
       "    }\n",
       "\n",
       "    .dataframe tbody tr th {\n",
       "        vertical-align: top;\n",
       "    }\n",
       "\n",
       "    .dataframe thead th {\n",
       "        text-align: right;\n",
       "    }\n",
       "</style>\n",
       "<table border=\"1\" class=\"dataframe\">\n",
       "  <thead>\n",
       "    <tr style=\"text-align: right;\">\n",
       "      <th></th>\n",
       "      <th>delta</th>\n",
       "      <th>differents_days_activity</th>\n",
       "    </tr>\n",
       "  </thead>\n",
       "  <tbody>\n",
       "    <tr>\n",
       "      <th>9810952C12A64E8ABC8EB8552C20D170</th>\n",
       "      <td>0:00:00</td>\n",
       "      <td>1</td>\n",
       "    </tr>\n",
       "    <tr>\n",
       "      <th>2412AA612FEC401E98467CFB2D4B0006</th>\n",
       "      <td>0:00:00</td>\n",
       "      <td>1</td>\n",
       "    </tr>\n",
       "    <tr>\n",
       "      <th>9d3ed2789ddb9ac353bf33663fa206b8</th>\n",
       "      <td>0:00:00</td>\n",
       "      <td>1</td>\n",
       "    </tr>\n",
       "    <tr>\n",
       "      <th>01458E9F893A43CEBAD2568422FC3501</th>\n",
       "      <td>0:00:00</td>\n",
       "      <td>1</td>\n",
       "    </tr>\n",
       "    <tr>\n",
       "      <th>33056235BE944A64B74C58C89038EEC6</th>\n",
       "      <td>38 days, 0:00:00</td>\n",
       "      <td>3</td>\n",
       "    </tr>\n",
       "  </tbody>\n",
       "</table>\n",
       "</div>"
      ],
      "text/plain": [
       "                                             delta differents_days_activity\n",
       "9810952C12A64E8ABC8EB8552C20D170           0:00:00                        1\n",
       "2412AA612FEC401E98467CFB2D4B0006           0:00:00                        1\n",
       "9d3ed2789ddb9ac353bf33663fa206b8           0:00:00                        1\n",
       "01458E9F893A43CEBAD2568422FC3501           0:00:00                        1\n",
       "33056235BE944A64B74C58C89038EEC6  38 days, 0:00:00                        3"
      ]
     },
     "execution_count": 19,
     "metadata": {},
     "output_type": "execute_result"
    }
   ],
   "source": [
    "activity_df = get_usr_activity_df(data_full)\n",
    "activity_df.head()"
   ]
  },
  {
   "cell_type": "markdown",
   "metadata": {},
   "source": [
    "#### Fidelity of users during time"
   ]
  },
  {
   "cell_type": "code",
   "execution_count": 20,
   "metadata": {},
   "outputs": [
    {
     "data": {
      "image/png": "[encoded data removed]",
      "text/plain": [
       "<Figure size 1080x432 with 2 Axes>"
      ]
     },
     "metadata": {
      "needs_background": "light"
     },
     "output_type": "display_data"
    }
   ],
   "source": [
    "ser = activity_df.delta.value_counts()\n",
    "ser = ser.loc[ser.index.sort_values()]\n",
    "\n",
    "# Defines the chart font style\n",
    "font = {'family' : 'Helvetica',\n",
    "        'weight' : 'bold',\n",
    "        'size'   : 12}\n",
    "\n",
    "# includes the chart font style\n",
    "plt.rc('font', **font)\n",
    "\n",
    "# To define figure size\n",
    "figure(num=None, figsize=(15, 6))\n",
    "\n",
    "# Defines X-axis labels and Y-axis values\n",
    "x_axis_labels = [str(i.days) for i in ser.index]\n",
    "x_axis_values = [i.days for i in ser.index]\n",
    "y_axis_values = list(ser.values)\n",
    "y_pos=np.arange(len(x_axis_labels))\n",
    "\n",
    "# Draw first subplot using plt.subplot\n",
    "plt.subplot(1, 2, 1)\n",
    "plt.plot(x_axis_values,y_axis_values, color='tab:blue', marker=\"^\")\n",
    "plt.xticks(x_axis_values[::3], x_axis_labels[::3], rotation='vertical')\n",
    "plt.locator_params(axis='x_axis_values', nbins=len(x_axis_values)/2)\n",
    "\n",
    "# Draw second subplot using plt.subplot\n",
    "plt.subplot(1, 2, 2)\n",
    "plt.plot(x_axis_values,y_axis_values, color='c', marker=\"^\")\n",
    "plt.yscale('log')            # Defines log scale\n",
    "plt.xticks(x_axis_values[::3], x_axis_labels[::3], rotation='vertical')\n",
    "plt.locator_params(axis='x_axis_labels', nbins=len(x_axis_labels)/2)\n",
    "\n",
    "plt.suptitle(\"Number of users Vs distance between first day and last day of activity\", fontsize=12)\n",
    "\n",
    "#plt.savefig('TFM_figures/Number_usersVs_distance_days_activity.jpg', dpi=300, bbox_inches=\"tight\")\n",
    "\n",
    "plt.show()\n"
   ]
  },
  {
   "cell_type": "markdown",
   "metadata": {},
   "source": [
    "#### Different days of activity of all users"
   ]
  },
  {
   "cell_type": "code",
   "execution_count": 21,
   "metadata": {},
   "outputs": [
    {
     "name": "stderr",
     "output_type": "stream",
     "text": [
      "/Users/pablogranatiero/opt/anaconda3/lib/python3.7/site-packages/ipykernel_launcher.py:4: DeprecationWarning: The default dtype for empty Series will be 'object' instead of 'float64' in a future version. Specify a dtype explicitly to silence this warning.\n",
      "  after removing the cwd from sys.path.\n"
     ]
    },
    {
     "data": {
      "image/png": "[encoded data removed]",
      "text/plain": [
       "<Figure size 1080x432 with 2 Axes>"
      ]
     },
     "metadata": {
      "needs_background": "light"
     },
     "output_type": "display_data"
    }
   ],
   "source": [
    "ser_to_plot = activity_df.differents_days_activity.value_counts()\n",
    "ser_to_plot = ser_to_plot.loc[ser_to_plot.index.sort_values()]\n",
    "\n",
    "ser = pd.Series(index=range(ser_to_plot.index.max()+1))\n",
    "ser.loc[ser_to_plot.index] = ser_to_plot\n",
    "ser = ser.fillna(0)\n",
    "\n",
    "# Defines the chart font style\n",
    "font = {'family' : 'Helvetica',\n",
    "        'weight' : 'bold',\n",
    "        'size'   : 12}\n",
    "\n",
    "# includes the chart font style\n",
    "plt.rc('font', **font)\n",
    "\n",
    "# To define figure size\n",
    "figure(num=None, figsize=(15, 6))\n",
    "\n",
    "# Defines X-axis labels and Y-axis values\n",
    "x_axis_values = [i for i in ser.index]\n",
    "x_axis_labels = [str(i) for i in ser.index]\n",
    "y_axis_values = list(ser.values)\n",
    "y_pos=np.arange(len(x_axis_labels))\n",
    "\n",
    "# Draw first subplot using plt.subplot\n",
    "plt.subplot(1, 2, 1)\n",
    "plt.plot(x_axis_values,y_axis_values, color='tab:blue', marker=\"^\")\n",
    "plt.xticks(x_axis_values[::3], x_axis_labels[::3], rotation='vertical')\n",
    "plt.locator_params(axis='x_axis_values', nbins=len(x_axis_values)/2)\n",
    "\n",
    "\n",
    "# Draw second subplot using plt.subplot\n",
    "plt.subplot(1, 2, 2)\n",
    "plt.plot(x_axis_values,y_axis_values, color='c', marker=\"^\")\n",
    "plt.yscale('log')            # Defines log scale\n",
    "plt.xticks(x_axis_values[::3], x_axis_labels[::3], rotation='vertical')\n",
    "plt.locator_params(axis='x_axis_labels', nbins=len(x_axis_labels)/2)\n",
    "\n",
    "plt.suptitle(\"Number of users Vs different days of activity\", fontsize=12)\n",
    "\n",
    "#plt.savefig('TFM_figures/Number_usersVs_different_days_activity.jpg', dpi=300, bbox_inches=\"tight\")\n",
    "\n",
    "plt.show()"
   ]
  },
  {
   "cell_type": "markdown",
   "metadata": {},
   "source": [
    "### Statistcs about likes"
   ]
  },
  {
   "cell_type": "code",
   "execution_count": 22,
   "metadata": {},
   "outputs": [
    {
     "data": {
      "text/plain": [
       "count    189.000000\n",
       "mean     147.777778\n",
       "std      119.815520\n",
       "min        1.000000\n",
       "25%       61.000000\n",
       "50%      116.000000\n",
       "75%      213.000000\n",
       "max      696.000000\n",
       "dtype: float64"
      ]
     },
     "execution_count": 22,
     "metadata": {},
     "output_type": "execute_result"
    }
   ],
   "source": [
    "UI_bin.sum().describe()"
   ]
  },
  {
   "cell_type": "code",
   "execution_count": 23,
   "metadata": {},
   "outputs": [
    {
     "name": "stdout",
     "output_type": "stream",
     "text": [
      "The sparsity of the User-Item matrix is 0.04881988033623316\n"
     ]
    }
   ],
   "source": [
    "spars = UI_bin.sum().sum()/(UI_bin.shape[0]*UI_bin.shape[1])\n",
    "print('The sparsity of the User-Item matrix is {}'.format(spars))"
   ]
  },
  {
   "cell_type": "markdown",
   "metadata": {},
   "source": [
    "### Counting likes for all users and for all restaurants"
   ]
  },
  {
   "cell_type": "code",
   "execution_count": 24,
   "metadata": {},
   "outputs": [
    {
     "data": {
      "text/plain": [
       "Text(0, 0.5, 'Number of likes')"
      ]
     },
     "execution_count": 24,
     "metadata": {},
     "output_type": "execute_result"
    },
    {
     "data": {
      "image/png": "[encoded data removed]",
      "text/plain": [
       "<Figure size 1440x720 with 1 Axes>"
      ]
     },
     "metadata": {
      "needs_background": "light"
     },
     "output_type": "display_data"
    }
   ],
   "source": [
    "restaurants_count = pd.DataFrame(UI_bin.sum()).sort_values(by=0,ascending=False)\n",
    "\n",
    "restaurants_count.plot.bar().xaxis.set_visible(False)\n",
    "plt.gcf().set_size_inches(20,10)\n",
    "plt.ylabel('Number of likes')\n",
    "#plt.savefig('TFM_figures/Likes_Vs_Restaurants.jpg', dpi=300, bbox_inches=\"tight\")"
   ]
  },
  {
   "cell_type": "code",
   "execution_count": 25,
   "metadata": {},
   "outputs": [
    {
     "data": {
      "text/plain": [
       "Text(0, 0.5, 'Number of likes')"
      ]
     },
     "execution_count": 25,
     "metadata": {},
     "output_type": "execute_result"
    },
    {
     "data": {
      "image/png": "[encoded data removed]",
      "text/plain": [
       "<Figure size 1440x720 with 1 Axes>"
      ]
     },
     "metadata": {
      "needs_background": "light"
     },
     "output_type": "display_data"
    }
   ],
   "source": [
    "users_count = pd.DataFrame(UI_bin.sum(axis=1)).sort_values(by=0,ascending=False)\n",
    "\n",
    "users_count.plot.bar().xaxis.set_visible(False)\n",
    "plt.gcf().set_size_inches(20,10)\n",
    "plt.ylabel('Number of likes')\n",
    "#plt.savefig('TFM_figures/Likes_Vs_Users.jpg', dpi=300, bbox_inches=\"tight\")"
   ]
  },
  {
   "cell_type": "markdown",
   "metadata": {},
   "source": [
    "## Getting some information from app data"
   ]
  },
  {
   "cell_type": "code",
   "execution_count": 26,
   "metadata": {},
   "outputs": [],
   "source": [
    "#To Download Init Data\n",
    "import os\n",
    "\n",
    "def open_app_datas(dir_path):\n",
    "    \n",
    "    def save_Datos(name, dir_path):\n",
    "        file_path = dir_path + '/' + name + '.csv' \n",
    "        return pd.read_csv(file_path)\n",
    "\n",
    "    list_of_df = []\n",
    "    for filename_csv in os.listdir(dir_path):\n",
    "        if filename_csv.endswith(\".csv\"):\n",
    "            filename = os.path.splitext(filename_csv)[0]\n",
    "            globals()[filename + '_' + dir_path] = save_Datos(filename, dir_path)\n",
    "            list_of_df.append(filename + '_' + dir_path)\n",
    "    \n",
    "    return list_of_df "
   ]
  },
  {
   "cell_type": "code",
   "execution_count": 28,
   "metadata": {},
   "outputs": [
    {
     "data": {
      "text/plain": [
       "['homes__first_action_neighborhoods_../TFM_Granatiero_Data/Datos_Init_01_05_2021',\n",
       " 'reservations_../TFM_Granatiero_Data/Datos_Init_01_05_2021',\n",
       " 'strapi_permission_../TFM_Granatiero_Data/Datos_Init_01_05_2021',\n",
       " 'homes__second_action_food_types_../TFM_Granatiero_Data/Datos_Init_01_05_2021',\n",
       " 'homes__second_action_neighborhoods_../TFM_Granatiero_Data/Datos_Init_01_05_2021',\n",
       " 'homes_../TFM_Granatiero_Data/Datos_Init_01_05_2021',\n",
       " 'profiles__vibes_../TFM_Granatiero_Data/Datos_Init_01_05_2021',\n",
       " 'push_tokens_../TFM_Granatiero_Data/Datos_Init_01_05_2021',\n",
       " 'components_restaurants_promoteds_../TFM_Granatiero_Data/Datos_Init_01_05_2021',\n",
       " 'vibe_../TFM_Granatiero_Data/Datos_Init_01_05_2021',\n",
       " 'neighborhoods_../TFM_Granatiero_Data/Datos_Init_01_05_2021',\n",
       " 'profiles_../TFM_Granatiero_Data/Datos_Init_01_05_2021',\n",
       " 'homes__first_action_food_types_../TFM_Granatiero_Data/Datos_Init_01_05_2021',\n",
       " 'restaurants_components_../TFM_Granatiero_Data/Datos_Init_01_05_2021',\n",
       " 'homecards__vibes_../TFM_Granatiero_Data/Datos_Init_01_05_2021',\n",
       " 'foodtypes_../TFM_Granatiero_Data/Datos_Init_01_05_2021',\n",
       " 'users-permissions_permission_../TFM_Granatiero_Data/Datos_Init_01_05_2021',\n",
       " 'homecards_../TFM_Granatiero_Data/Datos_Init_01_05_2021',\n",
       " 'profiles__food_types_../TFM_Granatiero_Data/Datos_Init_01_05_2021',\n",
       " 'strapi_webhooks_../TFM_Granatiero_Data/Datos_Init_01_05_2021',\n",
       " 'profiles__favorites_../TFM_Granatiero_Data/Datos_Init_01_05_2021',\n",
       " 'profiles__push_tokens_../TFM_Granatiero_Data/Datos_Init_01_05_2021',\n",
       " 'app_homes__home_cards_../TFM_Granatiero_Data/Datos_Init_01_05_2021',\n",
       " 'homes__second_action_vibes_../TFM_Granatiero_Data/Datos_Init_01_05_2021',\n",
       " 'homecards__food_types_../TFM_Granatiero_Data/Datos_Init_01_05_2021',\n",
       " 'strapi_users_roles_../TFM_Granatiero_Data/Datos_Init_01_05_2021',\n",
       " 'strapi_role_../TFM_Granatiero_Data/Datos_Init_01_05_2021',\n",
       " 'homecards__neighborhoods_../TFM_Granatiero_Data/Datos_Init_01_05_2021',\n",
       " 'core_store_../TFM_Granatiero_Data/Datos_Init_01_05_2021',\n",
       " 'cities_../TFM_Granatiero_Data/Datos_Init_01_05_2021',\n",
       " 'permissions_role_../TFM_Granatiero_Data/Datos_Init_01_05_2021',\n",
       " 'vibes_../TFM_Granatiero_Data/Datos_Init_01_05_2021',\n",
       " 'permissions_user_../TFM_Granatiero_Data/Datos_Init_01_05_2021',\n",
       " 'homecards__localizations_../TFM_Granatiero_Data/Datos_Init_01_05_2021',\n",
       " 'promos_../TFM_Granatiero_Data/Datos_Init_01_05_2021',\n",
       " 'components_restaurants_promoteds__vibes_../TFM_Granatiero_Data/Datos_Init_01_05_2021',\n",
       " 'locales_../TFM_Granatiero_Data/Datos_Init_01_05_2021',\n",
       " 'components_restaurants_promoteds__food_types_../TFM_Granatiero_Data/Datos_Init_01_05_2021',\n",
       " 'promos__vibes_../TFM_Granatiero_Data/Datos_Init_01_05_2021',\n",
       " 'components_restaurants_information_../TFM_Granatiero_Data/Datos_Init_01_05_2021',\n",
       " 'promos__food_types_../TFM_Granatiero_Data/Datos_Init_01_05_2021',\n",
       " 'app_homes_../TFM_Granatiero_Data/Datos_Init_01_05_2021',\n",
       " 'homes__first_action_vibes_../TFM_Granatiero_Data/Datos_Init_01_05_2021',\n",
       " 'restaurants__vibes_../TFM_Granatiero_Data/Datos_Init_01_05_2021',\n",
       " 'upload_file_morph_../TFM_Granatiero_Data/Datos_Init_01_05_2021',\n",
       " 'upload_file_../TFM_Granatiero_Data/Datos_Init_01_05_2021',\n",
       " 'components_restaurants_cover_managers_../TFM_Granatiero_Data/Datos_Init_01_05_2021',\n",
       " 'restaurants__food_types_../TFM_Granatiero_Data/Datos_Init_01_05_2021',\n",
       " 'components_restaurants_geolocations_../TFM_Granatiero_Data/Datos_Init_01_05_2021',\n",
       " 'profiles__blacklist_../TFM_Granatiero_Data/Datos_Init_01_05_2021',\n",
       " 'cities__neighborhoods_../TFM_Granatiero_Data/Datos_Init_01_05_2021',\n",
       " 'strapi_administrator_../TFM_Granatiero_Data/Datos_Init_01_05_2021',\n",
       " 'promos__neighborhoods_../TFM_Granatiero_Data/Datos_Init_01_05_2021',\n",
       " 'restaurants_../TFM_Granatiero_Data/Datos_Init_01_05_2021']"
      ]
     },
     "execution_count": 28,
     "metadata": {},
     "output_type": "execute_result"
    }
   ],
   "source": [
    "list_data_init = open_app_datas('../TFM_Granatiero_Data/Datos_Init_01_05_2021')\n",
    "list_data_init"
   ]
  },
  {
   "cell_type": "code",
   "execution_count": 30,
   "metadata": {},
   "outputs": [
    {
     "name": "stdout",
     "output_type": "stream",
     "text": [
      "Till may there are 196 restaurants in Madrid\n",
      "And 53 restaurants in Barcelona\n"
     ]
    }
   ],
   "source": [
    "total_set  = set(restaurants_df.name)\n",
    "barna_set  = set(restaurants_df[restaurants_df.city==5.0].name)\n",
    "madrid_set = set(restaurants_df[restaurants_df.city==4.0].name)\n",
    "\n",
    "print('Till may there are {} restaurants in Madrid'.format(len(madrid_set)))\n",
    "print('And {} restaurants in Barcelona'.format(len(barna_set)))\n"
   ]
  },
  {
   "cell_type": "markdown",
   "metadata": {},
   "source": [
    "Exception to menage: in restaurant_init there are these two duplicates"
   ]
  },
  {
   "cell_type": "code",
   "execution_count": 31,
   "metadata": {},
   "outputs": [
    {
     "name": "stdout",
     "output_type": "stream",
     "text": [
      "['Kappo', 'Salvaje']\n"
     ]
    }
   ],
   "source": [
    "list_of_mad = list(restaurants_df[restaurants_df.city==4.0].name)\n",
    "import collections\n",
    "\n",
    "print([item for item, count in collections.Counter(list_of_mad).items() if count > 1])\n"
   ]
  },
  {
   "cell_type": "markdown",
   "metadata": {},
   "source": [
    "### Counting the cities of all restaurants"
   ]
  },
  {
   "cell_type": "code",
   "execution_count": 33,
   "metadata": {},
   "outputs": [
    {
     "data": {
      "text/plain": [
       "<matplotlib.legend.Legend at 0x1a34977f50>"
      ]
     },
     "execution_count": 33,
     "metadata": {},
     "output_type": "execute_result"
    },
    {
     "data": {
      "image/png": "[encoded data removed]",
      "text/plain": [
       "<Figure size 720x360 with 1 Axes>"
      ]
     },
     "metadata": {
      "needs_background": "light"
     },
     "output_type": "display_data"
    }
   ],
   "source": [
    "total_set  = set(restaurants_df.name)\n",
    "barna_set  = set(restaurants_df[restaurants_df.city==5.0].name)\n",
    "madrid_set = set(restaurants_df[restaurants_df.city==4.0].name)\n",
    "\n",
    "y1 = [len(madrid_set)]\n",
    "y2 = [len(barna_set)]\n",
    "y3 = [len(total_set) - len(madrid_set)-len(barna_set)]\n",
    "\n",
    "df = pd.DataFrame({'Madrid' : y1,'Barcelona' : y2, 'Other' : y3})\n",
    "\n",
    "ax = df.plot.barh(stacked=True,color=[ \"c\", \"tab:blue\", 'grey']);\n",
    "\n",
    "ax.figure.set_size_inches(10,5)\n",
    "ax.text(y1[0]/2, 0, str(round((y1[0]/len(total_set)*100),2))+'%', ha='center', va='bottom')\n",
    "ax.text(y1[0] + y2[0]/2, 0, str(round((y2[0]/len(total_set)*100),2))+'%', ha='center', va='bottom')\n",
    "ax.text(y1[0] + y2[0] + y3[0]/2, 0, str(round((y3[0]/len(total_set)*100),2))+'%', ha='center', va='bottom')\n",
    "\n",
    "ax.set_title(\"{} total restaurants\".format(len(total_set)))\n",
    "ax.legend(loc='upper left')\n",
    "\n",
    "#ax.figure.savefig('TFM_figures/Total_Restaurants.jpg', dpi=300, bbox_inches=\"tight\")"
   ]
  },
  {
   "cell_type": "markdown",
   "metadata": {},
   "source": [
    "Second exception to manage: four restaurants with the same name: there are four restuarants based both in Madrid and Barcelona."
   ]
  },
  {
   "cell_type": "code",
   "execution_count": 34,
   "metadata": {},
   "outputs": [
    {
     "data": {
      "text/html": [
       "<div>\n",
       "<style scoped>\n",
       "    .dataframe tbody tr th:only-of-type {\n",
       "        vertical-align: middle;\n",
       "    }\n",
       "\n",
       "    .dataframe tbody tr th {\n",
       "        vertical-align: top;\n",
       "    }\n",
       "\n",
       "    .dataframe thead th {\n",
       "        text-align: right;\n",
       "    }\n",
       "</style>\n",
       "<table border=\"1\" class=\"dataframe\">\n",
       "  <thead>\n",
       "    <tr style=\"text-align: right;\">\n",
       "      <th></th>\n",
       "      <th>id</th>\n",
       "      <th>name</th>\n",
       "      <th>chef</th>\n",
       "      <th>price</th>\n",
       "      <th>specialDish</th>\n",
       "      <th>phoneNumber</th>\n",
       "      <th>bookUrl</th>\n",
       "      <th>instagramUrl</th>\n",
       "      <th>chefInstagramUrl</th>\n",
       "      <th>mapUrl</th>\n",
       "      <th>...</th>\n",
       "      <th>legacy_id</th>\n",
       "      <th>published_at</th>\n",
       "      <th>created_by</th>\n",
       "      <th>updated_by</th>\n",
       "      <th>created_at</th>\n",
       "      <th>updated_at</th>\n",
       "      <th>neighborhood</th>\n",
       "      <th>city</th>\n",
       "      <th>reservation</th>\n",
       "      <th>slug</th>\n",
       "    </tr>\n",
       "  </thead>\n",
       "  <tbody>\n",
       "    <tr>\n",
       "      <th>20</th>\n",
       "      <td>332</td>\n",
       "      <td>99 Sushi Bar</td>\n",
       "      <td>Roberto Limas</td>\n",
       "      <td>80€ pp</td>\n",
       "      <td>Nigiri de toro flambeado con tomate</td>\n",
       "      <td>+34 914312715</td>\n",
       "      <td>https://www.covermanager.com/reserve/module_re...</td>\n",
       "      <td>https://www.instagram.com/99sushibar/</td>\n",
       "      <td>https://www.instagram.com/robertolimas_chef99/</td>\n",
       "      <td>https://goo.gl/maps/urom3wJ2sYnh9XQ2A</td>\n",
       "      <td>...</td>\n",
       "      <td>6sJABHM2rR4lpfzy114P</td>\n",
       "      <td>2021-01-20 16:50:18</td>\n",
       "      <td>NaN</td>\n",
       "      <td>1.0</td>\n",
       "      <td>2021-01-20 16:50:18</td>\n",
       "      <td>2021-04-26 15:03:29</td>\n",
       "      <td>34.0</td>\n",
       "      <td>4.0</td>\n",
       "      <td>NaN</td>\n",
       "      <td>99-sushi-bar</td>\n",
       "    </tr>\n",
       "    <tr>\n",
       "      <th>55</th>\n",
       "      <td>367</td>\n",
       "      <td>99 Sushi Bar</td>\n",
       "      <td>Roberto Limas</td>\n",
       "      <td>80€ per person</td>\n",
       "      <td>Toro tuna</td>\n",
       "      <td>+34 936 396 217</td>\n",
       "      <td>https://www.covermanager.com/reserve/module_re...</td>\n",
       "      <td>https://www.instagram.com/99sushibar/</td>\n",
       "      <td>https://www.instagram.com/robertolimas_chef99/</td>\n",
       "      <td>https://goo.gl/maps/AhqSx1kMitiGJ9cs8</td>\n",
       "      <td>...</td>\n",
       "      <td>L7K8AjkHioJt1Ke8oLCC</td>\n",
       "      <td>2021-01-20 16:51:35</td>\n",
       "      <td>NaN</td>\n",
       "      <td>1.0</td>\n",
       "      <td>2021-01-20 16:51:35</td>\n",
       "      <td>2021-04-26 15:03:35</td>\n",
       "      <td>39.0</td>\n",
       "      <td>5.0</td>\n",
       "      <td>NaN</td>\n",
       "      <td>99-sushi-bar-1</td>\n",
       "    </tr>\n",
       "  </tbody>\n",
       "</table>\n",
       "<p>2 rows × 29 columns</p>\n",
       "</div>"
      ],
      "text/plain": [
       "     id          name           chef           price  \\\n",
       "20  332  99 Sushi Bar  Roberto Limas          80€ pp   \n",
       "55  367  99 Sushi Bar  Roberto Limas  80€ per person   \n",
       "\n",
       "                            specialDish      phoneNumber  \\\n",
       "20  Nigiri de toro flambeado con tomate    +34 914312715   \n",
       "55                            Toro tuna  +34 936 396 217   \n",
       "\n",
       "                                              bookUrl  \\\n",
       "20  https://www.covermanager.com/reserve/module_re...   \n",
       "55  https://www.covermanager.com/reserve/module_re...   \n",
       "\n",
       "                             instagramUrl  \\\n",
       "20  https://www.instagram.com/99sushibar/   \n",
       "55  https://www.instagram.com/99sushibar/   \n",
       "\n",
       "                                  chefInstagramUrl  \\\n",
       "20  https://www.instagram.com/robertolimas_chef99/   \n",
       "55  https://www.instagram.com/robertolimas_chef99/   \n",
       "\n",
       "                                   mapUrl  ...             legacy_id  \\\n",
       "20  https://goo.gl/maps/urom3wJ2sYnh9XQ2A  ...  6sJABHM2rR4lpfzy114P   \n",
       "55  https://goo.gl/maps/AhqSx1kMitiGJ9cs8  ...  L7K8AjkHioJt1Ke8oLCC   \n",
       "\n",
       "           published_at created_by updated_by           created_at  \\\n",
       "20  2021-01-20 16:50:18        NaN        1.0  2021-01-20 16:50:18   \n",
       "55  2021-01-20 16:51:35        NaN        1.0  2021-01-20 16:51:35   \n",
       "\n",
       "             updated_at  neighborhood  city  reservation            slug  \n",
       "20  2021-04-26 15:03:29          34.0   4.0          NaN    99-sushi-bar  \n",
       "55  2021-04-26 15:03:35          39.0   5.0          NaN  99-sushi-bar-1  \n",
       "\n",
       "[2 rows x 29 columns]"
      ]
     },
     "execution_count": 34,
     "metadata": {},
     "output_type": "execute_result"
    }
   ],
   "source": [
    "restaurants_df[restaurants_df.name=='99 Sushi Bar']"
   ]
  },
  {
   "cell_type": "code",
   "execution_count": 35,
   "metadata": {},
   "outputs": [
    {
     "data": {
      "text/html": [
       "<div>\n",
       "<style scoped>\n",
       "    .dataframe tbody tr th:only-of-type {\n",
       "        vertical-align: middle;\n",
       "    }\n",
       "\n",
       "    .dataframe tbody tr th {\n",
       "        vertical-align: top;\n",
       "    }\n",
       "\n",
       "    .dataframe thead th {\n",
       "        text-align: right;\n",
       "    }\n",
       "</style>\n",
       "<table border=\"1\" class=\"dataframe\">\n",
       "  <thead>\n",
       "    <tr style=\"text-align: right;\">\n",
       "      <th></th>\n",
       "      <th>id</th>\n",
       "      <th>name</th>\n",
       "      <th>chef</th>\n",
       "      <th>price</th>\n",
       "      <th>specialDish</th>\n",
       "      <th>phoneNumber</th>\n",
       "      <th>bookUrl</th>\n",
       "      <th>instagramUrl</th>\n",
       "      <th>chefInstagramUrl</th>\n",
       "      <th>mapUrl</th>\n",
       "      <th>...</th>\n",
       "      <th>legacy_id</th>\n",
       "      <th>published_at</th>\n",
       "      <th>created_by</th>\n",
       "      <th>updated_by</th>\n",
       "      <th>created_at</th>\n",
       "      <th>updated_at</th>\n",
       "      <th>neighborhood</th>\n",
       "      <th>city</th>\n",
       "      <th>reservation</th>\n",
       "      <th>slug</th>\n",
       "    </tr>\n",
       "  </thead>\n",
       "  <tbody>\n",
       "    <tr>\n",
       "      <th>287</th>\n",
       "      <td>601</td>\n",
       "      <td>Cadaqués</td>\n",
       "      <td>NaN</td>\n",
       "      <td>35-50€ pp</td>\n",
       "      <td>Mejillones con sofrito picante</td>\n",
       "      <td>+34932687033</td>\n",
       "      <td>https://module.lafourchette.com/es_ES/module/2...</td>\n",
       "      <td>https://www.instagram.com/restaurantcadaquesbcn/</td>\n",
       "      <td>NaN</td>\n",
       "      <td>https://g.page/cadaquesbarcelona?share</td>\n",
       "      <td>...</td>\n",
       "      <td>NaN</td>\n",
       "      <td>NaN</td>\n",
       "      <td>2.0</td>\n",
       "      <td>2.0</td>\n",
       "      <td>2021-05-04 23:18:14</td>\n",
       "      <td>2021-05-04 23:36:30</td>\n",
       "      <td>37.0</td>\n",
       "      <td>5.0</td>\n",
       "      <td>NaN</td>\n",
       "      <td>cadaques</td>\n",
       "    </tr>\n",
       "    <tr>\n",
       "      <th>288</th>\n",
       "      <td>602</td>\n",
       "      <td>Cadaqués</td>\n",
       "      <td>NaN</td>\n",
       "      <td>NaN</td>\n",
       "      <td>NaN</td>\n",
       "      <td>NaN</td>\n",
       "      <td>NaN</td>\n",
       "      <td>NaN</td>\n",
       "      <td>NaN</td>\n",
       "      <td>NaN</td>\n",
       "      <td>...</td>\n",
       "      <td>NaN</td>\n",
       "      <td>NaN</td>\n",
       "      <td>2.0</td>\n",
       "      <td>2.0</td>\n",
       "      <td>2021-05-04 23:23:49</td>\n",
       "      <td>2021-05-04 23:23:55</td>\n",
       "      <td>34.0</td>\n",
       "      <td>4.0</td>\n",
       "      <td>NaN</td>\n",
       "      <td>cadaques-1</td>\n",
       "    </tr>\n",
       "  </tbody>\n",
       "</table>\n",
       "<p>2 rows × 29 columns</p>\n",
       "</div>"
      ],
      "text/plain": [
       "      id      name chef      price                     specialDish  \\\n",
       "287  601  Cadaqués  NaN  35-50€ pp  Mejillones con sofrito picante   \n",
       "288  602  Cadaqués  NaN        NaN                             NaN   \n",
       "\n",
       "      phoneNumber                                            bookUrl  \\\n",
       "287  +34932687033  https://module.lafourchette.com/es_ES/module/2...   \n",
       "288           NaN                                                NaN   \n",
       "\n",
       "                                         instagramUrl chefInstagramUrl  \\\n",
       "287  https://www.instagram.com/restaurantcadaquesbcn/              NaN   \n",
       "288                                               NaN              NaN   \n",
       "\n",
       "                                     mapUrl  ... legacy_id published_at  \\\n",
       "287  https://g.page/cadaquesbarcelona?share  ...       NaN          NaN   \n",
       "288                                     NaN  ...       NaN          NaN   \n",
       "\n",
       "    created_by updated_by           created_at           updated_at  \\\n",
       "287        2.0        2.0  2021-05-04 23:18:14  2021-05-04 23:36:30   \n",
       "288        2.0        2.0  2021-05-04 23:23:49  2021-05-04 23:23:55   \n",
       "\n",
       "     neighborhood  city  reservation        slug  \n",
       "287          37.0   5.0          NaN    cadaques  \n",
       "288          34.0   4.0          NaN  cadaques-1  \n",
       "\n",
       "[2 rows x 29 columns]"
      ]
     },
     "execution_count": 35,
     "metadata": {},
     "output_type": "execute_result"
    }
   ],
   "source": [
    "restaurants_df[restaurants_df.name=='Cadaqués']"
   ]
  },
  {
   "cell_type": "code",
   "execution_count": 36,
   "metadata": {},
   "outputs": [
    {
     "data": {
      "text/html": [
       "<div>\n",
       "<style scoped>\n",
       "    .dataframe tbody tr th:only-of-type {\n",
       "        vertical-align: middle;\n",
       "    }\n",
       "\n",
       "    .dataframe tbody tr th {\n",
       "        vertical-align: top;\n",
       "    }\n",
       "\n",
       "    .dataframe thead th {\n",
       "        text-align: right;\n",
       "    }\n",
       "</style>\n",
       "<table border=\"1\" class=\"dataframe\">\n",
       "  <thead>\n",
       "    <tr style=\"text-align: right;\">\n",
       "      <th></th>\n",
       "      <th>id</th>\n",
       "      <th>name</th>\n",
       "      <th>chef</th>\n",
       "      <th>price</th>\n",
       "      <th>specialDish</th>\n",
       "      <th>phoneNumber</th>\n",
       "      <th>bookUrl</th>\n",
       "      <th>instagramUrl</th>\n",
       "      <th>chefInstagramUrl</th>\n",
       "      <th>mapUrl</th>\n",
       "      <th>...</th>\n",
       "      <th>legacy_id</th>\n",
       "      <th>published_at</th>\n",
       "      <th>created_by</th>\n",
       "      <th>updated_by</th>\n",
       "      <th>created_at</th>\n",
       "      <th>updated_at</th>\n",
       "      <th>neighborhood</th>\n",
       "      <th>city</th>\n",
       "      <th>reservation</th>\n",
       "      <th>slug</th>\n",
       "    </tr>\n",
       "  </thead>\n",
       "  <tbody>\n",
       "    <tr>\n",
       "      <th>250</th>\n",
       "      <td>562</td>\n",
       "      <td>EatMyTrip</td>\n",
       "      <td>Genia Sukhacheva</td>\n",
       "      <td>20-30€ pp</td>\n",
       "      <td>Pancake party</td>\n",
       "      <td>+34611151030</td>\n",
       "      <td>https://admin.spotlinker.com/reservas/widget/4...</td>\n",
       "      <td>https://www.instagram.com/eatmytripmadrid/</td>\n",
       "      <td>https://www.instagram.com/geniasukhacheva/</td>\n",
       "      <td>https://g.page/eatmytripmadrid?share</td>\n",
       "      <td>...</td>\n",
       "      <td>NaN</td>\n",
       "      <td>2021-04-01 16:59:49</td>\n",
       "      <td>2.0</td>\n",
       "      <td>1.0</td>\n",
       "      <td>2021-03-31 09:38:28</td>\n",
       "      <td>2021-04-26 15:09:32</td>\n",
       "      <td>25.0</td>\n",
       "      <td>4.0</td>\n",
       "      <td>NaN</td>\n",
       "      <td>eat-my-trip</td>\n",
       "    </tr>\n",
       "    <tr>\n",
       "      <th>269</th>\n",
       "      <td>581</td>\n",
       "      <td>EatMyTrip</td>\n",
       "      <td>Genia Sukhacheva</td>\n",
       "      <td>20-30€ pp</td>\n",
       "      <td>Pancake party</td>\n",
       "      <td>+34635260286</td>\n",
       "      <td>NaN</td>\n",
       "      <td>https://www.instagram.com/eatmytrip/</td>\n",
       "      <td>https://www.instagram.com/geniasukhacheva/</td>\n",
       "      <td>https://g.page/eatmytrip?share</td>\n",
       "      <td>...</td>\n",
       "      <td>NaN</td>\n",
       "      <td>2021-04-21 18:46:54</td>\n",
       "      <td>2.0</td>\n",
       "      <td>1.0</td>\n",
       "      <td>2021-04-21 17:57:28</td>\n",
       "      <td>2021-04-26 15:09:38</td>\n",
       "      <td>31.0</td>\n",
       "      <td>5.0</td>\n",
       "      <td>NaN</td>\n",
       "      <td>eat-my-trip-1</td>\n",
       "    </tr>\n",
       "  </tbody>\n",
       "</table>\n",
       "<p>2 rows × 29 columns</p>\n",
       "</div>"
      ],
      "text/plain": [
       "      id       name              chef      price    specialDish   phoneNumber  \\\n",
       "250  562  EatMyTrip  Genia Sukhacheva  20-30€ pp  Pancake party  +34611151030   \n",
       "269  581  EatMyTrip  Genia Sukhacheva  20-30€ pp  Pancake party  +34635260286   \n",
       "\n",
       "                                               bookUrl  \\\n",
       "250  https://admin.spotlinker.com/reservas/widget/4...   \n",
       "269                                                NaN   \n",
       "\n",
       "                                   instagramUrl  \\\n",
       "250  https://www.instagram.com/eatmytripmadrid/   \n",
       "269        https://www.instagram.com/eatmytrip/   \n",
       "\n",
       "                               chefInstagramUrl  \\\n",
       "250  https://www.instagram.com/geniasukhacheva/   \n",
       "269  https://www.instagram.com/geniasukhacheva/   \n",
       "\n",
       "                                   mapUrl  ... legacy_id         published_at  \\\n",
       "250  https://g.page/eatmytripmadrid?share  ...       NaN  2021-04-01 16:59:49   \n",
       "269        https://g.page/eatmytrip?share  ...       NaN  2021-04-21 18:46:54   \n",
       "\n",
       "    created_by updated_by           created_at           updated_at  \\\n",
       "250        2.0        1.0  2021-03-31 09:38:28  2021-04-26 15:09:32   \n",
       "269        2.0        1.0  2021-04-21 17:57:28  2021-04-26 15:09:38   \n",
       "\n",
       "     neighborhood  city  reservation           slug  \n",
       "250          25.0   4.0          NaN    eat-my-trip  \n",
       "269          31.0   5.0          NaN  eat-my-trip-1  \n",
       "\n",
       "[2 rows x 29 columns]"
      ]
     },
     "execution_count": 36,
     "metadata": {},
     "output_type": "execute_result"
    }
   ],
   "source": [
    "restaurants_df[restaurants_df.name=='EatMyTrip']"
   ]
  },
  {
   "cell_type": "code",
   "execution_count": 37,
   "metadata": {},
   "outputs": [
    {
     "data": {
      "text/html": [
       "<div>\n",
       "<style scoped>\n",
       "    .dataframe tbody tr th:only-of-type {\n",
       "        vertical-align: middle;\n",
       "    }\n",
       "\n",
       "    .dataframe tbody tr th {\n",
       "        vertical-align: top;\n",
       "    }\n",
       "\n",
       "    .dataframe thead th {\n",
       "        text-align: right;\n",
       "    }\n",
       "</style>\n",
       "<table border=\"1\" class=\"dataframe\">\n",
       "  <thead>\n",
       "    <tr style=\"text-align: right;\">\n",
       "      <th></th>\n",
       "      <th>id</th>\n",
       "      <th>name</th>\n",
       "      <th>chef</th>\n",
       "      <th>price</th>\n",
       "      <th>specialDish</th>\n",
       "      <th>phoneNumber</th>\n",
       "      <th>bookUrl</th>\n",
       "      <th>instagramUrl</th>\n",
       "      <th>chefInstagramUrl</th>\n",
       "      <th>mapUrl</th>\n",
       "      <th>...</th>\n",
       "      <th>legacy_id</th>\n",
       "      <th>published_at</th>\n",
       "      <th>created_by</th>\n",
       "      <th>updated_by</th>\n",
       "      <th>created_at</th>\n",
       "      <th>updated_at</th>\n",
       "      <th>neighborhood</th>\n",
       "      <th>city</th>\n",
       "      <th>reservation</th>\n",
       "      <th>slug</th>\n",
       "    </tr>\n",
       "  </thead>\n",
       "  <tbody>\n",
       "    <tr>\n",
       "      <th>76</th>\n",
       "      <td>388</td>\n",
       "      <td>Fismuler</td>\n",
       "      <td>Nino Redruello</td>\n",
       "      <td>30€ - 40€ pp</td>\n",
       "      <td>Tarta de queso</td>\n",
       "      <td>+34 91 827 75 81</td>\n",
       "      <td>https://www.covermanager.com/reservation/modul...</td>\n",
       "      <td>https://www.instagram.com/fismuler</td>\n",
       "      <td>https://www.instagram.com/ninoredruello/</td>\n",
       "      <td>https://g.page/fismuler-madrid?share</td>\n",
       "      <td>...</td>\n",
       "      <td>Rm4dHjqPZaLkfgwqdc4n</td>\n",
       "      <td>2021-01-20 16:52:21</td>\n",
       "      <td>NaN</td>\n",
       "      <td>1.0</td>\n",
       "      <td>2021-01-20 16:52:21</td>\n",
       "      <td>2021-04-26 15:07:10</td>\n",
       "      <td>24.0</td>\n",
       "      <td>4.0</td>\n",
       "      <td>NaN</td>\n",
       "      <td>fismuler</td>\n",
       "    </tr>\n",
       "    <tr>\n",
       "      <th>292</th>\n",
       "      <td>606</td>\n",
       "      <td>Fismuler</td>\n",
       "      <td>NaN</td>\n",
       "      <td>30-40€ pp</td>\n",
       "      <td>NaN</td>\n",
       "      <td>+34935140050</td>\n",
       "      <td>https://www.covermanager.com/reservation/modul...</td>\n",
       "      <td>https://www.instagram.com/fismuler</td>\n",
       "      <td>NaN</td>\n",
       "      <td>https://www.google.com/maps/place/Fismuler/@41...</td>\n",
       "      <td>...</td>\n",
       "      <td>Rm4dHjqPZaLkfgwqdc4n</td>\n",
       "      <td>2021-05-06 01:12:39</td>\n",
       "      <td>2.0</td>\n",
       "      <td>2.0</td>\n",
       "      <td>2021-05-06 01:12:35</td>\n",
       "      <td>2021-05-06 01:12:39</td>\n",
       "      <td>36.0</td>\n",
       "      <td>5.0</td>\n",
       "      <td>NaN</td>\n",
       "      <td>fismuler-1</td>\n",
       "    </tr>\n",
       "  </tbody>\n",
       "</table>\n",
       "<p>2 rows × 29 columns</p>\n",
       "</div>"
      ],
      "text/plain": [
       "      id      name            chef         price     specialDish  \\\n",
       "76   388  Fismuler  Nino Redruello  30€ - 40€ pp  Tarta de queso   \n",
       "292  606  Fismuler             NaN     30-40€ pp             NaN   \n",
       "\n",
       "          phoneNumber                                            bookUrl  \\\n",
       "76   +34 91 827 75 81  https://www.covermanager.com/reservation/modul...   \n",
       "292      +34935140050  https://www.covermanager.com/reservation/modul...   \n",
       "\n",
       "                           instagramUrl  \\\n",
       "76   https://www.instagram.com/fismuler   \n",
       "292  https://www.instagram.com/fismuler   \n",
       "\n",
       "                             chefInstagramUrl  \\\n",
       "76   https://www.instagram.com/ninoredruello/   \n",
       "292                                       NaN   \n",
       "\n",
       "                                                mapUrl  ...  \\\n",
       "76                https://g.page/fismuler-madrid?share  ...   \n",
       "292  https://www.google.com/maps/place/Fismuler/@41...  ...   \n",
       "\n",
       "                legacy_id         published_at created_by updated_by  \\\n",
       "76   Rm4dHjqPZaLkfgwqdc4n  2021-01-20 16:52:21        NaN        1.0   \n",
       "292  Rm4dHjqPZaLkfgwqdc4n  2021-05-06 01:12:39        2.0        2.0   \n",
       "\n",
       "              created_at           updated_at  neighborhood  city  \\\n",
       "76   2021-01-20 16:52:21  2021-04-26 15:07:10          24.0   4.0   \n",
       "292  2021-05-06 01:12:35  2021-05-06 01:12:39          36.0   5.0   \n",
       "\n",
       "     reservation        slug  \n",
       "76           NaN    fismuler  \n",
       "292          NaN  fismuler-1  \n",
       "\n",
       "[2 rows x 29 columns]"
      ]
     },
     "execution_count": 37,
     "metadata": {},
     "output_type": "execute_result"
    }
   ],
   "source": [
    "restaurants_df[restaurants_df.name=='Fismuler']"
   ]
  },
  {
   "cell_type": "markdown",
   "metadata": {},
   "source": [
    "Checking they not affect the recomm"
   ]
  },
  {
   "cell_type": "markdown",
   "metadata": {},
   "source": [
    "checking if all users acutally like Fismuler, likes other restaurants just from madrid"
   ]
  },
  {
   "cell_type": "code",
   "execution_count": 38,
   "metadata": {},
   "outputs": [],
   "source": [
    "Fismuler_users = set(data_full[data_full.name_string_value=='Fismuler'].user_pseudo_id)\n",
    "usr_to_check=[]\n",
    "for u in Fismuler_users:\n",
    "    if len(set(data_full[data_full.user_pseudo_id==u].name_string_value))<=3:\n",
    "           usr_to_check.append(u)\n",
    "           "
   ]
  },
  {
   "cell_type": "code",
   "execution_count": 39,
   "metadata": {},
   "outputs": [
    {
     "data": {
      "text/plain": [
       "14"
      ]
     },
     "execution_count": 39,
     "metadata": {},
     "output_type": "execute_result"
    }
   ],
   "source": [
    "len(usr_to_check)"
   ]
  },
  {
   "cell_type": "code",
   "execution_count": 57,
   "metadata": {},
   "outputs": [],
   "source": [
    "checked_Fismuler = []\n",
    "for u in usr_to_check:\n",
    "    for rest in set(data_full[data_full.user_pseudo_id==u].name_string_value) - set([np.nan, 'Fismuler']):\n",
    "           checked_Fismuler.append(rest)"
   ]
  },
  {
   "cell_type": "markdown",
   "metadata": {},
   "source": [
    "All the restaurants are from madrid so the users"
   ]
  },
  {
   "cell_type": "code",
   "execution_count": 61,
   "metadata": {},
   "outputs": [
    {
     "data": {
      "text/plain": [
       "True"
      ]
     },
     "execution_count": 61,
     "metadata": {},
     "output_type": "execute_result"
    }
   ],
   "source": [
    "set(checked_Fismuler) - madrid_set == set()"
   ]
  },
  {
   "cell_type": "code",
   "execution_count": 62,
   "metadata": {},
   "outputs": [
    {
     "data": {
      "text/plain": [
       "0"
      ]
     },
     "execution_count": 62,
     "metadata": {},
     "output_type": "execute_result"
    }
   ],
   "source": [
    "Sushi99_users = set(data_full[data_full.name_string_value=='99 Sushi Bar'].user_pseudo_id)\n",
    "usr_to_check99=[]\n",
    "for u in Sushi99_users:\n",
    "    if len(set(data_full[data_full.user_pseudo_id==u].name_string_value))<=3:\n",
    "           usr_to_check99.append(u)\n",
    "len(usr_to_check99)           "
   ]
  },
  {
   "cell_type": "code",
   "execution_count": 41,
   "metadata": {},
   "outputs": [
    {
     "data": {
      "text/plain": [
       "16"
      ]
     },
     "execution_count": 41,
     "metadata": {},
     "output_type": "execute_result"
    }
   ],
   "source": [
    "EatMyTrip_users = set(data_full[data_full.name_string_value=='EatMyTrip'].user_pseudo_id)\n",
    "usr_to_check_EatMyTrip=[]\n",
    "for u in EatMyTrip_users:\n",
    "    if len(set(data_full[data_full.user_pseudo_id==u].name_string_value))<=3:\n",
    "           usr_to_check_EatMyTrip.append(u)\n",
    "len(usr_to_check_EatMyTrip) "
   ]
  },
  {
   "cell_type": "code",
   "execution_count": 63,
   "metadata": {},
   "outputs": [],
   "source": [
    "checked_EatMyTrip = []\n",
    "for u in usr_to_check_EatMyTrip:\n",
    "    for rest in set(data_full[data_full.user_pseudo_id==u].name_string_value) - set([np.nan, 'EatMyTrip']):\n",
    "           checked_EatMyTrip.append(rest)"
   ]
  },
  {
   "cell_type": "markdown",
   "metadata": {},
   "source": [
    "Actually considering these restaurant we are taking into account just one user from Barcelona. This will not affect the recomm but has to be considered in the future"
   ]
  },
  {
   "cell_type": "code",
   "execution_count": 67,
   "metadata": {},
   "outputs": [
    {
     "data": {
      "text/plain": [
       "1"
      ]
     },
     "execution_count": 67,
     "metadata": {},
     "output_type": "execute_result"
    }
   ],
   "source": [
    "len(set(checked_EatMyTrip) - madrid_set)"
   ]
  },
  {
   "cell_type": "code",
   "execution_count": 68,
   "metadata": {},
   "outputs": [
    {
     "data": {
      "text/plain": [
       "0"
      ]
     },
     "execution_count": 68,
     "metadata": {},
     "output_type": "execute_result"
    }
   ],
   "source": [
    "Cadaqu_users = set(data_full[data_full.name_string_value=='Cadaqués'].user_pseudo_id)\n",
    "usr_Cadaqu=[]\n",
    "for u in Cadaqu_users:\n",
    "    if len(set(data_full[data_full.user_pseudo_id==u].name_string_value))<=3:\n",
    "           usr_to_Cadaqu.append(u)\n",
    "len(usr_Cadaqu) "
   ]
  },
  {
   "cell_type": "markdown",
   "metadata": {},
   "source": [
    "### Restaurant based on interactions"
   ]
  },
  {
   "cell_type": "code",
   "execution_count": 69,
   "metadata": {},
   "outputs": [
    {
     "data": {
      "text/plain": [
       "'On the total 289 restaurants, 244 are active'"
      ]
     },
     "execution_count": 69,
     "metadata": {},
     "output_type": "execute_result"
    }
   ],
   "source": [
    "'On the total {} restaurants, {} are active'.format(len(total_set), len(set(data_full.name_string_value)))"
   ]
  },
  {
   "cell_type": "markdown",
   "metadata": {},
   "source": [
    "These restaurants are not in restaurants_Datos_Init_01_05_2021 df and they will not be considered\n"
   ]
  },
  {
   "cell_type": "code",
   "execution_count": 70,
   "metadata": {},
   "outputs": [
    {
     "data": {
      "text/plain": [
       "{'Bodegas Santa Cecilia (tienda)',\n",
       " 'Buscamos colaboradores en Barcelona',\n",
       " 'Cañadio',\n",
       " 'Derechito',\n",
       " 'Ferretería by EGO',\n",
       " 'Hutong 81',\n",
       " 'Maridaje',\n",
       " 'Mercado de Ibiza (Tardeo)',\n",
       " 'Restaurante Brisa',\n",
       " 'Velada Premium BCN',\n",
       " 'Velada Premium MAD',\n",
       " 'Víavélez',\n",
       " nan,\n",
       " '🛵 Fat Barbies'}"
      ]
     },
     "execution_count": 70,
     "metadata": {},
     "output_type": "execute_result"
    }
   ],
   "source": [
    "active_madrid = set(simple_data_uncleaned.name_string_value)\n",
    "not_mad_full = set(data_full.name_string_value) - active_madrid\n",
    "not_in_init = not_mad_full - total_set\n",
    "not_in_init"
   ]
  },
  {
   "cell_type": "markdown",
   "metadata": {},
   "source": [
    "These restaurants are based in Madrid for init but are not in data_full (no one interacted with them)\n"
   ]
  },
  {
   "cell_type": "code",
   "execution_count": 71,
   "metadata": {},
   "outputs": [
    {
     "data": {
      "text/plain": [
       "{'99 KO Sushi Bar',\n",
       " 'Cadaqués',\n",
       " 'El Pimiento Verde Quintana',\n",
       " 'Punto MX',\n",
       " 'Ramses',\n",
       " 'Santceloni',\n",
       " 'Sushita Café'}"
      ]
     },
     "execution_count": 71,
     "metadata": {},
     "output_type": "execute_result"
    }
   ],
   "source": [
    "mad_not_in_full = madrid_set - set(data_full.name_string_value) \n",
    "mad_not_in_full"
   ]
  },
  {
   "cell_type": "markdown",
   "metadata": {},
   "source": [
    "Checking if all the restaurants in the Recommender are from Madrid\n"
   ]
  },
  {
   "cell_type": "code",
   "execution_count": 72,
   "metadata": {},
   "outputs": [
    {
     "data": {
      "text/plain": [
       "(189, True)"
      ]
     },
     "execution_count": 72,
     "metadata": {},
     "output_type": "execute_result"
    }
   ],
   "source": [
    "len(active_madrid), len(active_madrid) + len(mad_not_in_full) == len(madrid_set)"
   ]
  },
  {
   "cell_type": "markdown",
   "metadata": {},
   "source": [
    "### Quick check on collaborative filter analysis"
   ]
  },
  {
   "cell_type": "markdown",
   "metadata": {},
   "source": [
    "BINARY min_rated_restaurants=min_rated_users=1"
   ]
  },
  {
   "cell_type": "code",
   "execution_count": null,
   "metadata": {},
   "outputs": [],
   "source": [
    "from TFM_Collaborative_Utyls import *"
   ]
  },
  {
   "cell_type": "code",
   "execution_count": null,
   "metadata": {},
   "outputs": [],
   "source": [
    "scores = scores_bin(pre.score_data_bin, repeat=5, N_neigh=np.inf, K=5, min_rated_restaurants=1, min_rated_users=1, ts_size=0.1)\n",
    "scores"
   ]
  },
  {
   "cell_type": "markdown",
   "metadata": {},
   "source": [
    "BINARY min_rated_restaurants=min_rated_users=5"
   ]
  },
  {
   "cell_type": "code",
   "execution_count": null,
   "metadata": {},
   "outputs": [],
   "source": [
    "scores5 = scores_bin(pre.score_data_bin, repeat=5, N_neigh=np.inf, K=5, min_rated_restaurants=5, min_rated_users=5, ts_size=0.1)\n",
    "scores5"
   ]
  },
  {
   "cell_type": "markdown",
   "metadata": {},
   "source": [
    "BINARY min_rated_restaurants=min_rated_users=5, N_neigh=10"
   ]
  },
  {
   "cell_type": "code",
   "execution_count": null,
   "metadata": {},
   "outputs": [],
   "source": [
    "scores5_10 = scores_bin(pre.score_data_bin, repeat=5, N_neigh=10, K=5, min_rated_restaurants=5, min_rated_users=5, ts_size=0.1)\n",
    "scores5_10"
   ]
  },
  {
   "cell_type": "code",
   "execution_count": null,
   "metadata": {},
   "outputs": [],
   "source": []
  }
 ],
 "metadata": {
  "kernelspec": {
   "display_name": "Python 3",
   "language": "python",
   "name": "python3"
  },
  "language_info": {
   "codemirror_mode": {
    "name": "ipython",
    "version": 3
   },
   "file_extension": ".py",
   "mimetype": "text/x-python",
   "name": "python",
   "nbconvert_exporter": "python",
   "pygments_lexer": "ipython3",
   "version": "3.7.6"
  }
 },
 "nbformat": 4,
 "nbformat_minor": 4
}
